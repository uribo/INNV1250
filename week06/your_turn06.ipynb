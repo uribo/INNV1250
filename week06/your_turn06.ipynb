{
 "cells": [
  {
   "cell_type": "raw",
   "id": "f60ae9af",
   "metadata": {},
   "source": [
    "---\n",
    "title: 【課題】Rでのグラフ作成の基礎\n",
    "format: html\n",
    "keep-ipynb: true\n",
    "eval: false\n",
    "echo: true\n",
    "---"
   ]
  },
  {
   "cell_type": "markdown",
   "id": "2ebe3765",
   "metadata": {},
   "source": [
    "::: {.callout-important}\n",
    "\n",
    "以下の2つの問題について、Rコードを記述してください。\n",
    "\n",
    ":::\n",
    "\n",
    "\n",
    "## 問題: 動物データ（df_aniaml）を用いて、体長と体重の散布図を描画せよ\n"
   ]
  },
  {
   "cell_type": "code",
   "execution_count": 1,
   "id": "5956dc43",
   "metadata": {},
   "outputs": [],
   "source": [
    "#| label: 動物データの読み込み\n",
    "df_animal <-\n",
    "  readr::read_csv(\"https://raw.githubusercontent.com/uribo/tokupon_ds/main/data-raw/tokushima_zoo_animals22.csv\", col_types = \"ccdd\")"
   ]
  },
  {
   "cell_type": "code",
   "execution_count": 2,
   "id": "db081a97",
   "metadata": {},
   "outputs": [],
   "source": [
    "head(df_animal)"
   ]
  },
  {
   "cell_type": "markdown",
   "id": "85c27fdc",
   "metadata": {},
   "source": [
    "- 動物データは `df_animal` としてデータフレーム形式で保存されている。\n",
    "- 体長は`body_length_cm`、体重は`weight_kg`として変数に記録されている。\n",
    "- 散布図はx軸に`body_length_cm`、y軸に`weight_kg`を与えること。\n"
   ]
  },
  {
   "cell_type": "code",
   "execution_count": 3,
   "id": "b76f0726",
   "metadata": {
    "deletable": false
   },
   "outputs": [],
   "source": [
    "#| eval: false\n",
    "#| echo: true\n",
    "# コードを記述してセルを実行\n",
    "# ヒント：以下に記載のコードの{}内に書かれた部分を変更してください（{}は削除して実行してください）\n",
    "\n",
    "library({グラフ作成用パッケージの読み込み})\n",
    "\n",
    "ggplot(data = {グラフ作成の対象とするデータフレーム}, \n",
    "       aes(x = {x軸にする変数}, y = {y軸にする変数})) +\n",
    "  {散布図作成用の関数}()"
   ]
  },
  {
   "cell_type": "markdown",
   "id": "b97f7b06",
   "metadata": {},
   "source": [
    "## 問題: 2009年から2020年の四国4県の人口の時系列での推移を適切な方法で可視化せよ。塗り分け、凡例の表示等により、グラフ上のデータがどの県を示すかわかるようにすること。\n"
   ]
  },
  {
   "cell_type": "code",
   "execution_count": 4,
   "id": "SSDSE",
   "metadata": {
    "deletable": false
   },
   "outputs": [],
   "source": [
    "#| label: SSDSEデータの読み込み\n",
    "# 以下のコードを実行して四国4県の人口データを用意します\n",
    "df_ssdse_b_shikoku <- \n",
    "  tibble(year = rep(seq.int(2020, 2009), times = 4), \n",
    "  prefecture = rep(c(\"Tokushima\", \"Kagawa\",\"Ehime\", \"Kochi\"), each = 12), \n",
    "  population = c(719559, 728000, 736000, 744000, 750000, 755733, \n",
    "  763000, 769000, 775000, 780000, 785491, 790000, 950244, 958000, \n",
    "  963000, 968000, 973000, 976263, 980000, 985000, 989000, 992000, \n",
    "  995842, 999000, 1334841, 1346000, 1357000, 1368000, 1377000, \n",
    "  1385262, 1396000, 1406000, 1415000, 1424000, 1431493, 1438000, \n",
    "  691527, 699000, 707000, 714000, 721000, 728276, 736000, 743000, \n",
    "  751000, 758000, 764456, 769000))\n",
    "\n",
    "head(df_ssdse_b_shikoku, n = 3)"
   ]
  },
  {
   "cell_type": "code",
   "execution_count": 5,
   "id": "7b86e081",
   "metadata": {
    "deletable": false
   },
   "outputs": [],
   "source": [
    "# コードを記述してセルを実行"
   ]
  }
 ],
 "metadata": {
  "jupytext": {
   "formats": "ipynb,qmd",
   "text_representation": {
    "extension": ".qmd",
    "format_name": "quarto",
    "format_version": "1.0",
    "jupytext_version": "1.14.5"
   }
  },
  "kernelspec": {
   "display_name": "R",
   "language": "R",
   "name": "ir"
  },
  "language_info": {
   "codemirror_mode": "r",
   "file_extension": ".r",
   "mimetype": "text/x-r-source",
   "name": "R",
   "pygments_lexer": "r",
   "version": "4.4.0"
  }
 },
 "nbformat": 4,
 "nbformat_minor": 5
}
