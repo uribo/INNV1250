{
 "cells": [
  {
   "cell_type": "raw",
   "id": "bdf72252",
   "metadata": {},
   "source": [
    "---\n",
    "title: 【課題】確率・期待値についてのクイズ\n",
    "format: html\n",
    "keep-ipynb: true\n",
    "eval: false\n",
    "echo: true\n",
    "---"
   ]
  },
  {
   "cell_type": "markdown",
   "id": "a87bde9c",
   "metadata": {},
   "source": [
    "::: {.callout-important}\n",
    "\n",
    "以下の2つの問題について、Rコードを記述してください。\n",
    "\n",
    ":::\n",
    "\n",
    "\n",
    "## 問題: 確率と独立\n",
    "\n",
    "::: {.callout-note}\n",
    "\n",
    "この問題は初回のアンケート問題と同じものです。講義内容を参考に、回答を選択してください。\n",
    "\n",
    ":::\n",
    "\n",
    "あるプロ野球選手は今シーズンの序盤から終盤近くなった今日の試合まで、打率3割を維持してきました。そのため解説者が、「今日の試合で1、2打席目と凡退しているので、この3打席目にはヒットを出す確率が高まりましたよ」と指摘しました。「打率3割」の意味あいを考えた場合、以下の選択肢のうち、もっとも適切と思われる項目はどれでしょうか?1つを選んでください。\n",
    "\n",
    "回答のみを残し、他の選択肢については削除またはコメントアウト（行頭に`#`を追加）してください。\n",
    "\n",
    "```\n",
    "1. 今日の試合では2打席ともに凡退しているので、今日このあとの打席でもヒットが出る確率は低い。\n",
    "2. 打率はシーズンを通しての成績なので、3、4回に一度、必ずヒットが出ることを意味しない。よって次の打席でのヒットの確率が高くなったわけではない。\n",
    "3. 「打率3割」は10回中3、4回はヒットが出ることを意味するので次の打席でのヒットが出る確率は確実に高くなっている。\n",
    "```\n",
    "\n",
    "ヒント: 下記のRコードにより、打率3割を再現したベクトルが用意されています。# 何度か`sample()`関数を実行して、第1、第2打席で「アウト」となり、第3打席が「ヒット」になりやすいかを確認すると、答えにたどり着くかもしれません。\n"
   ]
  },
  {
   "cell_type": "code",
   "execution_count": 1,
   "id": "6a83d513",
   "metadata": {},
   "outputs": [
    {
     "data": {
      "text/html": [
       "0.3"
      ],
      "text/latex": [
       "0.3"
      ],
      "text/markdown": [
       "0.3"
      ],
      "text/plain": [
       "[1] 0.3"
      ]
     },
     "metadata": {},
     "output_type": "display_data"
    },
    {
     "data": {
      "text/html": [
       "<style>\n",
       ".list-inline {list-style: none; margin:0; padding: 0}\n",
       ".list-inline>li {display: inline-block}\n",
       ".list-inline>li:not(:last-child)::after {content: \"\\00b7\"; padding: 0 .5ex}\n",
       "</style>\n",
       "<ol class=list-inline><li>'ヒット'</li><li>'アウト'</li><li>'アウト'</li></ol>\n"
      ],
      "text/latex": [
       "\\begin{enumerate*}\n",
       "\\item 'ヒット'\n",
       "\\item 'アウト'\n",
       "\\item 'アウト'\n",
       "\\end{enumerate*}\n"
      ],
      "text/markdown": [
       "1. 'ヒット'\n",
       "2. 'アウト'\n",
       "3. 'アウト'\n",
       "\n",
       "\n"
      ],
      "text/plain": [
       "[1] \"ヒット\" \"アウト\" \"アウト\""
      ]
     },
     "metadata": {},
     "output_type": "display_data"
    }
   ],
   "source": [
    "#| eval: true\n",
    "#| echo: true\n",
    "# 打率3割を再現したベクトルを用意\n",
    "at_bats <- c(\"アウト\", \"アウト\", \"アウト\", \n",
    "             \"ヒット\", \"アウト\", \"アウト\", \n",
    "             \"ヒット\", \"ヒット\", \"アウト\", \n",
    "             \"アウト\")\n",
    "\n",
    "# 打率3割\n",
    "sum(at_bats == \"ヒット\") / length(at_bats)\n",
    "\n",
    "sample(at_bats, size = 3, replace = FALSE)"
   ]
  },
  {
   "cell_type": "markdown",
   "id": "058bb62a",
   "metadata": {},
   "source": [
    "## 問題: 期待値\n",
    "\n",
    "::: {.callout-note}\n",
    "\n",
    "この問題は初回のアンケート問題と同じものです。講義内容を参考に、回答を選択してください。\n",
    "\n",
    ":::\n",
    "\n",
    "\n",
    "6面のサイコロを1回ふって出た目（上面の数字）を予測する賭けがあるとします。予測が当たると、出た目に100円を乗じた額がもらえますが、1回実施するのに400円を支払う必要があります。この賭けで儲ける方法を、以下の選択肢から選ぶとすれば、いずれでしょうか？\n",
    "\n",
    "回答のみを残し、他の選択肢については削除またはコメントアウト（行頭に`#`を追加）してください。\n",
    "\n",
    "```\n",
    "1. そもそも儲けることは期待できない。\n",
    "2. ちょうど６回繰り返せばよい。\n",
    "3. すべての目が１回は出るまで繰り返せばよい。\n",
    "```\n",
    "\n",
    "ヒント: 1度サイコロを振るのに400円使うので、儲けが出るサイコロの目は4,5,6のいずれかでなくてはいけません。サイコロの期待値は3.5です。これらの関係から儲けが出るかを判断してみましょう。"
   ]
  }
 ],
 "metadata": {
  "jupytext": {
   "formats": "ipynb,qmd",
   "text_representation": {
    "extension": ".qmd",
    "format_name": "quarto",
    "format_version": "1.0",
    "jupytext_version": "1.14.5"
   }
  },
  "kernelspec": {
   "display_name": "R",
   "language": "R",
   "name": "ir"
  }
 },
 "nbformat": 4,
 "nbformat_minor": 5
}
