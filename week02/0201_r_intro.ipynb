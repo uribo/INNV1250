{
 "cells": [
  {
   "attachments": {},
   "cell_type": "markdown",
   "metadata": {},
   "source": [
    "## Hello World"
   ]
  },
  {
   "cell_type": "code",
   "execution_count": null,
   "metadata": {
    "vscode": {
     "languageId": "r"
    }
   },
   "outputs": [],
   "source": [
    "# 行頭に # をつけた行や行の途中での # 以降はコメントとして扱われます\n",
    "# 引用符（\" または '）で囲んだ文字は文字列として処理されます\n",
    "print(\"Hello World\")\n",
    "print(\"日本語の入出力を確認します\")  # ここからはコメント"
   ]
  },
  {
   "cell_type": "markdown",
   "metadata": {
    "vscode": {
     "languageId": "r"
    }
   },
   "source": [
    "## 四則演算"
   ]
  },
  {
   "cell_type": "code",
   "execution_count": null,
   "metadata": {
    "vscode": {
     "languageId": "r"
    }
   },
   "outputs": [],
   "source": [
    "# 演算の優先順位は数学と同じ\n",
    "# 括弧内の演算 > かけ算・割り算 > 足し算・引き算\n",
    "1 + 1\n",
    "5 - 5\n",
    "2 * 3\n",
    "(2 + 4) / 3"
   ]
  },
  {
   "attachments": {},
   "cell_type": "markdown",
   "metadata": {},
   "source": [
    "## 論理演算"
   ]
  },
  {
   "cell_type": "code",
   "execution_count": null,
   "metadata": {
    "vscode": {
     "languageId": "r"
    }
   },
   "outputs": [],
   "source": [
    "# Rでは論理値ベクトルとして TRUE（真）、FALSE（偽）、NAがあります\n",
    "9 > 8\n",
    "1.1 <= 1.0\n",
    "\"apple\" == \"apple\"\n",
    "\"apple\" != \"banana\"\n",
    "\n",
    "class(c(TRUE, FALSE, NA))"
   ]
  },
  {
   "attachments": {},
   "cell_type": "markdown",
   "metadata": {},
   "source": [
    "## 変数へのオブジェクトの代入"
   ]
  },
  {
   "cell_type": "code",
   "execution_count": null,
   "metadata": {
    "vscode": {
     "languageId": "r"
    }
   },
   "outputs": [],
   "source": [
    "# Rでは <- （または ->、=）によってオブジェクトの内容を変数に割り当てます\n",
    "x <- 6\n",
    "y <- 3\n",
    "# 変数は環境中に保存され、変数名により参照できます\n",
    "z <- x + y\n",
    "z\n",
    "# 変数に保存された内容は上書きされるまで残ります\n",
    "x\n",
    "x <- 9\n",
    "x\n",
    "# xの値が変わっても変更前に計算された値には影響ありません\n",
    "z"
   ]
  },
  {
   "attachments": {},
   "cell_type": "markdown",
   "metadata": {},
   "source": [
    "## 関数"
   ]
  },
  {
   "cell_type": "code",
   "execution_count": null,
   "metadata": {
    "vscode": {
     "languageId": "r"
    }
   },
   "outputs": [],
   "source": [
    "# Rには一般的な数学関数が定義されています\n",
    "# 関数は 関数名(引数名 = 値) の形で実行します\n",
    "sqrt(x = 2) # 平方根\n",
    "sqrt(3)\n",
    "log(10) # 自然対数\n",
    "log10(100) # 常用対数（底が10の対数）\n",
    "exp(1) # 指数関数\n"
   ]
  },
  {
   "attachments": {},
   "cell_type": "markdown",
   "metadata": {},
   "source": [
    "## ドキュメントの参照\n",
    "\n",
    "`help(\"関数名\")`関数や`?関数名`のように、参照する関数名を与えて実行します。\n",
    "\n"
   ]
  },
  {
   "cell_type": "code",
   "execution_count": null,
   "metadata": {
    "vscode": {
     "languageId": "r"
    }
   },
   "outputs": [],
   "source": [
    "# ここではコメントアウトで実行しないようにしています。コメントアウトを外して実行してみましょう。\n",
    "# help(\"sqrt\")\n",
    "# ?log"
   ]
  }
 ],
 "metadata": {
  "kernelspec": {
   "display_name": "R",
   "language": "R",
   "name": "ir"
  },
  "language_info": {
   "codemirror_mode": "r",
   "file_extension": ".r",
   "mimetype": "text/x-r-source",
   "name": "R",
   "pygments_lexer": "r",
   "version": "4.2.3"
  },
  "orig_nbformat": 4
 },
 "nbformat": 4,
 "nbformat_minor": 2
}
