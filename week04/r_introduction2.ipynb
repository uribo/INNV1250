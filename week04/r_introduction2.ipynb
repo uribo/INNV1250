{
 "cells": [
  {
   "cell_type": "raw",
   "metadata": {},
   "source": [
    "---\n",
    "title: \"データ処理の手法\"\n",
    "format: html\n",
    "---"
   ]
  },
  {
   "cell_type": "markdown",
   "metadata": {},
   "source": [
    "データサイエンスはあらゆる種類のデータを処理・分析し、そこから有益な価値を生み出すことを目的としています。そのためデータの種類や表現方法について理解しておくことは、データサイエンスの基礎を理解する上で重要です。データの種類は数値や文字だけでしょうか。この章ではデータの種類と表現方法について学びます。\n",
    "\n",
    "## ベクトル\n",
    "\n",
    "`c()`関数を作ってベクトルオブジェクトを生成します。ベクトルには複数の要素を含めることができ、カンマ`,`で要素を区切って記述します。"
   ]
  },
  {
   "cell_type": "code",
   "execution_count": 1,
   "metadata": {},
   "outputs": [
    {
     "data": {
      "text/html": [
       "<style>\n",
       ".list-inline {list-style: none; margin:0; padding: 0}\n",
       ".list-inline>li {display: inline-block}\n",
       ".list-inline>li:not(:last-child)::after {content: \"\\00b7\"; padding: 0 .5ex}\n",
       "</style>\n",
       "<ol class=list-inline><li>6</li><li>3.5</li><li>5.4</li></ol>\n"
      ],
      "text/latex": [
       "\\begin{enumerate*}\n",
       "\\item 6\n",
       "\\item 3.5\n",
       "\\item 5.4\n",
       "\\end{enumerate*}\n"
      ],
      "text/markdown": [
       "1. 6\n",
       "2. 3.5\n",
       "3. 5.4\n",
       "\n",
       "\n"
      ],
      "text/plain": [
       "[1] 6.0 3.5 5.4"
      ]
     },
     "metadata": {},
     "output_type": "display_data"
    },
    {
     "data": {
      "text/html": [
       "<style>\n",
       ".list-inline {list-style: none; margin:0; padding: 0}\n",
       ".list-inline>li {display: inline-block}\n",
       ".list-inline>li:not(:last-child)::after {content: \"\\00b7\"; padding: 0 .5ex}\n",
       "</style>\n",
       "<ol class=list-inline><li>320</li><li>615</li><li>1023</li></ol>\n"
      ],
      "text/latex": [
       "\\begin{enumerate*}\n",
       "\\item 320\n",
       "\\item 615\n",
       "\\item 1023\n",
       "\\end{enumerate*}\n"
      ],
      "text/markdown": [
       "1. 320\n",
       "2. 615\n",
       "3. 1023\n",
       "\n",
       "\n"
      ],
      "text/plain": [
       "[1]  320  615 1023"
      ]
     },
     "metadata": {},
     "output_type": "display_data"
    }
   ],
   "source": [
    "# 動物の体重\n",
    "x <- c(6, 3.5, 5.4)\n",
    "x\n",
    "\n",
    "# 動物園の来園者数\n",
    "c(320, 615, 1023)"
   ]
  },
  {
   "cell_type": "markdown",
   "metadata": {},
   "source": [
    "動物の分類群のベクトルを作成しましょう。"
   ]
  },
  {
   "cell_type": "code",
   "execution_count": 2,
   "metadata": {},
   "outputs": [
    {
     "data": {
      "text/plain": [
       "NULL"
      ]
     },
     "metadata": {},
     "output_type": "display_data"
    }
   ],
   "source": [
    "#| eval: false\n",
    "# 動物の分類群\n",
    "c()"
   ]
  },
  {
   "cell_type": "markdown",
   "metadata": {},
   "source": [
    "ベクトルの要素を取り出すには、`[]`演算子を使います。`[]`の中には、取り出したい要素の位置を指定します。Rでは要素を数える際の番号は1から始まります。また`:`演算子を使ってベクトルの要素の範囲を指定することも可能です。"
   ]
  },
  {
   "cell_type": "code",
   "execution_count": 3,
   "metadata": {},
   "outputs": [
    {
     "data": {
      "text/html": [
       "6"
      ],
      "text/latex": [
       "6"
      ],
      "text/markdown": [
       "6"
      ],
      "text/plain": [
       "[1] 6"
      ]
     },
     "metadata": {},
     "output_type": "display_data"
    },
    {
     "data": {
      "text/html": [
       "<style>\n",
       ".list-inline {list-style: none; margin:0; padding: 0}\n",
       ".list-inline>li {display: inline-block}\n",
       ".list-inline>li:not(:last-child)::after {content: \"\\00b7\"; padding: 0 .5ex}\n",
       "</style>\n",
       "<ol class=list-inline><li>3.5</li><li>5.4</li></ol>\n"
      ],
      "text/latex": [
       "\\begin{enumerate*}\n",
       "\\item 3.5\n",
       "\\item 5.4\n",
       "\\end{enumerate*}\n"
      ],
      "text/markdown": [
       "1. 3.5\n",
       "2. 5.4\n",
       "\n",
       "\n"
      ],
      "text/plain": [
       "[1] 3.5 5.4"
      ]
     },
     "metadata": {},
     "output_type": "display_data"
    }
   ],
   "source": [
    "x[1] # 最初の要素を取り出す\n",
    "\n",
    "x[2:3] # 2から3番目の要素を取り出す"
   ]
  },
  {
   "cell_type": "markdown",
   "metadata": {},
   "source": [
    "では、次のコードを実行するとどうなるでしょうか。コードを実行する前に出力結果を予想してみましょう。"
   ]
  },
  {
   "cell_type": "code",
   "execution_count": 4,
   "metadata": {},
   "outputs": [
    {
     "data": {
      "text/html": [
       "<style>\n",
       ".list-inline {list-style: none; margin:0; padding: 0}\n",
       ".list-inline>li {display: inline-block}\n",
       ".list-inline>li:not(:last-child)::after {content: \"\\00b7\"; padding: 0 .5ex}\n",
       "</style>\n",
       "<ol class=list-inline><li>6</li><li>5.4</li></ol>\n"
      ],
      "text/latex": [
       "\\begin{enumerate*}\n",
       "\\item 6\n",
       "\\item 5.4\n",
       "\\end{enumerate*}\n"
      ],
      "text/markdown": [
       "1. 6\n",
       "2. 5.4\n",
       "\n",
       "\n"
      ],
      "text/plain": [
       "[1] 6.0 5.4"
      ]
     },
     "metadata": {},
     "output_type": "display_data"
    }
   ],
   "source": [
    "#| eval: false\n",
    "x[-2]"
   ]
  },
  {
   "cell_type": "markdown",
   "metadata": {},
   "source": [
    "`c()`関数の性質として、ベクトルの要素に異なるデータ型を与えた場合、ベクトルの要素は全て同じデータ型に変換されます。例えば、数値と文字列を混在させると全ての要素が文字列に変換されます。"
   ]
  },
  {
   "cell_type": "code",
   "execution_count": 5,
   "metadata": {},
   "outputs": [
    {
     "data": {
      "text/html": [
       "<style>\n",
       ".list-inline {list-style: none; margin:0; padding: 0}\n",
       ".list-inline>li {display: inline-block}\n",
       ".list-inline>li:not(:last-child)::after {content: \"\\00b7\"; padding: 0 .5ex}\n",
       "</style>\n",
       "<ol class=list-inline><li>'1'</li><li>'2'</li><li>'3'</li><li>'a'</li></ol>\n"
      ],
      "text/latex": [
       "\\begin{enumerate*}\n",
       "\\item '1'\n",
       "\\item '2'\n",
       "\\item '3'\n",
       "\\item 'a'\n",
       "\\end{enumerate*}\n"
      ],
      "text/markdown": [
       "1. '1'\n",
       "2. '2'\n",
       "3. '3'\n",
       "4. 'a'\n",
       "\n",
       "\n"
      ],
      "text/plain": [
       "[1] \"1\" \"2\" \"3\" \"a\""
      ]
     },
     "metadata": {},
     "output_type": "display_data"
    }
   ],
   "source": [
    "# ベクトルの要素に数値と文字列を混ぜる\n",
    "c(1, 2, 3, \"a\")"
   ]
  },
  {
   "cell_type": "markdown",
   "metadata": {},
   "source": [
    "この出力結果を見ると、数値の1, 2, 3が文字列に変換されていることがわかります。このように、ベクトルの要素は全て同じデータ型に変換されます。同様に論理値も文字列に変換されます。"
   ]
  },
  {
   "cell_type": "code",
   "execution_count": 6,
   "metadata": {},
   "outputs": [
    {
     "data": {
      "text/html": [
       "<style>\n",
       ".list-inline {list-style: none; margin:0; padding: 0}\n",
       ".list-inline>li {display: inline-block}\n",
       ".list-inline>li:not(:last-child)::after {content: \"\\00b7\"; padding: 0 .5ex}\n",
       "</style>\n",
       "<ol class=list-inline><li>'TRUE'</li><li>'真'</li></ol>\n"
      ],
      "text/latex": [
       "\\begin{enumerate*}\n",
       "\\item 'TRUE'\n",
       "\\item '真'\n",
       "\\end{enumerate*}\n"
      ],
      "text/markdown": [
       "1. 'TRUE'\n",
       "2. '真'\n",
       "\n",
       "\n"
      ],
      "text/plain": [
       "[1] \"TRUE\" \"真\"  "
      ]
     },
     "metadata": {},
     "output_type": "display_data"
    },
    {
     "data": {
      "text/html": [
       "<style>\n",
       ".list-inline {list-style: none; margin:0; padding: 0}\n",
       ".list-inline>li {display: inline-block}\n",
       ".list-inline>li:not(:last-child)::after {content: \"\\00b7\"; padding: 0 .5ex}\n",
       "</style>\n",
       "<ol class=list-inline><li>1</li><li>2</li><li>3</li><li>1</li><li>0</li><li>&lt;NA&gt;</li></ol>\n"
      ],
      "text/latex": [
       "\\begin{enumerate*}\n",
       "\\item 1\n",
       "\\item 2\n",
       "\\item 3\n",
       "\\item 1\n",
       "\\item 0\n",
       "\\item <NA>\n",
       "\\end{enumerate*}\n"
      ],
      "text/markdown": [
       "1. 1\n",
       "2. 2\n",
       "3. 3\n",
       "4. 1\n",
       "5. 0\n",
       "6. &lt;NA&gt;\n",
       "\n",
       "\n"
      ],
      "text/plain": [
       "[1]  1  2  3  1  0 NA"
      ]
     },
     "metadata": {},
     "output_type": "display_data"
    }
   ],
   "source": [
    "c(TRUE, \"真\")\n",
    "\n",
    "# 論理値は数値に変換可能なため、数値が含まれたベクトルでは数値に変換される\n",
    "c(1, 2, 3, TRUE, FALSE, NA)"
   ]
  },
  {
   "cell_type": "markdown",
   "metadata": {},
   "source": [
    "## データフレーム\n",
    "\n",
    "データフレームは行と列からなる表形式のデータ構造です。行はデータの個々の観測値を表し、列はデータの変数を表します。\n",
    "\n",
    "データフレームは、複数のベクトルを組み合わせ、`data.frame()`関数を使って作成します。`data.frame()`関数の引数には、列名となるベクトルを指定します。列名は文字列で指定します。"
   ]
  },
  {
   "cell_type": "code",
   "execution_count": 7,
   "metadata": {},
   "outputs": [
    {
     "data": {
      "text/html": [
       "<table class=\"dataframe\">\n",
       "<caption>A data.frame: 5 × 4</caption>\n",
       "<thead>\n",
       "\t<tr><th scope=col>taxon</th><th scope=col>species</th><th scope=col>body_length_cm</th><th scope=col>body_weight_kg</th></tr>\n",
       "\t<tr><th scope=col>&lt;chr&gt;</th><th scope=col>&lt;chr&gt;</th><th scope=col>&lt;dbl&gt;</th><th scope=col>&lt;dbl&gt;</th></tr>\n",
       "</thead>\n",
       "<tbody>\n",
       "\t<tr><td>食肉類</td><td>レッサーパンダ    </td><td> 63.5</td><td>  6</td></tr>\n",
       "\t<tr><td>霊長類</td><td>チンパンジー      </td><td> 85.0</td><td> 60</td></tr>\n",
       "\t<tr><td>霊長類</td><td>マントヒヒ        </td><td> 80.0</td><td> 20</td></tr>\n",
       "\t<tr><td>食肉類</td><td>ライオン          </td><td>250.0</td><td>225</td></tr>\n",
       "\t<tr><td>鳥類  </td><td>フンボルトペンギン</td><td> 69.0</td><td>  6</td></tr>\n",
       "</tbody>\n",
       "</table>\n"
      ],
      "text/latex": [
       "A data.frame: 5 × 4\n",
       "\\begin{tabular}{llll}\n",
       " taxon & species & body\\_length\\_cm & body\\_weight\\_kg\\\\\n",
       " <chr> & <chr> & <dbl> & <dbl>\\\\\n",
       "\\hline\n",
       "\t 食肉類 & レッサーパンダ     &  63.5 &   6\\\\\n",
       "\t 霊長類 & チンパンジー       &  85.0 &  60\\\\\n",
       "\t 霊長類 & マントヒヒ         &  80.0 &  20\\\\\n",
       "\t 食肉類 & ライオン           & 250.0 & 225\\\\\n",
       "\t 鳥類   & フンボルトペンギン &  69.0 &   6\\\\\n",
       "\\end{tabular}\n"
      ],
      "text/markdown": [
       "\n",
       "A data.frame: 5 × 4\n",
       "\n",
       "| taxon &lt;chr&gt; | species &lt;chr&gt; | body_length_cm &lt;dbl&gt; | body_weight_kg &lt;dbl&gt; |\n",
       "|---|---|---|---|\n",
       "| 食肉類 | レッサーパンダ     |  63.5 |   6 |\n",
       "| 霊長類 | チンパンジー       |  85.0 |  60 |\n",
       "| 霊長類 | マントヒヒ         |  80.0 |  20 |\n",
       "| 食肉類 | ライオン           | 250.0 | 225 |\n",
       "| 鳥類   | フンボルトペンギン |  69.0 |   6 |\n",
       "\n"
      ],
      "text/plain": [
       "  taxon  species            body_length_cm body_weight_kg\n",
       "1 食肉類 レッサーパンダ      63.5            6           \n",
       "2 霊長類 チンパンジー        85.0           60           \n",
       "3 霊長類 マントヒヒ          80.0           20           \n",
       "4 食肉類 ライオン           250.0          225           \n",
       "5 鳥類   フンボルトペンギン  69.0            6           "
      ]
     },
     "metadata": {},
     "output_type": "display_data"
    }
   ],
   "source": [
    "# 動物についてのデータフレームを作成\n",
    "taxon <- c(\"食肉類\", \"霊長類\", \"霊長類\", \"食肉類\", \"鳥類\")\n",
    "\n",
    "# data.frame()関数の引数には、列名となるベクトルを指定する\n",
    "# ベクトルはdata.frame()関数の外側で定義されたものを与えてもよい\n",
    "df_zoo <- \n",
    "  data.frame(\n",
    "    taxon = taxon,\n",
    "    species = c(\"レッサーパンダ\", \"チンパンジー\", \"マントヒヒ\", \"ライオン\", \"フンボルトペンギン\"),\n",
    "    body_length_cm = c(63.5, 85.0, 80.0, 250.0, 69.0),\n",
    "    body_weight_kg = c(6, 60, 20, 225, 6)\n",
    ")\n",
    "\n",
    "df_zoo"
   ]
  },
  {
   "cell_type": "markdown",
   "metadata": {},
   "source": [
    "データ分析や可視化を行う際など、データフレームはよく使われるデータ構造です。データフレームに含まれるデータをもとに、線形回帰モデルの適用や散布図の作成が可能です。"
   ]
  },
  {
   "cell_type": "code",
   "execution_count": 8,
   "metadata": {},
   "outputs": [
    {
     "data": {
      "text/plain": [
       "\n",
       "Call:\n",
       "lm(formula = body_length_cm ~ body_weight_kg, data = df_zoo)\n",
       "\n",
       "Coefficients:\n",
       "   (Intercept)  body_weight_kg  \n",
       "       56.2987          0.8391  \n"
      ]
     },
     "metadata": {},
     "output_type": "display_data"
    }
   ],
   "source": [
    "# lm()関数を用いた線形回帰モデルの適用\n",
    "# 体長と体重の関係を表す線形回帰モデルを作成\n",
    "# y ~ ax + b の一次関数を記述します\n",
    "lm(body_length_cm ~ body_weight_kg, data = df_zoo)"
   ]
  },
  {
   "cell_type": "code",
   "execution_count": 9,
   "metadata": {},
   "outputs": [
    {
     "data": {
      "image/png": "[encoded data removed]",
      "text/plain": [
       "plot without title"
      ]
     },
     "metadata": {
      "image/png": {
       "height": 420,
       "width": 420
      }
     },
     "output_type": "display_data"
    }
   ],
   "source": [
    "plot(df_zoo$body_weight_kg, df_zoo$body_length_cm)"
   ]
  },
  {
   "cell_type": "code",
   "execution_count": 10,
   "metadata": {},
   "outputs": [
    {
     "data": {
      "image/png": "[encoded data removed]",
      "text/plain": [
       "plot without title"
      ]
     },
     "metadata": {
      "image/png": {
       "height": 420,
       "width": 420
      }
     },
     "output_type": "display_data"
    }
   ],
   "source": [
    "# ggplot2パッケージを用いた散布図の作成\n",
    "library(ggplot2)\n",
    "ggplot(data = df_zoo) +\n",
    "  aes(body_weight_kg, body_length_cm) + geom_point()"
   ]
  },
  {
   "cell_type": "markdown",
   "metadata": {},
   "source": [
    "### csvファイルの読み込み\n",
    "\n",
    "csvファイルはカンマ`,`で区切られたテキストファイルです。csvファイルはテキストエディタや表計算ソフトで作成できます。編集に特別なソフトウェアを必要としないため、データのやり取りに便利です。\n",
    "\n",
    "csvファイルを読み込むには`read.csv()`関数を使います。"
   ]
  },
  {
   "cell_type": "code",
   "execution_count": 11,
   "metadata": {},
   "outputs": [
    {
     "data": {
      "text/html": [
       "<table class=\"dataframe\">\n",
       "<caption>A data.frame: 6 × 4</caption>\n",
       "<thead>\n",
       "\t<tr><th></th><th scope=col>taxon</th><th scope=col>name</th><th scope=col>body_length_cm</th><th scope=col>weight_kg</th></tr>\n",
       "\t<tr><th></th><th scope=col>&lt;chr&gt;</th><th scope=col>&lt;chr&gt;</th><th scope=col>&lt;dbl&gt;</th><th scope=col>&lt;dbl&gt;</th></tr>\n",
       "</thead>\n",
       "<tbody>\n",
       "\t<tr><th scope=row>1</th><td>食肉類</td><td>レッサーパンダ      </td><td> 63.5</td><td> 6.0</td></tr>\n",
       "\t<tr><th scope=row>2</th><td>鳥類  </td><td>ホオジロカンムリヅル</td><td>100.0</td><td> 3.5</td></tr>\n",
       "\t<tr><th scope=row>3</th><td>食肉類</td><td>コツメカワウソ      </td><td> 64.0</td><td> 5.4</td></tr>\n",
       "\t<tr><th scope=row>4</th><td>鳥類  </td><td>カナダガン          </td><td>110.0</td><td> 6.5</td></tr>\n",
       "\t<tr><th scope=row>5</th><td>霊長類</td><td>チンパンジー        </td><td> 85.0</td><td>60.0</td></tr>\n",
       "\t<tr><th scope=row>6</th><td>霊長類</td><td>シシオザル          </td><td> 66.0</td><td>10.0</td></tr>\n",
       "</tbody>\n",
       "</table>\n"
      ],
      "text/latex": [
       "A data.frame: 6 × 4\n",
       "\\begin{tabular}{r|llll}\n",
       "  & taxon & name & body\\_length\\_cm & weight\\_kg\\\\\n",
       "  & <chr> & <chr> & <dbl> & <dbl>\\\\\n",
       "\\hline\n",
       "\t1 & 食肉類 & レッサーパンダ       &  63.5 &  6.0\\\\\n",
       "\t2 & 鳥類   & ホオジロカンムリヅル & 100.0 &  3.5\\\\\n",
       "\t3 & 食肉類 & コツメカワウソ       &  64.0 &  5.4\\\\\n",
       "\t4 & 鳥類   & カナダガン           & 110.0 &  6.5\\\\\n",
       "\t5 & 霊長類 & チンパンジー         &  85.0 & 60.0\\\\\n",
       "\t6 & 霊長類 & シシオザル           &  66.0 & 10.0\\\\\n",
       "\\end{tabular}\n"
      ],
      "text/markdown": [
       "\n",
       "A data.frame: 6 × 4\n",
       "\n",
       "| <!--/--> | taxon &lt;chr&gt; | name &lt;chr&gt; | body_length_cm &lt;dbl&gt; | weight_kg &lt;dbl&gt; |\n",
       "|---|---|---|---|---|\n",
       "| 1 | 食肉類 | レッサーパンダ       |  63.5 |  6.0 |\n",
       "| 2 | 鳥類   | ホオジロカンムリヅル | 100.0 |  3.5 |\n",
       "| 3 | 食肉類 | コツメカワウソ       |  64.0 |  5.4 |\n",
       "| 4 | 鳥類   | カナダガン           | 110.0 |  6.5 |\n",
       "| 5 | 霊長類 | チンパンジー         |  85.0 | 60.0 |\n",
       "| 6 | 霊長類 | シシオザル           |  66.0 | 10.0 |\n",
       "\n"
      ],
      "text/plain": [
       "  taxon  name                 body_length_cm weight_kg\n",
       "1 食肉類 レッサーパンダ        63.5           6.0     \n",
       "2 鳥類   ホオジロカンムリヅル 100.0           3.5     \n",
       "3 食肉類 コツメカワウソ        64.0           5.4     \n",
       "4 鳥類   カナダガン           110.0           6.5     \n",
       "5 霊長類 チンパンジー          85.0          60.0     \n",
       "6 霊長類 シシオザル            66.0          10.0     "
      ]
     },
     "metadata": {},
     "output_type": "display_data"
    }
   ],
   "source": [
    "# csvファイルの読み込み\n",
    "# ローカル環境（自分のコンピュータ）にあるcsvファイルを読み込む場合は、ファイルが保存されている場所（パス）を指定する\n",
    "# ウェブ上のデータを読み込む場合はURLを指定する\n",
    "df_zoo22 <-\n",
    "read.csv(\"https://raw.githubusercontent.com/uribo/tokupon_ds/main/data-raw/tokushima_zoo_animals22.csv\")\n",
    "\n",
    "# 先頭行のデータを表示\n",
    "head(df_zoo22)"
   ]
  },
  {
   "cell_type": "markdown",
   "metadata": {},
   "source": [
    "### データフレームの操作\n",
    "\n",
    "データフレームの変数の値を参照するにはいくつかの方法があります。代表的なものを紹介します。\n",
    "\n",
    "1. `$`演算子を使う\n",
    "2. `[[]]`演算子を使う\n",
    "\n",
    "例えば、`df_zoo`の`body_length_cm`変数にアクセスするには次のようにします。"
   ]
  },
  {
   "cell_type": "code",
   "execution_count": 12,
   "metadata": {},
   "outputs": [
    {
     "data": {
      "text/html": [
       "<style>\n",
       ".list-inline {list-style: none; margin:0; padding: 0}\n",
       ".list-inline>li {display: inline-block}\n",
       ".list-inline>li:not(:last-child)::after {content: \"\\00b7\"; padding: 0 .5ex}\n",
       "</style>\n",
       "<ol class=list-inline><li>63.5</li><li>85</li><li>80</li><li>250</li><li>69</li></ol>\n"
      ],
      "text/latex": [
       "\\begin{enumerate*}\n",
       "\\item 63.5\n",
       "\\item 85\n",
       "\\item 80\n",
       "\\item 250\n",
       "\\item 69\n",
       "\\end{enumerate*}\n"
      ],
      "text/markdown": [
       "1. 63.5\n",
       "2. 85\n",
       "3. 80\n",
       "4. 250\n",
       "5. 69\n",
       "\n",
       "\n"
      ],
      "text/plain": [
       "[1]  63.5  85.0  80.0 250.0  69.0"
      ]
     },
     "metadata": {},
     "output_type": "display_data"
    },
    {
     "data": {
      "text/html": [
       "<style>\n",
       ".list-inline {list-style: none; margin:0; padding: 0}\n",
       ".list-inline>li {display: inline-block}\n",
       ".list-inline>li:not(:last-child)::after {content: \"\\00b7\"; padding: 0 .5ex}\n",
       "</style>\n",
       "<ol class=list-inline><li>63.5</li><li>85</li><li>80</li><li>250</li><li>69</li></ol>\n"
      ],
      "text/latex": [
       "\\begin{enumerate*}\n",
       "\\item 63.5\n",
       "\\item 85\n",
       "\\item 80\n",
       "\\item 250\n",
       "\\item 69\n",
       "\\end{enumerate*}\n"
      ],
      "text/markdown": [
       "1. 63.5\n",
       "2. 85\n",
       "3. 80\n",
       "4. 250\n",
       "5. 69\n",
       "\n",
       "\n"
      ],
      "text/plain": [
       "[1]  63.5  85.0  80.0 250.0  69.0"
      ]
     },
     "metadata": {},
     "output_type": "display_data"
    }
   ],
   "source": [
    "df_zoo$body_length_cm\n",
    "\n",
    "df_zoo[[\"body_length_cm\"]]"
   ]
  },
  {
   "cell_type": "markdown",
   "metadata": {},
   "source": [
    "`$`演算子は参照したい変数名を文字列で指定します。`$`演算子は、`[]`演算子と異なり、複数の変数の値を同時に参照することはできません。\n",
    "\n",
    "また、これらの参照方法はベクトルとして変数の値を確認するものでした。データフレームの構造を維持したまま、つまり特定の列として参照するには`[]`演算子を使います。"
   ]
  },
  {
   "cell_type": "code",
   "execution_count": 13,
   "metadata": {},
   "outputs": [
    {
     "data": {
      "text/html": [
       "<table class=\"dataframe\">\n",
       "<caption>A data.frame: 5 × 1</caption>\n",
       "<thead>\n",
       "\t<tr><th scope=col>body_length_cm</th></tr>\n",
       "\t<tr><th scope=col>&lt;dbl&gt;</th></tr>\n",
       "</thead>\n",
       "<tbody>\n",
       "\t<tr><td> 63.5</td></tr>\n",
       "\t<tr><td> 85.0</td></tr>\n",
       "\t<tr><td> 80.0</td></tr>\n",
       "\t<tr><td>250.0</td></tr>\n",
       "\t<tr><td> 69.0</td></tr>\n",
       "</tbody>\n",
       "</table>\n"
      ],
      "text/latex": [
       "A data.frame: 5 × 1\n",
       "\\begin{tabular}{l}\n",
       " body\\_length\\_cm\\\\\n",
       " <dbl>\\\\\n",
       "\\hline\n",
       "\t  63.5\\\\\n",
       "\t  85.0\\\\\n",
       "\t  80.0\\\\\n",
       "\t 250.0\\\\\n",
       "\t  69.0\\\\\n",
       "\\end{tabular}\n"
      ],
      "text/markdown": [
       "\n",
       "A data.frame: 5 × 1\n",
       "\n",
       "| body_length_cm &lt;dbl&gt; |\n",
       "|---|\n",
       "|  63.5 |\n",
       "|  85.0 |\n",
       "|  80.0 |\n",
       "| 250.0 |\n",
       "|  69.0 |\n",
       "\n"
      ],
      "text/plain": [
       "  body_length_cm\n",
       "1  63.5         \n",
       "2  85.0         \n",
       "3  80.0         \n",
       "4 250.0         \n",
       "5  69.0         "
      ]
     },
     "metadata": {},
     "output_type": "display_data"
    }
   ],
   "source": [
    "df_zoo[3]"
   ]
  },
  {
   "cell_type": "markdown",
   "metadata": {},
   "source": [
    "ベクトルの参照の例でも見たように、`[]`演算子での参照は`:`演算子や`-`を使った除外が可能です。"
   ]
  },
  {
   "cell_type": "code",
   "execution_count": 14,
   "metadata": {},
   "outputs": [
    {
     "data": {
      "text/html": [
       "<table class=\"dataframe\">\n",
       "<caption>A data.frame: 5 × 2</caption>\n",
       "<thead>\n",
       "\t<tr><th scope=col>species</th><th scope=col>body_length_cm</th></tr>\n",
       "\t<tr><th scope=col>&lt;chr&gt;</th><th scope=col>&lt;dbl&gt;</th></tr>\n",
       "</thead>\n",
       "<tbody>\n",
       "\t<tr><td>レッサーパンダ    </td><td> 63.5</td></tr>\n",
       "\t<tr><td>チンパンジー      </td><td> 85.0</td></tr>\n",
       "\t<tr><td>マントヒヒ        </td><td> 80.0</td></tr>\n",
       "\t<tr><td>ライオン          </td><td>250.0</td></tr>\n",
       "\t<tr><td>フンボルトペンギン</td><td> 69.0</td></tr>\n",
       "</tbody>\n",
       "</table>\n"
      ],
      "text/latex": [
       "A data.frame: 5 × 2\n",
       "\\begin{tabular}{ll}\n",
       " species & body\\_length\\_cm\\\\\n",
       " <chr> & <dbl>\\\\\n",
       "\\hline\n",
       "\t レッサーパンダ     &  63.5\\\\\n",
       "\t チンパンジー       &  85.0\\\\\n",
       "\t マントヒヒ         &  80.0\\\\\n",
       "\t ライオン           & 250.0\\\\\n",
       "\t フンボルトペンギン &  69.0\\\\\n",
       "\\end{tabular}\n"
      ],
      "text/markdown": [
       "\n",
       "A data.frame: 5 × 2\n",
       "\n",
       "| species &lt;chr&gt; | body_length_cm &lt;dbl&gt; |\n",
       "|---|---|\n",
       "| レッサーパンダ     |  63.5 |\n",
       "| チンパンジー       |  85.0 |\n",
       "| マントヒヒ         |  80.0 |\n",
       "| ライオン           | 250.0 |\n",
       "| フンボルトペンギン |  69.0 |\n",
       "\n"
      ],
      "text/plain": [
       "  species            body_length_cm\n",
       "1 レッサーパンダ      63.5         \n",
       "2 チンパンジー        85.0         \n",
       "3 マントヒヒ          80.0         \n",
       "4 ライオン           250.0         \n",
       "5 フンボルトペンギン  69.0         "
      ]
     },
     "metadata": {},
     "output_type": "display_data"
    },
    {
     "data": {
      "text/html": [
       "<table class=\"dataframe\">\n",
       "<caption>A data.frame: 5 × 3</caption>\n",
       "<thead>\n",
       "\t<tr><th scope=col>taxon</th><th scope=col>species</th><th scope=col>body_length_cm</th></tr>\n",
       "\t<tr><th scope=col>&lt;chr&gt;</th><th scope=col>&lt;chr&gt;</th><th scope=col>&lt;dbl&gt;</th></tr>\n",
       "</thead>\n",
       "<tbody>\n",
       "\t<tr><td>食肉類</td><td>レッサーパンダ    </td><td> 63.5</td></tr>\n",
       "\t<tr><td>霊長類</td><td>チンパンジー      </td><td> 85.0</td></tr>\n",
       "\t<tr><td>霊長類</td><td>マントヒヒ        </td><td> 80.0</td></tr>\n",
       "\t<tr><td>食肉類</td><td>ライオン          </td><td>250.0</td></tr>\n",
       "\t<tr><td>鳥類  </td><td>フンボルトペンギン</td><td> 69.0</td></tr>\n",
       "</tbody>\n",
       "</table>\n"
      ],
      "text/latex": [
       "A data.frame: 5 × 3\n",
       "\\begin{tabular}{lll}\n",
       " taxon & species & body\\_length\\_cm\\\\\n",
       " <chr> & <chr> & <dbl>\\\\\n",
       "\\hline\n",
       "\t 食肉類 & レッサーパンダ     &  63.5\\\\\n",
       "\t 霊長類 & チンパンジー       &  85.0\\\\\n",
       "\t 霊長類 & マントヒヒ         &  80.0\\\\\n",
       "\t 食肉類 & ライオン           & 250.0\\\\\n",
       "\t 鳥類   & フンボルトペンギン &  69.0\\\\\n",
       "\\end{tabular}\n"
      ],
      "text/markdown": [
       "\n",
       "A data.frame: 5 × 3\n",
       "\n",
       "| taxon &lt;chr&gt; | species &lt;chr&gt; | body_length_cm &lt;dbl&gt; |\n",
       "|---|---|---|\n",
       "| 食肉類 | レッサーパンダ     |  63.5 |\n",
       "| 霊長類 | チンパンジー       |  85.0 |\n",
       "| 霊長類 | マントヒヒ         |  80.0 |\n",
       "| 食肉類 | ライオン           | 250.0 |\n",
       "| 鳥類   | フンボルトペンギン |  69.0 |\n",
       "\n"
      ],
      "text/plain": [
       "  taxon  species            body_length_cm\n",
       "1 食肉類 レッサーパンダ      63.5         \n",
       "2 霊長類 チンパンジー        85.0         \n",
       "3 霊長類 マントヒヒ          80.0         \n",
       "4 食肉類 ライオン           250.0         \n",
       "5 鳥類   フンボルトペンギン  69.0         "
      ]
     },
     "metadata": {},
     "output_type": "display_data"
    },
    {
     "data": {
      "text/html": [
       "<table class=\"dataframe\">\n",
       "<caption>A data.frame: 5 × 2</caption>\n",
       "<thead>\n",
       "\t<tr><th scope=col>taxon</th><th scope=col>body_length_cm</th></tr>\n",
       "\t<tr><th scope=col>&lt;chr&gt;</th><th scope=col>&lt;dbl&gt;</th></tr>\n",
       "</thead>\n",
       "<tbody>\n",
       "\t<tr><td>食肉類</td><td> 63.5</td></tr>\n",
       "\t<tr><td>霊長類</td><td> 85.0</td></tr>\n",
       "\t<tr><td>霊長類</td><td> 80.0</td></tr>\n",
       "\t<tr><td>食肉類</td><td>250.0</td></tr>\n",
       "\t<tr><td>鳥類  </td><td> 69.0</td></tr>\n",
       "</tbody>\n",
       "</table>\n"
      ],
      "text/latex": [
       "A data.frame: 5 × 2\n",
       "\\begin{tabular}{ll}\n",
       " taxon & body\\_length\\_cm\\\\\n",
       " <chr> & <dbl>\\\\\n",
       "\\hline\n",
       "\t 食肉類 &  63.5\\\\\n",
       "\t 霊長類 &  85.0\\\\\n",
       "\t 霊長類 &  80.0\\\\\n",
       "\t 食肉類 & 250.0\\\\\n",
       "\t 鳥類   &  69.0\\\\\n",
       "\\end{tabular}\n"
      ],
      "text/markdown": [
       "\n",
       "A data.frame: 5 × 2\n",
       "\n",
       "| taxon &lt;chr&gt; | body_length_cm &lt;dbl&gt; |\n",
       "|---|---|\n",
       "| 食肉類 |  63.5 |\n",
       "| 霊長類 |  85.0 |\n",
       "| 霊長類 |  80.0 |\n",
       "| 食肉類 | 250.0 |\n",
       "| 鳥類   |  69.0 |\n",
       "\n"
      ],
      "text/plain": [
       "  taxon  body_length_cm\n",
       "1 食肉類  63.5         \n",
       "2 霊長類  85.0         \n",
       "3 霊長類  80.0         \n",
       "4 食肉類 250.0         \n",
       "5 鳥類    69.0         "
      ]
     },
     "metadata": {},
     "output_type": "display_data"
    }
   ],
   "source": [
    "df_zoo[2:3]\n",
    "\n",
    "df_zoo[-4]\n",
    "\n",
    "df_zoo[c(1, 3)]"
   ]
  },
  {
   "cell_type": "markdown",
   "metadata": {},
   "source": [
    "`[]`演算子でのデータフレームの参照では、行と列の両方を指定できます。行と列を指定する場合は、`[行, 列]`の規則で参照する位置を指定します。"
   ]
  },
  {
   "cell_type": "code",
   "execution_count": 15,
   "metadata": {},
   "outputs": [
    {
     "data": {
      "text/html": [
       "<table class=\"dataframe\">\n",
       "<caption>A data.frame: 1 × 2</caption>\n",
       "<thead>\n",
       "\t<tr><th></th><th scope=col>species</th><th scope=col>body_length_cm</th></tr>\n",
       "\t<tr><th></th><th scope=col>&lt;chr&gt;</th><th scope=col>&lt;dbl&gt;</th></tr>\n",
       "</thead>\n",
       "<tbody>\n",
       "\t<tr><th scope=row>2</th><td>チンパンジー</td><td>85</td></tr>\n",
       "</tbody>\n",
       "</table>\n"
      ],
      "text/latex": [
       "A data.frame: 1 × 2\n",
       "\\begin{tabular}{r|ll}\n",
       "  & species & body\\_length\\_cm\\\\\n",
       "  & <chr> & <dbl>\\\\\n",
       "\\hline\n",
       "\t2 & チンパンジー & 85\\\\\n",
       "\\end{tabular}\n"
      ],
      "text/markdown": [
       "\n",
       "A data.frame: 1 × 2\n",
       "\n",
       "| <!--/--> | species &lt;chr&gt; | body_length_cm &lt;dbl&gt; |\n",
       "|---|---|---|\n",
       "| 2 | チンパンジー | 85 |\n",
       "\n"
      ],
      "text/plain": [
       "  species      body_length_cm\n",
       "2 チンパンジー 85            "
      ]
     },
     "metadata": {},
     "output_type": "display_data"
    }
   ],
   "source": [
    "df_zoo[2, c(2, 3)] # 2行目の2,3列のデータ"
   ]
  },
  {
   "cell_type": "markdown",
   "metadata": {},
   "source": [
    "データフレームに対して柔軟な操作を行う際は`dplyr`パッケージを使うと便利です。"
   ]
  },
  {
   "cell_type": "code",
   "execution_count": 16,
   "metadata": {},
   "outputs": [
    {
     "name": "stderr",
     "output_type": "stream",
     "text": [
      "\n",
      "Attaching package: ‘dplyr’\n",
      "\n",
      "\n",
      "The following objects are masked from ‘package:stats’:\n",
      "\n",
      "    filter, lag\n",
      "\n",
      "\n",
      "The following objects are masked from ‘package:base’:\n",
      "\n",
      "    intersect, setdiff, setequal, union\n",
      "\n",
      "\n"
     ]
    }
   ],
   "source": [
    "#| warning: false\n",
    "# dplyrパッケージの読み込み\n",
    "library(dplyr)"
   ]
  },
  {
   "cell_type": "markdown",
   "metadata": {},
   "source": [
    "dplyrパッケージが提供するデータ操作のための主要な関数を示します。\n",
    "\n",
    "- `select()`: 列を選択する\n",
    "- `filter()`: 行を選択する\n",
    "- `mutate()`: 列を加工する（上書き、追加）\n",
    "- `arrange()`: 行を並び替える\n",
    "- `group_by()`: グループ化する\n",
    "- `summarise()`: グループごとに集計する\n",
    "\n",
    "このほかにもたくさんのデータ操作関数が用意されています。いくつかの関数の使い方をみてみましょう。\n",
    "\n",
    "dplyrのデータ操作関数は原則的にデータフレームを第一引数に与え、出力もデータフレームです。"
   ]
  },
  {
   "cell_type": "code",
   "execution_count": 17,
   "metadata": {},
   "outputs": [
    {
     "data": {
      "text/html": [
       "<table class=\"dataframe\">\n",
       "<caption>A data.frame: 5 × 3</caption>\n",
       "<thead>\n",
       "\t<tr><th scope=col>species</th><th scope=col>body_length_cm</th><th scope=col>body_weight_kg</th></tr>\n",
       "\t<tr><th scope=col>&lt;chr&gt;</th><th scope=col>&lt;dbl&gt;</th><th scope=col>&lt;dbl&gt;</th></tr>\n",
       "</thead>\n",
       "<tbody>\n",
       "\t<tr><td>レッサーパンダ    </td><td> 63.5</td><td>  6</td></tr>\n",
       "\t<tr><td>チンパンジー      </td><td> 85.0</td><td> 60</td></tr>\n",
       "\t<tr><td>マントヒヒ        </td><td> 80.0</td><td> 20</td></tr>\n",
       "\t<tr><td>ライオン          </td><td>250.0</td><td>225</td></tr>\n",
       "\t<tr><td>フンボルトペンギン</td><td> 69.0</td><td>  6</td></tr>\n",
       "</tbody>\n",
       "</table>\n"
      ],
      "text/latex": [
       "A data.frame: 5 × 3\n",
       "\\begin{tabular}{lll}\n",
       " species & body\\_length\\_cm & body\\_weight\\_kg\\\\\n",
       " <chr> & <dbl> & <dbl>\\\\\n",
       "\\hline\n",
       "\t レッサーパンダ     &  63.5 &   6\\\\\n",
       "\t チンパンジー       &  85.0 &  60\\\\\n",
       "\t マントヒヒ         &  80.0 &  20\\\\\n",
       "\t ライオン           & 250.0 & 225\\\\\n",
       "\t フンボルトペンギン &  69.0 &   6\\\\\n",
       "\\end{tabular}\n"
      ],
      "text/markdown": [
       "\n",
       "A data.frame: 5 × 3\n",
       "\n",
       "| species &lt;chr&gt; | body_length_cm &lt;dbl&gt; | body_weight_kg &lt;dbl&gt; |\n",
       "|---|---|---|\n",
       "| レッサーパンダ     |  63.5 |   6 |\n",
       "| チンパンジー       |  85.0 |  60 |\n",
       "| マントヒヒ         |  80.0 |  20 |\n",
       "| ライオン           | 250.0 | 225 |\n",
       "| フンボルトペンギン |  69.0 |   6 |\n",
       "\n"
      ],
      "text/plain": [
       "  species            body_length_cm body_weight_kg\n",
       "1 レッサーパンダ      63.5            6           \n",
       "2 チンパンジー        85.0           60           \n",
       "3 マントヒヒ          80.0           20           \n",
       "4 ライオン           250.0          225           \n",
       "5 フンボルトペンギン  69.0            6           "
      ]
     },
     "metadata": {},
     "output_type": "display_data"
    }
   ],
   "source": [
    "# 列の選択\n",
    "# 第一引数に対象のデータフレーム、第二引数以降に選択したい列名を指定する\n",
    "select(df_zoo, species, body_length_cm, body_weight_kg)"
   ]
  },
  {
   "cell_type": "code",
   "execution_count": 18,
   "metadata": {},
   "outputs": [
    {
     "data": {
      "text/html": [
       "<table class=\"dataframe\">\n",
       "<caption>A data.frame: 5 × 5</caption>\n",
       "<thead>\n",
       "\t<tr><th scope=col>taxon</th><th scope=col>species</th><th scope=col>body_length_cm</th><th scope=col>body_weight_kg</th><th scope=col>bmi</th></tr>\n",
       "\t<tr><th scope=col>&lt;chr&gt;</th><th scope=col>&lt;chr&gt;</th><th scope=col>&lt;dbl&gt;</th><th scope=col>&lt;dbl&gt;</th><th scope=col>&lt;dbl&gt;</th></tr>\n",
       "</thead>\n",
       "<tbody>\n",
       "\t<tr><td>食肉類</td><td>レッサーパンダ    </td><td> 63.5</td><td>  6</td><td>14.88003</td></tr>\n",
       "\t<tr><td>霊長類</td><td>チンパンジー      </td><td> 85.0</td><td> 60</td><td>83.04498</td></tr>\n",
       "\t<tr><td>霊長類</td><td>マントヒヒ        </td><td> 80.0</td><td> 20</td><td>31.25000</td></tr>\n",
       "\t<tr><td>食肉類</td><td>ライオン          </td><td>250.0</td><td>225</td><td>36.00000</td></tr>\n",
       "\t<tr><td>鳥類  </td><td>フンボルトペンギン</td><td> 69.0</td><td>  6</td><td>12.60239</td></tr>\n",
       "</tbody>\n",
       "</table>\n"
      ],
      "text/latex": [
       "A data.frame: 5 × 5\n",
       "\\begin{tabular}{lllll}\n",
       " taxon & species & body\\_length\\_cm & body\\_weight\\_kg & bmi\\\\\n",
       " <chr> & <chr> & <dbl> & <dbl> & <dbl>\\\\\n",
       "\\hline\n",
       "\t 食肉類 & レッサーパンダ     &  63.5 &   6 & 14.88003\\\\\n",
       "\t 霊長類 & チンパンジー       &  85.0 &  60 & 83.04498\\\\\n",
       "\t 霊長類 & マントヒヒ         &  80.0 &  20 & 31.25000\\\\\n",
       "\t 食肉類 & ライオン           & 250.0 & 225 & 36.00000\\\\\n",
       "\t 鳥類   & フンボルトペンギン &  69.0 &   6 & 12.60239\\\\\n",
       "\\end{tabular}\n"
      ],
      "text/markdown": [
       "\n",
       "A data.frame: 5 × 5\n",
       "\n",
       "| taxon &lt;chr&gt; | species &lt;chr&gt; | body_length_cm &lt;dbl&gt; | body_weight_kg &lt;dbl&gt; | bmi &lt;dbl&gt; |\n",
       "|---|---|---|---|---|\n",
       "| 食肉類 | レッサーパンダ     |  63.5 |   6 | 14.88003 |\n",
       "| 霊長類 | チンパンジー       |  85.0 |  60 | 83.04498 |\n",
       "| 霊長類 | マントヒヒ         |  80.0 |  20 | 31.25000 |\n",
       "| 食肉類 | ライオン           | 250.0 | 225 | 36.00000 |\n",
       "| 鳥類   | フンボルトペンギン |  69.0 |   6 | 12.60239 |\n",
       "\n"
      ],
      "text/plain": [
       "  taxon  species            body_length_cm body_weight_kg bmi     \n",
       "1 食肉類 レッサーパンダ      63.5            6            14.88003\n",
       "2 霊長類 チンパンジー        85.0           60            83.04498\n",
       "3 霊長類 マントヒヒ          80.0           20            31.25000\n",
       "4 食肉類 ライオン           250.0          225            36.00000\n",
       "5 鳥類   フンボルトペンギン  69.0            6            12.60239"
      ]
     },
     "metadata": {},
     "output_type": "display_data"
    }
   ],
   "source": [
    "# 列（変数）の加工\n",
    "# 体重と体長の情報からBMIを求めた列を追加する\n",
    "mutate(df_zoo, bmi = body_weight_kg / (body_length_cm / 100) ^ 2)"
   ]
  },
  {
   "cell_type": "code",
   "execution_count": 19,
   "metadata": {},
   "outputs": [
    {
     "data": {
      "text/html": [
       "<table class=\"dataframe\">\n",
       "<caption>A data.frame: 1 × 4</caption>\n",
       "<thead>\n",
       "\t<tr><th scope=col>taxon</th><th scope=col>species</th><th scope=col>body_length_cm</th><th scope=col>body_weight_kg</th></tr>\n",
       "\t<tr><th scope=col>&lt;chr&gt;</th><th scope=col>&lt;chr&gt;</th><th scope=col>&lt;dbl&gt;</th><th scope=col>&lt;dbl&gt;</th></tr>\n",
       "</thead>\n",
       "<tbody>\n",
       "\t<tr><td>食肉類</td><td>ライオン</td><td>250</td><td>225</td></tr>\n",
       "</tbody>\n",
       "</table>\n"
      ],
      "text/latex": [
       "A data.frame: 1 × 4\n",
       "\\begin{tabular}{llll}\n",
       " taxon & species & body\\_length\\_cm & body\\_weight\\_kg\\\\\n",
       " <chr> & <chr> & <dbl> & <dbl>\\\\\n",
       "\\hline\n",
       "\t 食肉類 & ライオン & 250 & 225\\\\\n",
       "\\end{tabular}\n"
      ],
      "text/markdown": [
       "\n",
       "A data.frame: 1 × 4\n",
       "\n",
       "| taxon &lt;chr&gt; | species &lt;chr&gt; | body_length_cm &lt;dbl&gt; | body_weight_kg &lt;dbl&gt; |\n",
       "|---|---|---|---|\n",
       "| 食肉類 | ライオン | 250 | 225 |\n",
       "\n"
      ],
      "text/plain": [
       "  taxon  species  body_length_cm body_weight_kg\n",
       "1 食肉類 ライオン 250            225           "
      ]
     },
     "metadata": {},
     "output_type": "display_data"
    }
   ],
   "source": [
    "# 行の抽出\n",
    "# 体重が100kg以上の動物のみを抽出する\n",
    "filter(df_zoo, body_weight_kg > 100)"
   ]
  },
  {
   "cell_type": "markdown",
   "metadata": {},
   "source": [
    "こうしたデータ操作は、データに対して複数の処理を適用することが一般的です。そのため、パイプ演算子`|>`を使うとより簡潔に書くことが可能となります。パイプ演算子でつながれた関数の第一引数には、自動的に前の関数の出力が与えられます。先ほどの例をパイプ演算子を使った処理に書き換えてみましょう。\n"
   ]
  },
  {
   "cell_type": "code",
   "execution_count": 20,
   "metadata": {},
   "outputs": [
    {
     "data": {
      "text/html": [
       "<table class=\"dataframe\">\n",
       "<caption>A data.frame: 1 × 4</caption>\n",
       "<thead>\n",
       "\t<tr><th scope=col>species</th><th scope=col>body_length_cm</th><th scope=col>body_weight_kg</th><th scope=col>bmi</th></tr>\n",
       "\t<tr><th scope=col>&lt;chr&gt;</th><th scope=col>&lt;dbl&gt;</th><th scope=col>&lt;dbl&gt;</th><th scope=col>&lt;dbl&gt;</th></tr>\n",
       "</thead>\n",
       "<tbody>\n",
       "\t<tr><td>ライオン</td><td>250</td><td>225</td><td>36</td></tr>\n",
       "</tbody>\n",
       "</table>\n"
      ],
      "text/latex": [
       "A data.frame: 1 × 4\n",
       "\\begin{tabular}{llll}\n",
       " species & body\\_length\\_cm & body\\_weight\\_kg & bmi\\\\\n",
       " <chr> & <dbl> & <dbl> & <dbl>\\\\\n",
       "\\hline\n",
       "\t ライオン & 250 & 225 & 36\\\\\n",
       "\\end{tabular}\n"
      ],
      "text/markdown": [
       "\n",
       "A data.frame: 1 × 4\n",
       "\n",
       "| species &lt;chr&gt; | body_length_cm &lt;dbl&gt; | body_weight_kg &lt;dbl&gt; | bmi &lt;dbl&gt; |\n",
       "|---|---|---|---|\n",
       "| ライオン | 250 | 225 | 36 |\n",
       "\n"
      ],
      "text/plain": [
       "  species  body_length_cm body_weight_kg bmi\n",
       "1 ライオン 250            225            36 "
      ]
     },
     "metadata": {},
     "output_type": "display_data"
    }
   ],
   "source": [
    "# パイプ演算子を使ったデータ操作\n",
    "df_zoo |>\n",
    "  select(species, body_length_cm, body_weight_kg) |>\n",
    "  mutate(bmi = body_weight_kg / (body_length_cm / 100) ^ 2) |> \n",
    "  filter(body_weight_kg > 100)"
   ]
  },
  {
   "cell_type": "markdown",
   "metadata": {},
   "source": [
    "![連続した処理をパイプ演算子を使って記述する](https://github.com/uribo/INNV1250/raw/main/img/base_pipe.jpeg)\n",
    "\n",
    "## 次の一歩\n",
    "\n",
    "- [徳島県オープンデータポータルサイト](https://opendata.pref.tokushima.lg.jp)から適当なデータをダウンロードして、データフレームとして読み込んでみましょう。\n",
    "    - ファイルのダウンロードは`download.file()`関数を使って行います。\n",
    "    - エクセルファイルの読み込みは`readxl`パッケージの`read_excel()`関数を使って行います。"
   ]
  }
 ],
 "metadata": {
  "kernelspec": {
   "display_name": "R",
   "language": "R",
   "name": "ir"
  },
  "language_info": {
   "codemirror_mode": "r",
   "file_extension": ".r",
   "mimetype": "text/x-r-source",
   "name": "R",
   "pygments_lexer": "r",
   "version": "4.2.3"
  }
 },
 "nbformat": 4,
 "nbformat_minor": 4
}
