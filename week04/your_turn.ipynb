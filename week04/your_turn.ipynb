{
 "cells": [
  {
   "cell_type": "raw",
   "id": "f823dded",
   "metadata": {},
   "source": [
    "---\n",
    "title: 【課題】データの特徴を表現する方法を理解する\n",
    "format: html\n",
    "keep-ipynb: true\n",
    "---"
   ]
  },
  {
   "cell_type": "markdown",
   "id": "26ef0556",
   "metadata": {},
   "source": [
    "::: {.callout-important}\n",
    "\n",
    "以下の3つの問題について、回答結果をセルに記述してください。なお必要に応じてRコードも示してください。\n",
    "\n",
    ":::\n",
    "\n",
    "\n",
    "## 問題: 動物データに対して要約統計量を求める関数を適用し、体長の中央値、体重の（不偏）標準偏差を求めよ"
   ]
  },
  {
   "cell_type": "code",
   "execution_count": 1,
   "id": "b7e41719",
   "metadata": {
    "tags": []
   },
   "outputs": [],
   "source": [
    "#| label: 動物データの読み込み\n",
    "df_animal <-\n",
    "  readr::read_csv(\"https://raw.githubusercontent.com/uribo/tokupon_ds/main/data-raw/tokushima_zoo_animals22.csv\", col_types = \"ccdd\")"
   ]
  },
  {
   "cell_type": "code",
   "execution_count": 2,
   "id": "4c46ac48",
   "metadata": {
    "tags": []
   },
   "outputs": [
    {
     "data": {
      "text/html": [
       "<table class=\"dataframe\">\n",
       "<caption>A tibble: 6 × 4</caption>\n",
       "<thead>\n",
       "\t<tr><th scope=col>taxon</th><th scope=col>name</th><th scope=col>body_length_cm</th><th scope=col>weight_kg</th></tr>\n",
       "\t<tr><th scope=col>&lt;chr&gt;</th><th scope=col>&lt;chr&gt;</th><th scope=col>&lt;dbl&gt;</th><th scope=col>&lt;dbl&gt;</th></tr>\n",
       "</thead>\n",
       "<tbody>\n",
       "\t<tr><td>食肉類</td><td>レッサーパンダ      </td><td> 63.5</td><td> 6.0</td></tr>\n",
       "\t<tr><td>鳥類  </td><td>ホオジロカンムリヅル</td><td>100.0</td><td> 3.5</td></tr>\n",
       "\t<tr><td>食肉類</td><td>コツメカワウソ      </td><td> 64.0</td><td> 5.4</td></tr>\n",
       "\t<tr><td>鳥類  </td><td>カナダガン          </td><td>110.0</td><td> 6.5</td></tr>\n",
       "\t<tr><td>霊長類</td><td>チンパンジー        </td><td> 85.0</td><td>60.0</td></tr>\n",
       "\t<tr><td>霊長類</td><td>シシオザル          </td><td> 66.0</td><td>10.0</td></tr>\n",
       "</tbody>\n",
       "</table>\n"
      ],
      "text/latex": [
       "A tibble: 6 × 4\n",
       "\\begin{tabular}{llll}\n",
       " taxon & name & body\\_length\\_cm & weight\\_kg\\\\\n",
       " <chr> & <chr> & <dbl> & <dbl>\\\\\n",
       "\\hline\n",
       "\t 食肉類 & レッサーパンダ       &  63.5 &  6.0\\\\\n",
       "\t 鳥類   & ホオジロカンムリヅル & 100.0 &  3.5\\\\\n",
       "\t 食肉類 & コツメカワウソ       &  64.0 &  5.4\\\\\n",
       "\t 鳥類   & カナダガン           & 110.0 &  6.5\\\\\n",
       "\t 霊長類 & チンパンジー         &  85.0 & 60.0\\\\\n",
       "\t 霊長類 & シシオザル           &  66.0 & 10.0\\\\\n",
       "\\end{tabular}\n"
      ],
      "text/markdown": [
       "\n",
       "A tibble: 6 × 4\n",
       "\n",
       "| taxon &lt;chr&gt; | name &lt;chr&gt; | body_length_cm &lt;dbl&gt; | weight_kg &lt;dbl&gt; |\n",
       "|---|---|---|---|\n",
       "| 食肉類 | レッサーパンダ       |  63.5 |  6.0 |\n",
       "| 鳥類   | ホオジロカンムリヅル | 100.0 |  3.5 |\n",
       "| 食肉類 | コツメカワウソ       |  64.0 |  5.4 |\n",
       "| 鳥類   | カナダガン           | 110.0 |  6.5 |\n",
       "| 霊長類 | チンパンジー         |  85.0 | 60.0 |\n",
       "| 霊長類 | シシオザル           |  66.0 | 10.0 |\n",
       "\n"
      ],
      "text/plain": [
       "  taxon  name                 body_length_cm weight_kg\n",
       "1 食肉類 レッサーパンダ        63.5           6.0     \n",
       "2 鳥類   ホオジロカンムリヅル 100.0           3.5     \n",
       "3 食肉類 コツメカワウソ        64.0           5.4     \n",
       "4 鳥類   カナダガン           110.0           6.5     \n",
       "5 霊長類 チンパンジー          85.0          60.0     \n",
       "6 霊長類 シシオザル            66.0          10.0     "
      ]
     },
     "metadata": {},
     "output_type": "display_data"
    }
   ],
   "source": [
    "head(df_animal)"
   ]
  },
  {
   "cell_type": "markdown",
   "id": "3a445510",
   "metadata": {},
   "source": [
    "- 動物データは `df_animal` としてデータフレーム形式で保存されている。\n",
    "- 体長は`body_length_cm`、体重は`body_weight_kg`として変数に記録されている。\n",
    "\n",
    "Rで要約統計量を求める関数は`summary()`である。数値からなる変数については最小値や最大値、中央値、平均値などの情報が得られる。\n",
    "また`summary()`で得られない標準偏差などの要約統計量についても個別に求める関数がRには用意されている。"
   ]
  },
  {
   "cell_type": "code",
   "execution_count": null,
   "id": "f0854bed",
   "metadata": {},
   "outputs": [],
   "source": [
    "# コードを記述して実行"
   ]
  },
  {
   "cell_type": "markdown",
   "id": "27b155eb",
   "metadata": {},
   "source": [
    "## 問題: 平均値と中央値の違い\n",
    "\n",
    "::: {.callout-note}\n",
    "\n",
    "この問題は初回のアンケート問題と同じ物です。\n",
    "\n",
    ":::\n",
    "\n",
    "太郎くんはお母さんと、次の国語のテストでクラスの上位半分に入ったら、新しくスマートフォンを買い換える約束をしました。テストの結果、太郎くんの成績はクラスの平均点よりも低い点数でした。この場合、太郎くんはスマートフォンを買ってもらえるでしょうか?以下から適切な選択肢を1つ選んでください。\n",
    "\n",
    "回答のみを残し、他の選択肢については削除またはコメントアウト（行頭に`#`を追加）してください。\n",
    "\n",
    "```\n",
    "1. 必ず買ってもらえる。\n",
    "2. 買ってもらえる可能性はある。\n",
    "3. 買ってもらえない。\n",
    "```\n",
    "\n",
    "## 問題: \n",
    "\n",
    "::: {.callout-note}\n",
    "\n",
    "この問題は初回のアンケート問題と同じ物です。\n",
    "\n",
    ":::\n",
    "\n",
    "さまざまなダイアモンドの重さ（carat）を記録したデータの要約統計量として、最小値0.20、最大値5.01、平均値0.79、中央値0.70という値が得られています。次の図はダイアモンドの重さの分布をヒストグラムと呼ばれる図で示したもので、横軸にダイアモンドの重さをいくらかの区間に分割した階級、縦軸にその階級に含まれるデータの件数を表します。このデータの最頻値（最も件数の多い値）について、要約統計量とヒストグラムから読み取れるものは次のうちどれでしょうか。\n",
    "\n",
    "![](https://raw.githubusercontent.com/uribo/INNV1250/f22c288864e7f3cbb292aa58cc0cb752796fa683/img/q07.png)\n",
    "\n",
    "回答のみを残し、他の選択肢については削除またはコメントアウト（行頭に`#`を追加）してください。\n",
    "\n",
    "```\n",
    "1. ヒストグラムで最も高い階級となる0.3ぐらい。\n",
    "2. 平均値と中央値の付近の0.7くらい。\n",
    "3. 最小値と最大値の真ん中の2.4ぐらい。\n",
    "```"
   ]
  }
 ],
 "metadata": {
  "jupytext": {
   "formats": "ipynb,qmd"
  },
  "kernelspec": {
   "display_name": "R",
   "language": "R",
   "name": "ir"
  },
  "language_info": {
   "codemirror_mode": "r",
   "file_extension": ".r",
   "mimetype": "text/x-r-source",
   "name": "R",
   "pygments_lexer": "r",
   "version": "4.2.3"
  }
 },
 "nbformat": 4,
 "nbformat_minor": 5
}
