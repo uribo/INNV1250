{
 "cells": [
  {
   "cell_type": "raw",
   "id": "a3467cb1",
   "metadata": {},
   "source": [
    "---\n",
    "title: データと確率\n",
    "keep-ipynb: true\n",
    "eval: true\n",
    "echo: true\n",
    "---"
   ]
  },
  {
   "cell_type": "markdown",
   "id": "ef132a75",
   "metadata": {},
   "source": [
    "## パッケージのインストールと読み込み\n"
   ]
  },
  {
   "cell_type": "code",
   "execution_count": 1,
   "id": "71d6ff97",
   "metadata": {},
   "outputs": [],
   "source": [
    "library(dplyr, warn.conflicts = FALSE)\n",
    "library(ggplot2)"
   ]
  },
  {
   "cell_type": "markdown",
   "id": "0f2881a0",
   "metadata": {},
   "source": [
    "## 母集団と標本\n",
    "\n",
    "### 標本抽出\n",
    "\n",
    "無作為抽出法\n"
   ]
  },
  {
   "cell_type": "code",
   "execution_count": 2,
   "id": "d3840190",
   "metadata": {},
   "outputs": [
    {
     "data": {
      "text/html": [
       "<style>\n",
       ".list-inline {list-style: none; margin:0; padding: 0}\n",
       ".list-inline>li {display: inline-block}\n",
       ".list-inline>li:not(:last-child)::after {content: \"\\00b7\"; padding: 0 .5ex}\n",
       "</style>\n",
       "<ol class=list-inline><li>31</li><li>79</li><li>51</li><li>14</li><li>67</li><li>42</li><li>50</li><li>43</li><li>97</li><li>25</li></ol>\n"
      ],
      "text/latex": [
       "\\begin{enumerate*}\n",
       "\\item 31\n",
       "\\item 79\n",
       "\\item 51\n",
       "\\item 14\n",
       "\\item 67\n",
       "\\item 42\n",
       "\\item 50\n",
       "\\item 43\n",
       "\\item 97\n",
       "\\item 25\n",
       "\\end{enumerate*}\n"
      ],
      "text/markdown": [
       "1. 31\n",
       "2. 79\n",
       "3. 51\n",
       "4. 14\n",
       "5. 67\n",
       "6. 42\n",
       "7. 50\n",
       "8. 43\n",
       "9. 97\n",
       "10. 25\n",
       "\n",
       "\n"
      ],
      "text/plain": [
       " [1] 31 79 51 14 67 42 50 43 97 25"
      ]
     },
     "metadata": {},
     "output_type": "display_data"
    }
   ],
   "source": [
    "# 乱数を固定（結果に再現性をもたせるための処理）\n",
    "# set.seed()の行をコメントアウトすると、同じ値を得ることができなくなる\n",
    "set.seed(123)\n",
    "# 1から100までの整数を生成\n",
    "population <- seq.int(100)\n",
    "# 10個の標本を無作為に抽出（非復元抽出）\n",
    "sample <- sample(population, 10, replace = FALSE)\n",
    "sample"
   ]
  },
  {
   "cell_type": "markdown",
   "id": "d6dbd10a",
   "metadata": {},
   "source": [
    "層化抽出法では、母集団を年齢や性別、職業などのいくつかの層に分け、各層から無作為抽出を行います。これにより、各層の特徴を反映した標本を得やすくなります。\n"
   ]
  },
  {
   "cell_type": "code",
   "execution_count": 3,
   "id": "67848768",
   "metadata": {},
   "outputs": [
    {
     "data": {
      "text/html": [
       "<table class=\"dataframe\">\n",
       "<caption>A data.frame: 3 × 2</caption>\n",
       "<thead>\n",
       "\t<tr><th scope=col>Species</th><th scope=col>n</th></tr>\n",
       "\t<tr><th scope=col>&lt;fct&gt;</th><th scope=col>&lt;int&gt;</th></tr>\n",
       "</thead>\n",
       "<tbody>\n",
       "\t<tr><td>setosa    </td><td>10</td></tr>\n",
       "\t<tr><td>versicolor</td><td>10</td></tr>\n",
       "\t<tr><td>virginica </td><td>10</td></tr>\n",
       "</tbody>\n",
       "</table>\n"
      ],
      "text/latex": [
       "A data.frame: 3 × 2\n",
       "\\begin{tabular}{ll}\n",
       " Species & n\\\\\n",
       " <fct> & <int>\\\\\n",
       "\\hline\n",
       "\t setosa     & 10\\\\\n",
       "\t versicolor & 10\\\\\n",
       "\t virginica  & 10\\\\\n",
       "\\end{tabular}\n"
      ],
      "text/markdown": [
       "\n",
       "A data.frame: 3 × 2\n",
       "\n",
       "| Species &lt;fct&gt; | n &lt;int&gt; |\n",
       "|---|---|\n",
       "| setosa     | 10 |\n",
       "| versicolor | 10 |\n",
       "| virginica  | 10 |\n",
       "\n"
      ],
      "text/plain": [
       "  Species    n \n",
       "1 setosa     10\n",
       "2 versicolor 10\n",
       "3 virginica  10"
      ]
     },
     "metadata": {},
     "output_type": "display_data"
    }
   ],
   "source": [
    "# irisのspeciesから10件ずつ抽出\n",
    "# コードを実行する度に異なる行が抽出されるが、Speciesごとに10件ずつ抽出は維持される\n",
    "iris_sample <- \n",
    "  iris |> \n",
    "  slice_sample(n = 10, \n",
    "               replace = FALSE,\n",
    "               by = Species)\n",
    "\n",
    "# Species（層）ごとの件数を確認\n",
    "count(iris_sample, Species)"
   ]
  },
  {
   "cell_type": "markdown",
   "id": "8b225937",
   "metadata": {},
   "source": [
    "## 確率と確率変数\n",
    "\n",
    "### 確率関数\n",
    "\n",
    "サイコロ投げの確率分布は、1から6までの整数が等確率で出る一様分布です。サイコロの出る目とその確率を表にまとめると以下のようになります。\n",
    "\n",
    "| 出る目 | 1 | 2 | 3 | 4 | 5 | 6 |\n",
    "| --- | --- | --- | --- | --- | --- | --- |\n",
    "| 確率 | 1/6 | 1/6 | 1/6 | 1/6 | 1/6 | 1/6 |\n",
    "\n",
    "サイコロの出る目を $X$ とすると、$X$ は確率変数と呼ばれます。確率変数は、確率分布に従って値をとる変数です。確率変数は、$X$ のように大文字のアルファベットで表します。一方、確率分布に従って値をとる具体的な値は、$x$ のように小文字のアルファベットで表します。\n",
    "\n",
    "確率変数 $X$ がとる値 $x$ の確率を $P(X = x)$ と表します。サイコロの出る目が1の場合、$P(X = 1)$ は1/6です。確率 $P(X = x)$ は、確率関数と呼ばれます。確率関数は、$f(x)$ のように小文字のアルファベットで表します。\n"
   ]
  },
  {
   "cell_type": "code",
   "execution_count": 4,
   "id": "f86c87b7",
   "metadata": {},
   "outputs": [
    {
     "data": {
      "text/plain": [
       "dice_face\n",
       " 1  2  3  4  5  6 \n",
       "11  8  8  7 11 15 "
      ]
     },
     "metadata": {},
     "output_type": "display_data"
    }
   ],
   "source": [
    "# 1から6までの整数を等確率で60個生成\n",
    "n <- 60\n",
    "dice_face <- sample(seq.int(6), size = n, replace = TRUE)\n",
    "# 各出目の頻度を確認\n",
    "table(dice_face)\n",
    "\n",
    "# nの数を多くするとどうなるか。1000から100000まで変えて実行してみよう\n",
    "# table(dice_face)/length(dice_face)\n",
    "# sum(table(dice_face)/length(dice_face))"
   ]
  },
  {
   "cell_type": "markdown",
   "id": "855308a4",
   "metadata": {},
   "source": [
    "**離散一様分布**の分布の形\n"
   ]
  },
  {
   "cell_type": "code",
   "execution_count": 5,
   "id": "d03ac17a",
   "metadata": {},
   "outputs": [
    {
     "name": "stderr",
     "output_type": "stream",
     "text": [
      "Warning message in title(...):\n",
      "“conversion failure on 'サイコロの出る目の離散一様分布' in 'mbcsToSbcs': dot substituted for <e3>”\n"
     ]
    },
    {
     "name": "stderr",
     "output_type": "stream",
     "text": [
      "Warning message in title(...):\n",
      "“conversion failure on 'サイコロの出る目の離散一様分布' in 'mbcsToSbcs': dot substituted for <82>”\n"
     ]
    },
    {
     "name": "stderr",
     "output_type": "stream",
     "text": [
      "Warning message in title(...):\n",
      "“conversion failure on 'サイコロの出る目の離散一様分布' in 'mbcsToSbcs': dot substituted for <b5>”\n"
     ]
    },
    {
     "name": "stderr",
     "output_type": "stream",
     "text": [
      "Warning message in title(...):\n",
      "“conversion failure on 'サイコロの出る目の離散一様分布' in 'mbcsToSbcs': dot substituted for <e3>”\n"
     ]
    },
    {
     "name": "stderr",
     "output_type": "stream",
     "text": [
      "Warning message in title(...):\n",
      "“conversion failure on 'サイコロの出る目の離散一様分布' in 'mbcsToSbcs': dot substituted for <82>”\n"
     ]
    },
    {
     "name": "stderr",
     "output_type": "stream",
     "text": [
      "Warning message in title(...):\n",
      "“conversion failure on 'サイコロの出る目の離散一様分布' in 'mbcsToSbcs': dot substituted for <a4>”\n"
     ]
    },
    {
     "name": "stderr",
     "output_type": "stream",
     "text": [
      "Warning message in title(...):\n",
      "“conversion failure on 'サイコロの出る目の離散一様分布' in 'mbcsToSbcs': dot substituted for <e3>”\n"
     ]
    },
    {
     "name": "stderr",
     "output_type": "stream",
     "text": [
      "Warning message in title(...):\n",
      "“conversion failure on 'サイコロの出る目の離散一様分布' in 'mbcsToSbcs': dot substituted for <82>”\n"
     ]
    },
    {
     "name": "stderr",
     "output_type": "stream",
     "text": [
      "Warning message in title(...):\n",
      "“conversion failure on 'サイコロの出る目の離散一様分布' in 'mbcsToSbcs': dot substituted for <b3>”\n"
     ]
    },
    {
     "name": "stderr",
     "output_type": "stream",
     "text": [
      "Warning message in title(...):\n",
      "“conversion failure on 'サイコロの出る目の離散一様分布' in 'mbcsToSbcs': dot substituted for <e3>”\n"
     ]
    },
    {
     "name": "stderr",
     "output_type": "stream",
     "text": [
      "Warning message in title(...):\n",
      "“conversion failure on 'サイコロの出る目の離散一様分布' in 'mbcsToSbcs': dot substituted for <83>”\n"
     ]
    },
    {
     "name": "stderr",
     "output_type": "stream",
     "text": [
      "Warning message in title(...):\n",
      "“conversion failure on 'サイコロの出る目の離散一様分布' in 'mbcsToSbcs': dot substituted for <ad>”\n"
     ]
    },
    {
     "name": "stderr",
     "output_type": "stream",
     "text": [
      "Warning message in title(...):\n",
      "“conversion failure on 'サイコロの出る目の離散一様分布' in 'mbcsToSbcs': dot substituted for <e3>”\n"
     ]
    },
    {
     "name": "stderr",
     "output_type": "stream",
     "text": [
      "Warning message in title(...):\n",
      "“conversion failure on 'サイコロの出る目の離散一様分布' in 'mbcsToSbcs': dot substituted for <81>”\n"
     ]
    },
    {
     "name": "stderr",
     "output_type": "stream",
     "text": [
      "Warning message in title(...):\n",
      "“conversion failure on 'サイコロの出る目の離散一様分布' in 'mbcsToSbcs': dot substituted for <ae>”\n"
     ]
    },
    {
     "name": "stderr",
     "output_type": "stream",
     "text": [
      "Warning message in title(...):\n",
      "“conversion failure on 'サイコロの出る目の離散一様分布' in 'mbcsToSbcs': dot substituted for <e5>”\n"
     ]
    },
    {
     "name": "stderr",
     "output_type": "stream",
     "text": [
      "Warning message in title(...):\n",
      "“conversion failure on 'サイコロの出る目の離散一様分布' in 'mbcsToSbcs': dot substituted for <87>”\n"
     ]
    },
    {
     "name": "stderr",
     "output_type": "stream",
     "text": [
      "Warning message in title(...):\n",
      "“conversion failure on 'サイコロの出る目の離散一様分布' in 'mbcsToSbcs': dot substituted for <ba>”\n"
     ]
    },
    {
     "name": "stderr",
     "output_type": "stream",
     "text": [
      "Warning message in title(...):\n",
      "“conversion failure on 'サイコロの出る目の離散一様分布' in 'mbcsToSbcs': dot substituted for <e3>”\n"
     ]
    },
    {
     "name": "stderr",
     "output_type": "stream",
     "text": [
      "Warning message in title(...):\n",
      "“conversion failure on 'サイコロの出る目の離散一様分布' in 'mbcsToSbcs': dot substituted for <82>”\n"
     ]
    },
    {
     "name": "stderr",
     "output_type": "stream",
     "text": [
      "Warning message in title(...):\n",
      "“conversion failure on 'サイコロの出る目の離散一様分布' in 'mbcsToSbcs': dot substituted for <8b>”\n"
     ]
    },
    {
     "name": "stderr",
     "output_type": "stream",
     "text": [
      "Warning message in title(...):\n",
      "“conversion failure on 'サイコロの出る目の離散一様分布' in 'mbcsToSbcs': dot substituted for <e7>”\n"
     ]
    },
    {
     "name": "stderr",
     "output_type": "stream",
     "text": [
      "Warning message in title(...):\n",
      "“conversion failure on 'サイコロの出る目の離散一様分布' in 'mbcsToSbcs': dot substituted for <9b>”\n"
     ]
    },
    {
     "name": "stderr",
     "output_type": "stream",
     "text": [
      "Warning message in title(...):\n",
      "“conversion failure on 'サイコロの出る目の離散一様分布' in 'mbcsToSbcs': dot substituted for <ae>”\n"
     ]
    },
    {
     "name": "stderr",
     "output_type": "stream",
     "text": [
      "Warning message in title(...):\n",
      "“conversion failure on 'サイコロの出る目の離散一様分布' in 'mbcsToSbcs': dot substituted for <e3>”\n"
     ]
    },
    {
     "name": "stderr",
     "output_type": "stream",
     "text": [
      "Warning message in title(...):\n",
      "“conversion failure on 'サイコロの出る目の離散一様分布' in 'mbcsToSbcs': dot substituted for <81>”\n"
     ]
    },
    {
     "name": "stderr",
     "output_type": "stream",
     "text": [
      "Warning message in title(...):\n",
      "“conversion failure on 'サイコロの出る目の離散一様分布' in 'mbcsToSbcs': dot substituted for <ae>”\n"
     ]
    },
    {
     "name": "stderr",
     "output_type": "stream",
     "text": [
      "Warning message in title(...):\n",
      "“conversion failure on 'サイコロの出る目の離散一様分布' in 'mbcsToSbcs': dot substituted for <e9>”\n"
     ]
    },
    {
     "name": "stderr",
     "output_type": "stream",
     "text": [
      "Warning message in title(...):\n",
      "“conversion failure on 'サイコロの出る目の離散一様分布' in 'mbcsToSbcs': dot substituted for <9b>”\n"
     ]
    },
    {
     "name": "stderr",
     "output_type": "stream",
     "text": [
      "Warning message in title(...):\n",
      "“conversion failure on 'サイコロの出る目の離散一様分布' in 'mbcsToSbcs': dot substituted for <a2>”\n"
     ]
    },
    {
     "name": "stderr",
     "output_type": "stream",
     "text": [
      "Warning message in title(...):\n",
      "“conversion failure on 'サイコロの出る目の離散一様分布' in 'mbcsToSbcs': dot substituted for <e6>”\n"
     ]
    },
    {
     "name": "stderr",
     "output_type": "stream",
     "text": [
      "Warning message in title(...):\n",
      "“conversion failure on 'サイコロの出る目の離散一様分布' in 'mbcsToSbcs': dot substituted for <95>”\n"
     ]
    },
    {
     "name": "stderr",
     "output_type": "stream",
     "text": [
      "Warning message in title(...):\n",
      "“conversion failure on 'サイコロの出る目の離散一様分布' in 'mbcsToSbcs': dot substituted for <a3>”\n"
     ]
    },
    {
     "name": "stderr",
     "output_type": "stream",
     "text": [
      "Warning message in title(...):\n",
      "“conversion failure on 'サイコロの出る目の離散一様分布' in 'mbcsToSbcs': dot substituted for <e4>”\n"
     ]
    },
    {
     "name": "stderr",
     "output_type": "stream",
     "text": [
      "Warning message in title(...):\n",
      "“conversion failure on 'サイコロの出る目の離散一様分布' in 'mbcsToSbcs': dot substituted for <b8>”\n"
     ]
    },
    {
     "name": "stderr",
     "output_type": "stream",
     "text": [
      "Warning message in title(...):\n",
      "“conversion failure on 'サイコロの出る目の離散一様分布' in 'mbcsToSbcs': dot substituted for <80>”\n"
     ]
    },
    {
     "name": "stderr",
     "output_type": "stream",
     "text": [
      "Warning message in title(...):\n",
      "“conversion failure on 'サイコロの出る目の離散一様分布' in 'mbcsToSbcs': dot substituted for <e6>”\n"
     ]
    },
    {
     "name": "stderr",
     "output_type": "stream",
     "text": [
      "Warning message in title(...):\n",
      "“conversion failure on 'サイコロの出る目の離散一様分布' in 'mbcsToSbcs': dot substituted for <a7>”\n"
     ]
    },
    {
     "name": "stderr",
     "output_type": "stream",
     "text": [
      "Warning message in title(...):\n",
      "“conversion failure on 'サイコロの出る目の離散一様分布' in 'mbcsToSbcs': dot substituted for <98>”\n"
     ]
    },
    {
     "name": "stderr",
     "output_type": "stream",
     "text": [
      "Warning message in title(...):\n",
      "“conversion failure on 'サイコロの出る目の離散一様分布' in 'mbcsToSbcs': dot substituted for <e5>”\n"
     ]
    },
    {
     "name": "stderr",
     "output_type": "stream",
     "text": [
      "Warning message in title(...):\n",
      "“conversion failure on 'サイコロの出る目の離散一様分布' in 'mbcsToSbcs': dot substituted for <88>”\n"
     ]
    },
    {
     "name": "stderr",
     "output_type": "stream",
     "text": [
      "Warning message in title(...):\n",
      "“conversion failure on 'サイコロの出る目の離散一様分布' in 'mbcsToSbcs': dot substituted for <86>”\n"
     ]
    },
    {
     "name": "stderr",
     "output_type": "stream",
     "text": [
      "Warning message in title(...):\n",
      "“conversion failure on 'サイコロの出る目の離散一様分布' in 'mbcsToSbcs': dot substituted for <e5>”\n"
     ]
    },
    {
     "name": "stderr",
     "output_type": "stream",
     "text": [
      "Warning message in title(...):\n",
      "“conversion failure on 'サイコロの出る目の離散一様分布' in 'mbcsToSbcs': dot substituted for <b8>”\n"
     ]
    },
    {
     "name": "stderr",
     "output_type": "stream",
     "text": [
      "Warning message in title(...):\n",
      "“conversion failure on 'サイコロの出る目の離散一様分布' in 'mbcsToSbcs': dot substituted for <83>”\n"
     ]
    },
    {
     "name": "stderr",
     "output_type": "stream",
     "text": [
      "Warning message in title(...):\n",
      "“conversion failure on 'サイコロの出る目' in 'mbcsToSbcs': dot substituted for <e3>”\n"
     ]
    },
    {
     "name": "stderr",
     "output_type": "stream",
     "text": [
      "Warning message in title(...):\n",
      "“conversion failure on 'サイコロの出る目' in 'mbcsToSbcs': dot substituted for <82>”\n"
     ]
    },
    {
     "name": "stderr",
     "output_type": "stream",
     "text": [
      "Warning message in title(...):\n",
      "“conversion failure on 'サイコロの出る目' in 'mbcsToSbcs': dot substituted for <b5>”\n"
     ]
    },
    {
     "name": "stderr",
     "output_type": "stream",
     "text": [
      "Warning message in title(...):\n",
      "“conversion failure on 'サイコロの出る目' in 'mbcsToSbcs': dot substituted for <e3>”\n"
     ]
    },
    {
     "name": "stderr",
     "output_type": "stream",
     "text": [
      "Warning message in title(...):\n",
      "“conversion failure on 'サイコロの出る目' in 'mbcsToSbcs': dot substituted for <82>”\n"
     ]
    },
    {
     "name": "stderr",
     "output_type": "stream",
     "text": [
      "Warning message in title(...):\n",
      "“conversion failure on 'サイコロの出る目' in 'mbcsToSbcs': dot substituted for <a4>”\n"
     ]
    },
    {
     "name": "stderr",
     "output_type": "stream",
     "text": [
      "Warning message in title(...):\n",
      "“conversion failure on 'サイコロの出る目' in 'mbcsToSbcs': dot substituted for <e3>”\n"
     ]
    },
    {
     "name": "stderr",
     "output_type": "stream",
     "text": [
      "Warning message in title(...):\n",
      "“conversion failure on 'サイコロの出る目' in 'mbcsToSbcs': dot substituted for <82>”\n"
     ]
    },
    {
     "name": "stderr",
     "output_type": "stream",
     "text": [
      "Warning message in title(...):\n",
      "“conversion failure on 'サイコロの出る目' in 'mbcsToSbcs': dot substituted for <b3>”\n"
     ]
    },
    {
     "name": "stderr",
     "output_type": "stream",
     "text": [
      "Warning message in title(...):\n",
      "“conversion failure on 'サイコロの出る目' in 'mbcsToSbcs': dot substituted for <e3>”\n"
     ]
    },
    {
     "name": "stderr",
     "output_type": "stream",
     "text": [
      "Warning message in title(...):\n",
      "“conversion failure on 'サイコロの出る目' in 'mbcsToSbcs': dot substituted for <83>”\n"
     ]
    },
    {
     "name": "stderr",
     "output_type": "stream",
     "text": [
      "Warning message in title(...):\n",
      "“conversion failure on 'サイコロの出る目' in 'mbcsToSbcs': dot substituted for <ad>”\n"
     ]
    },
    {
     "name": "stderr",
     "output_type": "stream",
     "text": [
      "Warning message in title(...):\n",
      "“conversion failure on 'サイコロの出る目' in 'mbcsToSbcs': dot substituted for <e3>”\n"
     ]
    },
    {
     "name": "stderr",
     "output_type": "stream",
     "text": [
      "Warning message in title(...):\n",
      "“conversion failure on 'サイコロの出る目' in 'mbcsToSbcs': dot substituted for <81>”\n"
     ]
    },
    {
     "name": "stderr",
     "output_type": "stream",
     "text": [
      "Warning message in title(...):\n",
      "“conversion failure on 'サイコロの出る目' in 'mbcsToSbcs': dot substituted for <ae>”\n"
     ]
    },
    {
     "name": "stderr",
     "output_type": "stream",
     "text": [
      "Warning message in title(...):\n",
      "“conversion failure on 'サイコロの出る目' in 'mbcsToSbcs': dot substituted for <e5>”\n"
     ]
    },
    {
     "name": "stderr",
     "output_type": "stream",
     "text": [
      "Warning message in title(...):\n",
      "“conversion failure on 'サイコロの出る目' in 'mbcsToSbcs': dot substituted for <87>”\n"
     ]
    },
    {
     "name": "stderr",
     "output_type": "stream",
     "text": [
      "Warning message in title(...):\n",
      "“conversion failure on 'サイコロの出る目' in 'mbcsToSbcs': dot substituted for <ba>”\n"
     ]
    },
    {
     "name": "stderr",
     "output_type": "stream",
     "text": [
      "Warning message in title(...):\n",
      "“conversion failure on 'サイコロの出る目' in 'mbcsToSbcs': dot substituted for <e3>”\n"
     ]
    },
    {
     "name": "stderr",
     "output_type": "stream",
     "text": [
      "Warning message in title(...):\n",
      "“conversion failure on 'サイコロの出る目' in 'mbcsToSbcs': dot substituted for <82>”\n"
     ]
    },
    {
     "name": "stderr",
     "output_type": "stream",
     "text": [
      "Warning message in title(...):\n",
      "“conversion failure on 'サイコロの出る目' in 'mbcsToSbcs': dot substituted for <8b>”\n"
     ]
    },
    {
     "name": "stderr",
     "output_type": "stream",
     "text": [
      "Warning message in title(...):\n",
      "“conversion failure on 'サイコロの出る目' in 'mbcsToSbcs': dot substituted for <e7>”\n"
     ]
    },
    {
     "name": "stderr",
     "output_type": "stream",
     "text": [
      "Warning message in title(...):\n",
      "“conversion failure on 'サイコロの出る目' in 'mbcsToSbcs': dot substituted for <9b>”\n"
     ]
    },
    {
     "name": "stderr",
     "output_type": "stream",
     "text": [
      "Warning message in title(...):\n",
      "“conversion failure on 'サイコロの出る目' in 'mbcsToSbcs': dot substituted for <ae>”\n"
     ]
    },
    {
     "name": "stderr",
     "output_type": "stream",
     "text": [
      "Warning message in title(...):\n",
      "“conversion failure on '確率' in 'mbcsToSbcs': dot substituted for <e7>”\n"
     ]
    },
    {
     "name": "stderr",
     "output_type": "stream",
     "text": [
      "Warning message in title(...):\n",
      "“conversion failure on '確率' in 'mbcsToSbcs': dot substituted for <a2>”\n"
     ]
    },
    {
     "name": "stderr",
     "output_type": "stream",
     "text": [
      "Warning message in title(...):\n",
      "“conversion failure on '確率' in 'mbcsToSbcs': dot substituted for <ba>”\n"
     ]
    },
    {
     "name": "stderr",
     "output_type": "stream",
     "text": [
      "Warning message in title(...):\n",
      "“conversion failure on '確率' in 'mbcsToSbcs': dot substituted for <e7>”\n"
     ]
    },
    {
     "name": "stderr",
     "output_type": "stream",
     "text": [
      "Warning message in title(...):\n",
      "“conversion failure on '確率' in 'mbcsToSbcs': dot substituted for <8e>”\n"
     ]
    },
    {
     "name": "stderr",
     "output_type": "stream",
     "text": [
      "Warning message in title(...):\n",
      "“conversion failure on '確率' in 'mbcsToSbcs': dot substituted for <87>”\n"
     ]
    },
    {
     "data": {
      "image/png": "[encoded data removed]",
      "text/plain": [
       "Plot with title “サイコロの出る目の離散一様分布”"
      ]
     },
     "metadata": {
      "image/png": {
       "height": 420,
       "width": 420
      }
     },
     "output_type": "display_data"
    }
   ],
   "source": [
    "x <- seq.int(6)\n",
    "# 一様分布の確率関数\n",
    "y <- dunif(x, 1, 6)\n",
    "plot(x, y, \n",
    "     type = \"h\", \n",
    "     lwd = 3, \n",
    "     col = \"#0cb3d1\", \n",
    "     ylim = c(0, 0.2), \n",
    "     xlab = \"サイコロの出る目\", \n",
    "     ylab = \"確率\",\n",
    "     main = \"サイコロの出る目の離散一様分布\")"
   ]
  },
  {
   "cell_type": "markdown",
   "id": "c8c6e040",
   "metadata": {},
   "source": [
    "**二項分布**の分布の形\n"
   ]
  },
  {
   "cell_type": "code",
   "execution_count": 6,
   "id": "23a8d2fa",
   "metadata": {},
   "outputs": [
    {
     "name": "stderr",
     "output_type": "stream",
     "text": [
      "Warning message in title(...):\n",
      "“conversion failure on '二項分布（試行回数 =10成功確率 =0.5）' in 'mbcsToSbcs': dot substituted for <e4>”\n"
     ]
    },
    {
     "name": "stderr",
     "output_type": "stream",
     "text": [
      "Warning message in title(...):\n",
      "“conversion failure on '二項分布（試行回数 =10成功確率 =0.5）' in 'mbcsToSbcs': dot substituted for <ba>”\n"
     ]
    },
    {
     "name": "stderr",
     "output_type": "stream",
     "text": [
      "Warning message in title(...):\n",
      "“conversion failure on '二項分布（試行回数 =10成功確率 =0.5）' in 'mbcsToSbcs': dot substituted for <8c>”\n"
     ]
    },
    {
     "name": "stderr",
     "output_type": "stream",
     "text": [
      "Warning message in title(...):\n",
      "“conversion failure on '二項分布（試行回数 =10成功確率 =0.5）' in 'mbcsToSbcs': dot substituted for <e9>”\n"
     ]
    },
    {
     "name": "stderr",
     "output_type": "stream",
     "text": [
      "Warning message in title(...):\n",
      "“conversion failure on '二項分布（試行回数 =10成功確率 =0.5）' in 'mbcsToSbcs': dot substituted for <a0>”\n"
     ]
    },
    {
     "name": "stderr",
     "output_type": "stream",
     "text": [
      "Warning message in title(...):\n",
      "“conversion failure on '二項分布（試行回数 =10成功確率 =0.5）' in 'mbcsToSbcs': dot substituted for <85>”\n"
     ]
    },
    {
     "name": "stderr",
     "output_type": "stream",
     "text": [
      "Warning message in title(...):\n",
      "“conversion failure on '二項分布（試行回数 =10成功確率 =0.5）' in 'mbcsToSbcs': dot substituted for <e5>”\n"
     ]
    },
    {
     "name": "stderr",
     "output_type": "stream",
     "text": [
      "Warning message in title(...):\n",
      "“conversion failure on '二項分布（試行回数 =10成功確率 =0.5）' in 'mbcsToSbcs': dot substituted for <88>”\n"
     ]
    },
    {
     "name": "stderr",
     "output_type": "stream",
     "text": [
      "Warning message in title(...):\n",
      "“conversion failure on '二項分布（試行回数 =10成功確率 =0.5）' in 'mbcsToSbcs': dot substituted for <86>”\n"
     ]
    },
    {
     "name": "stderr",
     "output_type": "stream",
     "text": [
      "Warning message in title(...):\n",
      "“conversion failure on '二項分布（試行回数 =10成功確率 =0.5）' in 'mbcsToSbcs': dot substituted for <e5>”\n"
     ]
    },
    {
     "name": "stderr",
     "output_type": "stream",
     "text": [
      "Warning message in title(...):\n",
      "“conversion failure on '二項分布（試行回数 =10成功確率 =0.5）' in 'mbcsToSbcs': dot substituted for <b8>”\n"
     ]
    },
    {
     "name": "stderr",
     "output_type": "stream",
     "text": [
      "Warning message in title(...):\n",
      "“conversion failure on '二項分布（試行回数 =10成功確率 =0.5）' in 'mbcsToSbcs': dot substituted for <83>”\n"
     ]
    },
    {
     "name": "stderr",
     "output_type": "stream",
     "text": [
      "Warning message in title(...):\n",
      "“conversion failure on '二項分布（試行回数 =10成功確率 =0.5）' in 'mbcsToSbcs': dot substituted for <ef>”\n"
     ]
    },
    {
     "name": "stderr",
     "output_type": "stream",
     "text": [
      "Warning message in title(...):\n",
      "“conversion failure on '二項分布（試行回数 =10成功確率 =0.5）' in 'mbcsToSbcs': dot substituted for <bc>”\n"
     ]
    },
    {
     "name": "stderr",
     "output_type": "stream",
     "text": [
      "Warning message in title(...):\n",
      "“conversion failure on '二項分布（試行回数 =10成功確率 =0.5）' in 'mbcsToSbcs': dot substituted for <88>”\n"
     ]
    },
    {
     "name": "stderr",
     "output_type": "stream",
     "text": [
      "Warning message in title(...):\n",
      "“conversion failure on '二項分布（試行回数 =10成功確率 =0.5）' in 'mbcsToSbcs': dot substituted for <e8>”\n"
     ]
    },
    {
     "name": "stderr",
     "output_type": "stream",
     "text": [
      "Warning message in title(...):\n",
      "“conversion failure on '二項分布（試行回数 =10成功確率 =0.5）' in 'mbcsToSbcs': dot substituted for <a9>”\n"
     ]
    },
    {
     "name": "stderr",
     "output_type": "stream",
     "text": [
      "Warning message in title(...):\n",
      "“conversion failure on '二項分布（試行回数 =10成功確率 =0.5）' in 'mbcsToSbcs': dot substituted for <a6>”\n"
     ]
    },
    {
     "name": "stderr",
     "output_type": "stream",
     "text": [
      "Warning message in title(...):\n",
      "“conversion failure on '二項分布（試行回数 =10成功確率 =0.5）' in 'mbcsToSbcs': dot substituted for <e8>”\n"
     ]
    },
    {
     "name": "stderr",
     "output_type": "stream",
     "text": [
      "Warning message in title(...):\n",
      "“conversion failure on '二項分布（試行回数 =10成功確率 =0.5）' in 'mbcsToSbcs': dot substituted for <a1>”\n"
     ]
    },
    {
     "name": "stderr",
     "output_type": "stream",
     "text": [
      "Warning message in title(...):\n",
      "“conversion failure on '二項分布（試行回数 =10成功確率 =0.5）' in 'mbcsToSbcs': dot substituted for <8c>”\n"
     ]
    },
    {
     "name": "stderr",
     "output_type": "stream",
     "text": [
      "Warning message in title(...):\n",
      "“conversion failure on '二項分布（試行回数 =10成功確率 =0.5）' in 'mbcsToSbcs': dot substituted for <e5>”\n"
     ]
    },
    {
     "name": "stderr",
     "output_type": "stream",
     "text": [
      "Warning message in title(...):\n",
      "“conversion failure on '二項分布（試行回数 =10成功確率 =0.5）' in 'mbcsToSbcs': dot substituted for <9b>”\n"
     ]
    },
    {
     "name": "stderr",
     "output_type": "stream",
     "text": [
      "Warning message in title(...):\n",
      "“conversion failure on '二項分布（試行回数 =10成功確率 =0.5）' in 'mbcsToSbcs': dot substituted for <9e>”\n"
     ]
    },
    {
     "name": "stderr",
     "output_type": "stream",
     "text": [
      "Warning message in title(...):\n",
      "“conversion failure on '二項分布（試行回数 =10成功確率 =0.5）' in 'mbcsToSbcs': dot substituted for <e6>”\n"
     ]
    },
    {
     "name": "stderr",
     "output_type": "stream",
     "text": [
      "Warning message in title(...):\n",
      "“conversion failure on '二項分布（試行回数 =10成功確率 =0.5）' in 'mbcsToSbcs': dot substituted for <95>”\n"
     ]
    },
    {
     "name": "stderr",
     "output_type": "stream",
     "text": [
      "Warning message in title(...):\n",
      "“conversion failure on '二項分布（試行回数 =10成功確率 =0.5）' in 'mbcsToSbcs': dot substituted for <b0>”\n"
     ]
    },
    {
     "name": "stderr",
     "output_type": "stream",
     "text": [
      "Warning message in title(...):\n",
      "“conversion failure on '二項分布（試行回数 =10成功確率 =0.5）' in 'mbcsToSbcs': dot substituted for <e6>”\n"
     ]
    },
    {
     "name": "stderr",
     "output_type": "stream",
     "text": [
      "Warning message in title(...):\n",
      "“conversion failure on '二項分布（試行回数 =10成功確率 =0.5）' in 'mbcsToSbcs': dot substituted for <88>”\n"
     ]
    },
    {
     "name": "stderr",
     "output_type": "stream",
     "text": [
      "Warning message in title(...):\n",
      "“conversion failure on '二項分布（試行回数 =10成功確率 =0.5）' in 'mbcsToSbcs': dot substituted for <90>”\n"
     ]
    },
    {
     "name": "stderr",
     "output_type": "stream",
     "text": [
      "Warning message in title(...):\n",
      "“conversion failure on '二項分布（試行回数 =10成功確率 =0.5）' in 'mbcsToSbcs': dot substituted for <e5>”\n"
     ]
    },
    {
     "name": "stderr",
     "output_type": "stream",
     "text": [
      "Warning message in title(...):\n",
      "“conversion failure on '二項分布（試行回数 =10成功確率 =0.5）' in 'mbcsToSbcs': dot substituted for <8a>”\n"
     ]
    },
    {
     "name": "stderr",
     "output_type": "stream",
     "text": [
      "Warning message in title(...):\n",
      "“conversion failure on '二項分布（試行回数 =10成功確率 =0.5）' in 'mbcsToSbcs': dot substituted for <9f>”\n"
     ]
    },
    {
     "name": "stderr",
     "output_type": "stream",
     "text": [
      "Warning message in title(...):\n",
      "“conversion failure on '二項分布（試行回数 =10成功確率 =0.5）' in 'mbcsToSbcs': dot substituted for <e7>”\n"
     ]
    },
    {
     "name": "stderr",
     "output_type": "stream",
     "text": [
      "Warning message in title(...):\n",
      "“conversion failure on '二項分布（試行回数 =10成功確率 =0.5）' in 'mbcsToSbcs': dot substituted for <a2>”\n"
     ]
    },
    {
     "name": "stderr",
     "output_type": "stream",
     "text": [
      "Warning message in title(...):\n",
      "“conversion failure on '二項分布（試行回数 =10成功確率 =0.5）' in 'mbcsToSbcs': dot substituted for <ba>”\n"
     ]
    },
    {
     "name": "stderr",
     "output_type": "stream",
     "text": [
      "Warning message in title(...):\n",
      "“conversion failure on '二項分布（試行回数 =10成功確率 =0.5）' in 'mbcsToSbcs': dot substituted for <e7>”\n"
     ]
    },
    {
     "name": "stderr",
     "output_type": "stream",
     "text": [
      "Warning message in title(...):\n",
      "“conversion failure on '二項分布（試行回数 =10成功確率 =0.5）' in 'mbcsToSbcs': dot substituted for <8e>”\n"
     ]
    },
    {
     "name": "stderr",
     "output_type": "stream",
     "text": [
      "Warning message in title(...):\n",
      "“conversion failure on '二項分布（試行回数 =10成功確率 =0.5）' in 'mbcsToSbcs': dot substituted for <87>”\n"
     ]
    },
    {
     "name": "stderr",
     "output_type": "stream",
     "text": [
      "Warning message in title(...):\n",
      "“conversion failure on '二項分布（試行回数 =10成功確率 =0.5）' in 'mbcsToSbcs': dot substituted for <ef>”\n"
     ]
    },
    {
     "name": "stderr",
     "output_type": "stream",
     "text": [
      "Warning message in title(...):\n",
      "“conversion failure on '二項分布（試行回数 =10成功確率 =0.5）' in 'mbcsToSbcs': dot substituted for <bc>”\n"
     ]
    },
    {
     "name": "stderr",
     "output_type": "stream",
     "text": [
      "Warning message in title(...):\n",
      "“conversion failure on '二項分布（試行回数 =10成功確率 =0.5）' in 'mbcsToSbcs': dot substituted for <89>”\n"
     ]
    },
    {
     "name": "stderr",
     "output_type": "stream",
     "text": [
      "Warning message in title(...):\n",
      "“conversion failure on '成功の回数' in 'mbcsToSbcs': dot substituted for <e6>”\n"
     ]
    },
    {
     "name": "stderr",
     "output_type": "stream",
     "text": [
      "Warning message in title(...):\n",
      "“conversion failure on '成功の回数' in 'mbcsToSbcs': dot substituted for <88>”\n"
     ]
    },
    {
     "name": "stderr",
     "output_type": "stream",
     "text": [
      "Warning message in title(...):\n",
      "“conversion failure on '成功の回数' in 'mbcsToSbcs': dot substituted for <90>”\n"
     ]
    },
    {
     "name": "stderr",
     "output_type": "stream",
     "text": [
      "Warning message in title(...):\n",
      "“conversion failure on '成功の回数' in 'mbcsToSbcs': dot substituted for <e5>”\n"
     ]
    },
    {
     "name": "stderr",
     "output_type": "stream",
     "text": [
      "Warning message in title(...):\n",
      "“conversion failure on '成功の回数' in 'mbcsToSbcs': dot substituted for <8a>”\n"
     ]
    },
    {
     "name": "stderr",
     "output_type": "stream",
     "text": [
      "Warning message in title(...):\n",
      "“conversion failure on '成功の回数' in 'mbcsToSbcs': dot substituted for <9f>”\n"
     ]
    },
    {
     "name": "stderr",
     "output_type": "stream",
     "text": [
      "Warning message in title(...):\n",
      "“conversion failure on '成功の回数' in 'mbcsToSbcs': dot substituted for <e3>”\n"
     ]
    },
    {
     "name": "stderr",
     "output_type": "stream",
     "text": [
      "Warning message in title(...):\n",
      "“conversion failure on '成功の回数' in 'mbcsToSbcs': dot substituted for <81>”\n"
     ]
    },
    {
     "name": "stderr",
     "output_type": "stream",
     "text": [
      "Warning message in title(...):\n",
      "“conversion failure on '成功の回数' in 'mbcsToSbcs': dot substituted for <ae>”\n"
     ]
    },
    {
     "name": "stderr",
     "output_type": "stream",
     "text": [
      "Warning message in title(...):\n",
      "“conversion failure on '成功の回数' in 'mbcsToSbcs': dot substituted for <e5>”\n"
     ]
    },
    {
     "name": "stderr",
     "output_type": "stream",
     "text": [
      "Warning message in title(...):\n",
      "“conversion failure on '成功の回数' in 'mbcsToSbcs': dot substituted for <9b>”\n"
     ]
    },
    {
     "name": "stderr",
     "output_type": "stream",
     "text": [
      "Warning message in title(...):\n",
      "“conversion failure on '成功の回数' in 'mbcsToSbcs': dot substituted for <9e>”\n"
     ]
    },
    {
     "name": "stderr",
     "output_type": "stream",
     "text": [
      "Warning message in title(...):\n",
      "“conversion failure on '成功の回数' in 'mbcsToSbcs': dot substituted for <e6>”\n"
     ]
    },
    {
     "name": "stderr",
     "output_type": "stream",
     "text": [
      "Warning message in title(...):\n",
      "“conversion failure on '成功の回数' in 'mbcsToSbcs': dot substituted for <95>”\n"
     ]
    },
    {
     "name": "stderr",
     "output_type": "stream",
     "text": [
      "Warning message in title(...):\n",
      "“conversion failure on '成功の回数' in 'mbcsToSbcs': dot substituted for <b0>”\n"
     ]
    },
    {
     "name": "stderr",
     "output_type": "stream",
     "text": [
      "Warning message in title(...):\n",
      "“conversion failure on '確率' in 'mbcsToSbcs': dot substituted for <e7>”\n"
     ]
    },
    {
     "name": "stderr",
     "output_type": "stream",
     "text": [
      "Warning message in title(...):\n",
      "“conversion failure on '確率' in 'mbcsToSbcs': dot substituted for <a2>”\n"
     ]
    },
    {
     "name": "stderr",
     "output_type": "stream",
     "text": [
      "Warning message in title(...):\n",
      "“conversion failure on '確率' in 'mbcsToSbcs': dot substituted for <ba>”\n"
     ]
    },
    {
     "name": "stderr",
     "output_type": "stream",
     "text": [
      "Warning message in title(...):\n",
      "“conversion failure on '確率' in 'mbcsToSbcs': dot substituted for <e7>”\n"
     ]
    },
    {
     "name": "stderr",
     "output_type": "stream",
     "text": [
      "Warning message in title(...):\n",
      "“conversion failure on '確率' in 'mbcsToSbcs': dot substituted for <8e>”\n"
     ]
    },
    {
     "name": "stderr",
     "output_type": "stream",
     "text": [
      "Warning message in title(...):\n",
      "“conversion failure on '確率' in 'mbcsToSbcs': dot substituted for <87>”\n"
     ]
    },
    {
     "data": {
      "image/png": "[encoded data removed]",
      "text/plain": [
       "Plot with title “二項分布（試行回数 =10成功確率 =0.5）”"
      ]
     },
     "metadata": {
      "image/png": {
       "height": 420,
       "width": 420
      }
     },
     "output_type": "display_data"
    }
   ],
   "source": [
    "# 成功確率\n",
    "p <- 0.5\n",
    "# 試行回数\n",
    "n <- 10\n",
    "# 二項分布の確率関数を計算する範囲\n",
    "x <- 0:n\n",
    "\n",
    "# 二項分布の確率関数を計算\n",
    "prob <- dbinom(x, size = n, prob = p)\n",
    "\n",
    "# グラフ描画\n",
    "plot(x, prob, type = \"h\",\n",
    "     ylab = \"確率\", \n",
    "     xlab = \"成功の回数\",\n",
    "     main = paste0(\"二項分布（試行回数 =\", n, \"成功確率 =\", p, \"）\"),\n",
    "     lwd = 3, \n",
    "     col = \"#0cb3d1\")\n",
    "\n",
    "# 成功確率を1までの範囲で変化させた場合の二項分布を描いてみよう"
   ]
  },
  {
   "cell_type": "markdown",
   "id": "c227608e",
   "metadata": {},
   "source": [
    "### 確率密度関数\n",
    "\n",
    "正規分布の分布の形\n"
   ]
  },
  {
   "cell_type": "code",
   "execution_count": 7,
   "id": "31a752c3",
   "metadata": {},
   "outputs": [
    {
     "name": "stderr",
     "output_type": "stream",
     "text": [
      "Warning message in title(...):\n",
      "“conversion failure on '正規分布' in 'mbcsToSbcs': dot substituted for <e6>”\n"
     ]
    },
    {
     "name": "stderr",
     "output_type": "stream",
     "text": [
      "Warning message in title(...):\n",
      "“conversion failure on '正規分布' in 'mbcsToSbcs': dot substituted for <ad>”\n"
     ]
    },
    {
     "name": "stderr",
     "output_type": "stream",
     "text": [
      "Warning message in title(...):\n",
      "“conversion failure on '正規分布' in 'mbcsToSbcs': dot substituted for <a3>”\n"
     ]
    },
    {
     "name": "stderr",
     "output_type": "stream",
     "text": [
      "Warning message in title(...):\n",
      "“conversion failure on '正規分布' in 'mbcsToSbcs': dot substituted for <e8>”\n"
     ]
    },
    {
     "name": "stderr",
     "output_type": "stream",
     "text": [
      "Warning message in title(...):\n",
      "“conversion failure on '正規分布' in 'mbcsToSbcs': dot substituted for <a6>”\n"
     ]
    },
    {
     "name": "stderr",
     "output_type": "stream",
     "text": [
      "Warning message in title(...):\n",
      "“conversion failure on '正規分布' in 'mbcsToSbcs': dot substituted for <8f>”\n"
     ]
    },
    {
     "name": "stderr",
     "output_type": "stream",
     "text": [
      "Warning message in title(...):\n",
      "“conversion failure on '正規分布' in 'mbcsToSbcs': dot substituted for <e5>”\n"
     ]
    },
    {
     "name": "stderr",
     "output_type": "stream",
     "text": [
      "Warning message in title(...):\n",
      "“conversion failure on '正規分布' in 'mbcsToSbcs': dot substituted for <88>”\n"
     ]
    },
    {
     "name": "stderr",
     "output_type": "stream",
     "text": [
      "Warning message in title(...):\n",
      "“conversion failure on '正規分布' in 'mbcsToSbcs': dot substituted for <86>”\n"
     ]
    },
    {
     "name": "stderr",
     "output_type": "stream",
     "text": [
      "Warning message in title(...):\n",
      "“conversion failure on '正規分布' in 'mbcsToSbcs': dot substituted for <e5>”\n"
     ]
    },
    {
     "name": "stderr",
     "output_type": "stream",
     "text": [
      "Warning message in title(...):\n",
      "“conversion failure on '正規分布' in 'mbcsToSbcs': dot substituted for <b8>”\n"
     ]
    },
    {
     "name": "stderr",
     "output_type": "stream",
     "text": [
      "Warning message in title(...):\n",
      "“conversion failure on '正規分布' in 'mbcsToSbcs': dot substituted for <83>”\n"
     ]
    },
    {
     "name": "stderr",
     "output_type": "stream",
     "text": [
      "Warning message in title(...):\n",
      "“conversion failure on '正規分布' in 'mbcsToSbcs': dot substituted for <e6>”\n"
     ]
    },
    {
     "name": "stderr",
     "output_type": "stream",
     "text": [
      "Warning message in title(...):\n",
      "“conversion failure on '正規分布' in 'mbcsToSbcs': dot substituted for <ad>”\n"
     ]
    },
    {
     "name": "stderr",
     "output_type": "stream",
     "text": [
      "Warning message in title(...):\n",
      "“conversion failure on '正規分布' in 'mbcsToSbcs': dot substituted for <a3>”\n"
     ]
    },
    {
     "name": "stderr",
     "output_type": "stream",
     "text": [
      "Warning message in title(...):\n",
      "“conversion failure on '正規分布' in 'mbcsToSbcs': dot substituted for <e8>”\n"
     ]
    },
    {
     "name": "stderr",
     "output_type": "stream",
     "text": [
      "Warning message in title(...):\n",
      "“conversion failure on '正規分布' in 'mbcsToSbcs': dot substituted for <a6>”\n"
     ]
    },
    {
     "name": "stderr",
     "output_type": "stream",
     "text": [
      "Warning message in title(...):\n",
      "“conversion failure on '正規分布' in 'mbcsToSbcs': dot substituted for <8f>”\n"
     ]
    },
    {
     "name": "stderr",
     "output_type": "stream",
     "text": [
      "Warning message in title(...):\n",
      "“conversion failure on '正規分布' in 'mbcsToSbcs': dot substituted for <e5>”\n"
     ]
    },
    {
     "name": "stderr",
     "output_type": "stream",
     "text": [
      "Warning message in title(...):\n",
      "“conversion failure on '正規分布' in 'mbcsToSbcs': dot substituted for <88>”\n"
     ]
    },
    {
     "name": "stderr",
     "output_type": "stream",
     "text": [
      "Warning message in title(...):\n",
      "“conversion failure on '正規分布' in 'mbcsToSbcs': dot substituted for <86>”\n"
     ]
    },
    {
     "name": "stderr",
     "output_type": "stream",
     "text": [
      "Warning message in title(...):\n",
      "“conversion failure on '正規分布' in 'mbcsToSbcs': dot substituted for <e5>”\n"
     ]
    },
    {
     "name": "stderr",
     "output_type": "stream",
     "text": [
      "Warning message in title(...):\n",
      "“conversion failure on '正規分布' in 'mbcsToSbcs': dot substituted for <b8>”\n"
     ]
    },
    {
     "name": "stderr",
     "output_type": "stream",
     "text": [
      "Warning message in title(...):\n",
      "“conversion failure on '正規分布' in 'mbcsToSbcs': dot substituted for <83>”\n"
     ]
    },
    {
     "data": {
      "image/png": "[encoded data removed]",
      "text/plain": [
       "Plot with title “正規分布”"
      ]
     },
     "metadata": {
      "image/png": {
       "height": 420,
       "width": 420
      }
     },
     "output_type": "display_data"
    },
    {
     "data": {
      "image/png": "[encoded data removed]",
      "text/plain": [
       "Plot with title “正規分布”"
      ]
     },
     "metadata": {
      "image/png": {
       "height": 420,
       "width": 420
      }
     },
     "output_type": "display_data"
    }
   ],
   "source": [
    "# xの範囲を設定\n",
    "x <- seq(-5, 5, by = 0.1)\n",
    "y1 <- dnorm(x, mean = 0, sd = 1)\n",
    "# グラフを描画\n",
    "plot(x, y1, type = \"l\", \n",
    "     lwd = 3,\n",
    "     col = \"#57467b\",\n",
    "     ylim = c(0, 0.5), \n",
    "     xlab = \"x\", \n",
    "     ylab = \"Density\", \n",
    "     main = \"正規分布\")\n",
    "\n",
    "# 平均0で分散がそれぞれ0.2、5の\n",
    "# 正規分布の確率密度関数を計算\n",
    "y2 <- dnorm(x, mean = 0, sd = sqrt(0.2))\n",
    "y3 <- dnorm(x, mean = 0, sd = sqrt(5))\n",
    "plot(x, y1, type = \"l\", \n",
    "     lwd = 3,\n",
    "     col = \"#57467b\",\n",
    "     ylim = c(0, max(c(y1, y2, y3))), \n",
    "     xlab = \"x\", \n",
    "     ylab = \"Density\", \n",
    "     main = \"正規分布\")\n",
    "lines(x, y2, lwd = 3, col = \"#7cb4b8\")\n",
    "lines(x, y3, lwd = 3, col = \"#70f8ba\")"
   ]
  },
  {
   "cell_type": "markdown",
   "id": "2862db9a",
   "metadata": {},
   "source": [
    "## 期待値と分散\n",
    "\n",
    "確率における期待値とは、確率変数 $X$ が取りうる値 $x$ とその確率 $P(X = x)$ の積の総和を表します。期待値は以下の式で定義されます。\n",
    "\n",
    "$$\n",
    "E(X) = \\sum_{x} xP(X = x)\n",
    "$$\n",
    "\n",
    "期待値が確率分布の重心を表すのに対して、分散は確率変数 $X$ がどれくらいばらついているかを表す指標です。分散は以下の式で定義されます。\n",
    "\n",
    "$$\n",
    "V(X) = E[(X - \\mu)^2]\n",
    "$$\n",
    "\n",
    "サイコロの出る目の期待値と分散を計算してみましょう。\n"
   ]
  },
  {
   "cell_type": "code",
   "execution_count": 8,
   "id": "769c0361",
   "metadata": {},
   "outputs": [
    {
     "data": {
      "text/html": [
       "2"
      ],
      "text/latex": [
       "2"
      ],
      "text/markdown": [
       "2"
      ],
      "text/plain": [
       "[1] 2"
      ]
     },
     "metadata": {},
     "output_type": "display_data"
    },
    {
     "data": {
      "text/html": [
       "4"
      ],
      "text/latex": [
       "4"
      ],
      "text/markdown": [
       "4"
      ],
      "text/plain": [
       "[1] 4"
      ]
     },
     "metadata": {},
     "output_type": "display_data"
    },
    {
     "data": {
      "text/html": [
       "1"
      ],
      "text/latex": [
       "1"
      ],
      "text/markdown": [
       "1"
      ],
      "text/plain": [
       "[1] 1"
      ]
     },
     "metadata": {},
     "output_type": "display_data"
    },
    {
     "data": {
      "text/html": [
       "1"
      ],
      "text/latex": [
       "1"
      ],
      "text/markdown": [
       "1"
      ],
      "text/plain": [
       "[1] 1"
      ]
     },
     "metadata": {},
     "output_type": "display_data"
    },
    {
     "data": {
      "text/html": [
       "3.5"
      ],
      "text/latex": [
       "3.5"
      ],
      "text/markdown": [
       "3.5"
      ],
      "text/plain": [
       "[1] 3.5"
      ]
     },
     "metadata": {},
     "output_type": "display_data"
    },
    {
     "data": {
      "text/html": [
       "2.91666666666667"
      ],
      "text/latex": [
       "2.91666666666667"
      ],
      "text/markdown": [
       "2.91666666666667"
      ],
      "text/plain": [
       "[1] 2.916667"
      ]
     },
     "metadata": {},
     "output_type": "display_data"
    }
   ],
   "source": [
    "# 1から6までの出目\n",
    "dice_x <- seq.int(6)\n",
    "\n",
    "# 1回の試行（サイコロ投げを行う）\n",
    "sample(dice_x, size = 1)\n",
    "\n",
    "sample(dice_x, size = 1)\n",
    "\n",
    "set.seed(20230522) # 結果に再現性をもたせる\n",
    "sample(dice_x, size = 1)\n",
    "set.seed(20230522); sample(dice_x, size = 1) # 上記の結果と同じ値 1 を得る\n",
    "\n",
    "# 各出目の確率\n",
    "probabilities <- rep(1/6, 6)\n",
    "# 期待値の計算\n",
    "(expected_value <- sum(dice_x * probabilities))\n",
    "# 分散の計算\n",
    "sum(((dice_x - expected_value)^2) * probabilities)"
   ]
  },
  {
   "cell_type": "markdown",
   "id": "38cb6d2d",
   "metadata": {},
   "source": [
    "以下は、シミュレーションによって期待値と分散を計算する方法です。\n"
   ]
  },
  {
   "cell_type": "code",
   "execution_count": 9,
   "id": "017a6cfb",
   "metadata": {},
   "outputs": [
    {
     "data": {
      "text/plain": [
       "res\n",
       "2 3 4 5 6 \n",
       "2 3 1 1 3 "
      ]
     },
     "metadata": {},
     "output_type": "display_data"
    },
    {
     "data": {
      "text/html": [
       "4"
      ],
      "text/latex": [
       "4"
      ],
      "text/markdown": [
       "4"
      ],
      "text/plain": [
       "[1] 4"
      ]
     },
     "metadata": {},
     "output_type": "display_data"
    },
    {
     "data": {
      "text/html": [
       "3.16666666666667"
      ],
      "text/latex": [
       "3.16666666666667"
      ],
      "text/markdown": [
       "3.16666666666667"
      ],
      "text/plain": [
       "[1] 3.166667"
      ]
     },
     "metadata": {},
     "output_type": "display_data"
    }
   ],
   "source": [
    "# サイコロ投げを10回行う\n",
    "# replace = TRUE 繰り返し同じ値（目）が出ても良いとする\n",
    "set.seed(123); res <- sample(dice_x, size = 10, replace = TRUE)\n",
    "table(res)\n",
    "\n",
    "mean(res) # 期待値\n",
    "sum(((dice_x - mean(res))^2) * rep(1/6, 6)) # 分散"
   ]
  },
  {
   "cell_type": "markdown",
   "id": "befc8b9c",
   "metadata": {},
   "source": [
    "ここから試行回数を増やしていきます。\n"
   ]
  },
  {
   "cell_type": "code",
   "execution_count": 10,
   "id": "a41558c4",
   "metadata": {},
   "outputs": [
    {
     "data": {
      "image/png": "[encoded data removed]",
      "text/plain": [
       "plot without title"
      ]
     },
     "metadata": {
      "image/png": {
       "height": 420,
       "width": 420
      }
     },
     "output_type": "display_data"
    }
   ],
   "source": [
    "tibble::tibble(frequency = res) |> \n",
    "  ggplot() +\n",
    "  aes(frequency) +\n",
    "  geom_histogram(bins = 6) +\n",
    "  labs(title = \"roll a die 10 times\") +\n",
    "  xlab(\"dice face\")"
   ]
  },
  {
   "cell_type": "code",
   "execution_count": 11,
   "id": "efcd0991",
   "metadata": {},
   "outputs": [
    {
     "data": {
      "image/png": "[encoded data removed]",
      "text/plain": [
       "plot without title"
      ]
     },
     "metadata": {
      "image/png": {
       "height": 420,
       "width": 420
      }
     },
     "output_type": "display_data"
    }
   ],
   "source": [
    "set.seed(123); res <- sample(dice_x, size = 1000, replace = TRUE)\n",
    "tibble::tibble(frequency = res) |> \n",
    "  ggplot() +\n",
    "  aes(frequency) +\n",
    "  geom_histogram(bins = 6) +\n",
    "  labs(title = \"roll a die 1000 times\") +\n",
    "  xlab(\"dice face\")"
   ]
  },
  {
   "cell_type": "code",
   "execution_count": 12,
   "id": "e4ec77de",
   "metadata": {},
   "outputs": [
    {
     "data": {
      "text/html": [
       "3.457"
      ],
      "text/latex": [
       "3.457"
      ],
      "text/markdown": [
       "3.457"
      ],
      "text/plain": [
       "[1] 3.457"
      ]
     },
     "metadata": {},
     "output_type": "display_data"
    },
    {
     "data": {
      "text/html": [
       "2.91851566666667"
      ],
      "text/latex": [
       "2.91851566666667"
      ],
      "text/markdown": [
       "2.91851566666667"
      ],
      "text/plain": [
       "[1] 2.918516"
      ]
     },
     "metadata": {},
     "output_type": "display_data"
    }
   ],
   "source": [
    "mean(res) # 期待値\n",
    "sum(((dice_x - mean(res))^2) * rep(1/6, 6)) # 分散"
   ]
  },
  {
   "cell_type": "markdown",
   "id": "423bc9c7",
   "metadata": {},
   "source": [
    "さらに試行回数を増やします。\n"
   ]
  },
  {
   "cell_type": "code",
   "execution_count": 13,
   "id": "95c1248d",
   "metadata": {},
   "outputs": [
    {
     "data": {
      "image/png": "[encoded data removed]",
      "text/plain": [
       "plot without title"
      ]
     },
     "metadata": {
      "image/png": {
       "height": 420,
       "width": 420
      }
     },
     "output_type": "display_data"
    }
   ],
   "source": [
    "# 10万回\n",
    "set.seed(123); res <- sample(dice_x, size = 100000, replace = TRUE)\n",
    "tibble::tibble(frequency = res) |> \n",
    "  ggplot() +\n",
    "  aes(frequency) +\n",
    "  geom_histogram(bins = 6) +\n",
    "  labs(title = \"roll a die 100000 times\") +\n",
    "  xlab(\"dice face\")"
   ]
  },
  {
   "cell_type": "code",
   "execution_count": 14,
   "id": "9d17abf5",
   "metadata": {},
   "outputs": [
    {
     "data": {
      "text/html": [
       "3.49489"
      ],
      "text/latex": [
       "3.49489"
      ],
      "text/markdown": [
       "3.49489"
      ],
      "text/plain": [
       "[1] 3.49489"
      ]
     },
     "metadata": {},
     "output_type": "display_data"
    },
    {
     "data": {
      "text/html": [
       "2.91669277876667"
      ],
      "text/latex": [
       "2.91669277876667"
      ],
      "text/markdown": [
       "2.91669277876667"
      ],
      "text/plain": [
       "[1] 2.916693"
      ]
     },
     "metadata": {},
     "output_type": "display_data"
    },
    {
     "data": {
      "text/html": [
       "0.166666666666667"
      ],
      "text/latex": [
       "0.166666666666667"
      ],
      "text/markdown": [
       "0.166666666666667"
      ],
      "text/plain": [
       "[1] 0.1666667"
      ]
     },
     "metadata": {},
     "output_type": "display_data"
    }
   ],
   "source": [
    "mean(res) # 期待値\n",
    "sum(((dice_x - mean(res))^2) * rep(1/6, 6)) # 分散\n",
    "\n",
    "# 1が出たときの確率\n",
    "sum(dice_x == 1) / length(dice_x) # 1/6"
   ]
  },
  {
   "cell_type": "markdown",
   "id": "9fc10709",
   "metadata": {},
   "source": [
    "## 中心極限定理\n",
    "\n",
    "中心極限定理とは、母集団がどのような分布であっても、標本平均の分布は標本サイズが大きくなるにつれて正規分布に近づくという定理です。\n",
    "\n",
    "Rでのシミュレーションにより、これまで扱った確率分布について、中心極限定理を確認します。\n"
   ]
  },
  {
   "cell_type": "code",
   "execution_count": 15,
   "id": "84ab8ea2",
   "metadata": {},
   "outputs": [
    {
     "name": "stderr",
     "output_type": "stream",
     "text": [
      "Warning message in title(...):\n",
      "“conversion failure on '二項分布のグラフに正規分布の曲線を重ねる' in 'mbcsToSbcs': dot substituted for <e4>”\n"
     ]
    },
    {
     "name": "stderr",
     "output_type": "stream",
     "text": [
      "Warning message in title(...):\n",
      "“conversion failure on '二項分布のグラフに正規分布の曲線を重ねる' in 'mbcsToSbcs': dot substituted for <ba>”\n"
     ]
    },
    {
     "name": "stderr",
     "output_type": "stream",
     "text": [
      "Warning message in title(...):\n",
      "“conversion failure on '二項分布のグラフに正規分布の曲線を重ねる' in 'mbcsToSbcs': dot substituted for <8c>”\n"
     ]
    },
    {
     "name": "stderr",
     "output_type": "stream",
     "text": [
      "Warning message in title(...):\n",
      "“conversion failure on '二項分布のグラフに正規分布の曲線を重ねる' in 'mbcsToSbcs': dot substituted for <e9>”\n"
     ]
    },
    {
     "name": "stderr",
     "output_type": "stream",
     "text": [
      "Warning message in title(...):\n",
      "“conversion failure on '二項分布のグラフに正規分布の曲線を重ねる' in 'mbcsToSbcs': dot substituted for <a0>”\n"
     ]
    },
    {
     "name": "stderr",
     "output_type": "stream",
     "text": [
      "Warning message in title(...):\n",
      "“conversion failure on '二項分布のグラフに正規分布の曲線を重ねる' in 'mbcsToSbcs': dot substituted for <85>”\n"
     ]
    },
    {
     "name": "stderr",
     "output_type": "stream",
     "text": [
      "Warning message in title(...):\n",
      "“conversion failure on '二項分布のグラフに正規分布の曲線を重ねる' in 'mbcsToSbcs': dot substituted for <e5>”\n"
     ]
    },
    {
     "name": "stderr",
     "output_type": "stream",
     "text": [
      "Warning message in title(...):\n",
      "“conversion failure on '二項分布のグラフに正規分布の曲線を重ねる' in 'mbcsToSbcs': dot substituted for <88>”\n"
     ]
    },
    {
     "name": "stderr",
     "output_type": "stream",
     "text": [
      "Warning message in title(...):\n",
      "“conversion failure on '二項分布のグラフに正規分布の曲線を重ねる' in 'mbcsToSbcs': dot substituted for <86>”\n"
     ]
    },
    {
     "name": "stderr",
     "output_type": "stream",
     "text": [
      "Warning message in title(...):\n",
      "“conversion failure on '二項分布のグラフに正規分布の曲線を重ねる' in 'mbcsToSbcs': dot substituted for <e5>”\n"
     ]
    },
    {
     "name": "stderr",
     "output_type": "stream",
     "text": [
      "Warning message in title(...):\n",
      "“conversion failure on '二項分布のグラフに正規分布の曲線を重ねる' in 'mbcsToSbcs': dot substituted for <b8>”\n"
     ]
    },
    {
     "name": "stderr",
     "output_type": "stream",
     "text": [
      "Warning message in title(...):\n",
      "“conversion failure on '二項分布のグラフに正規分布の曲線を重ねる' in 'mbcsToSbcs': dot substituted for <83>”\n"
     ]
    },
    {
     "name": "stderr",
     "output_type": "stream",
     "text": [
      "Warning message in title(...):\n",
      "“conversion failure on '二項分布のグラフに正規分布の曲線を重ねる' in 'mbcsToSbcs': dot substituted for <e3>”\n"
     ]
    },
    {
     "name": "stderr",
     "output_type": "stream",
     "text": [
      "Warning message in title(...):\n",
      "“conversion failure on '二項分布のグラフに正規分布の曲線を重ねる' in 'mbcsToSbcs': dot substituted for <81>”\n"
     ]
    },
    {
     "name": "stderr",
     "output_type": "stream",
     "text": [
      "Warning message in title(...):\n",
      "“conversion failure on '二項分布のグラフに正規分布の曲線を重ねる' in 'mbcsToSbcs': dot substituted for <ae>”\n"
     ]
    },
    {
     "name": "stderr",
     "output_type": "stream",
     "text": [
      "Warning message in title(...):\n",
      "“conversion failure on '二項分布のグラフに正規分布の曲線を重ねる' in 'mbcsToSbcs': dot substituted for <e3>”\n"
     ]
    },
    {
     "name": "stderr",
     "output_type": "stream",
     "text": [
      "Warning message in title(...):\n",
      "“conversion failure on '二項分布のグラフに正規分布の曲線を重ねる' in 'mbcsToSbcs': dot substituted for <82>”\n"
     ]
    },
    {
     "name": "stderr",
     "output_type": "stream",
     "text": [
      "Warning message in title(...):\n",
      "“conversion failure on '二項分布のグラフに正規分布の曲線を重ねる' in 'mbcsToSbcs': dot substituted for <b0>”\n"
     ]
    },
    {
     "name": "stderr",
     "output_type": "stream",
     "text": [
      "Warning message in title(...):\n",
      "“conversion failure on '二項分布のグラフに正規分布の曲線を重ねる' in 'mbcsToSbcs': dot substituted for <e3>”\n"
     ]
    },
    {
     "name": "stderr",
     "output_type": "stream",
     "text": [
      "Warning message in title(...):\n",
      "“conversion failure on '二項分布のグラフに正規分布の曲線を重ねる' in 'mbcsToSbcs': dot substituted for <83>”\n"
     ]
    },
    {
     "name": "stderr",
     "output_type": "stream",
     "text": [
      "Warning message in title(...):\n",
      "“conversion failure on '二項分布のグラフに正規分布の曲線を重ねる' in 'mbcsToSbcs': dot substituted for <a9>”\n"
     ]
    },
    {
     "name": "stderr",
     "output_type": "stream",
     "text": [
      "Warning message in title(...):\n",
      "“conversion failure on '二項分布のグラフに正規分布の曲線を重ねる' in 'mbcsToSbcs': dot substituted for <e3>”\n"
     ]
    },
    {
     "name": "stderr",
     "output_type": "stream",
     "text": [
      "Warning message in title(...):\n",
      "“conversion failure on '二項分布のグラフに正規分布の曲線を重ねる' in 'mbcsToSbcs': dot substituted for <83>”\n"
     ]
    },
    {
     "name": "stderr",
     "output_type": "stream",
     "text": [
      "Warning message in title(...):\n",
      "“conversion failure on '二項分布のグラフに正規分布の曲線を重ねる' in 'mbcsToSbcs': dot substituted for <95>”\n"
     ]
    },
    {
     "name": "stderr",
     "output_type": "stream",
     "text": [
      "Warning message in title(...):\n",
      "“conversion failure on '二項分布のグラフに正規分布の曲線を重ねる' in 'mbcsToSbcs': dot substituted for <e3>”\n"
     ]
    },
    {
     "name": "stderr",
     "output_type": "stream",
     "text": [
      "Warning message in title(...):\n",
      "“conversion failure on '二項分布のグラフに正規分布の曲線を重ねる' in 'mbcsToSbcs': dot substituted for <81>”\n"
     ]
    },
    {
     "name": "stderr",
     "output_type": "stream",
     "text": [
      "Warning message in title(...):\n",
      "“conversion failure on '二項分布のグラフに正規分布の曲線を重ねる' in 'mbcsToSbcs': dot substituted for <ab>”\n"
     ]
    },
    {
     "name": "stderr",
     "output_type": "stream",
     "text": [
      "Warning message in title(...):\n",
      "“conversion failure on '二項分布のグラフに正規分布の曲線を重ねる' in 'mbcsToSbcs': dot substituted for <e6>”\n"
     ]
    },
    {
     "name": "stderr",
     "output_type": "stream",
     "text": [
      "Warning message in title(...):\n",
      "“conversion failure on '二項分布のグラフに正規分布の曲線を重ねる' in 'mbcsToSbcs': dot substituted for <ad>”\n"
     ]
    },
    {
     "name": "stderr",
     "output_type": "stream",
     "text": [
      "Warning message in title(...):\n",
      "“conversion failure on '二項分布のグラフに正規分布の曲線を重ねる' in 'mbcsToSbcs': dot substituted for <a3>”\n"
     ]
    },
    {
     "name": "stderr",
     "output_type": "stream",
     "text": [
      "Warning message in title(...):\n",
      "“conversion failure on '二項分布のグラフに正規分布の曲線を重ねる' in 'mbcsToSbcs': dot substituted for <e8>”\n"
     ]
    },
    {
     "name": "stderr",
     "output_type": "stream",
     "text": [
      "Warning message in title(...):\n",
      "“conversion failure on '二項分布のグラフに正規分布の曲線を重ねる' in 'mbcsToSbcs': dot substituted for <a6>”\n"
     ]
    },
    {
     "name": "stderr",
     "output_type": "stream",
     "text": [
      "Warning message in title(...):\n",
      "“conversion failure on '二項分布のグラフに正規分布の曲線を重ねる' in 'mbcsToSbcs': dot substituted for <8f>”\n"
     ]
    },
    {
     "name": "stderr",
     "output_type": "stream",
     "text": [
      "Warning message in title(...):\n",
      "“conversion failure on '二項分布のグラフに正規分布の曲線を重ねる' in 'mbcsToSbcs': dot substituted for <e5>”\n"
     ]
    },
    {
     "name": "stderr",
     "output_type": "stream",
     "text": [
      "Warning message in title(...):\n",
      "“conversion failure on '二項分布のグラフに正規分布の曲線を重ねる' in 'mbcsToSbcs': dot substituted for <88>”\n"
     ]
    },
    {
     "name": "stderr",
     "output_type": "stream",
     "text": [
      "Warning message in title(...):\n",
      "“conversion failure on '二項分布のグラフに正規分布の曲線を重ねる' in 'mbcsToSbcs': dot substituted for <86>”\n"
     ]
    },
    {
     "name": "stderr",
     "output_type": "stream",
     "text": [
      "Warning message in title(...):\n",
      "“conversion failure on '二項分布のグラフに正規分布の曲線を重ねる' in 'mbcsToSbcs': dot substituted for <e5>”\n"
     ]
    },
    {
     "name": "stderr",
     "output_type": "stream",
     "text": [
      "Warning message in title(...):\n",
      "“conversion failure on '二項分布のグラフに正規分布の曲線を重ねる' in 'mbcsToSbcs': dot substituted for <b8>”\n"
     ]
    },
    {
     "name": "stderr",
     "output_type": "stream",
     "text": [
      "Warning message in title(...):\n",
      "“conversion failure on '二項分布のグラフに正規分布の曲線を重ねる' in 'mbcsToSbcs': dot substituted for <83>”\n"
     ]
    },
    {
     "name": "stderr",
     "output_type": "stream",
     "text": [
      "Warning message in title(...):\n",
      "“conversion failure on '二項分布のグラフに正規分布の曲線を重ねる' in 'mbcsToSbcs': dot substituted for <e3>”\n"
     ]
    },
    {
     "name": "stderr",
     "output_type": "stream",
     "text": [
      "Warning message in title(...):\n",
      "“conversion failure on '二項分布のグラフに正規分布の曲線を重ねる' in 'mbcsToSbcs': dot substituted for <81>”\n"
     ]
    },
    {
     "name": "stderr",
     "output_type": "stream",
     "text": [
      "Warning message in title(...):\n",
      "“conversion failure on '二項分布のグラフに正規分布の曲線を重ねる' in 'mbcsToSbcs': dot substituted for <ae>”\n"
     ]
    },
    {
     "name": "stderr",
     "output_type": "stream",
     "text": [
      "Warning message in title(...):\n",
      "“conversion failure on '二項分布のグラフに正規分布の曲線を重ねる' in 'mbcsToSbcs': dot substituted for <e6>”\n"
     ]
    },
    {
     "name": "stderr",
     "output_type": "stream",
     "text": [
      "Warning message in title(...):\n",
      "“conversion failure on '二項分布のグラフに正規分布の曲線を重ねる' in 'mbcsToSbcs': dot substituted for <9b>”\n"
     ]
    },
    {
     "name": "stderr",
     "output_type": "stream",
     "text": [
      "Warning message in title(...):\n",
      "“conversion failure on '二項分布のグラフに正規分布の曲線を重ねる' in 'mbcsToSbcs': dot substituted for <b2>”\n"
     ]
    },
    {
     "name": "stderr",
     "output_type": "stream",
     "text": [
      "Warning message in title(...):\n",
      "“conversion failure on '二項分布のグラフに正規分布の曲線を重ねる' in 'mbcsToSbcs': dot substituted for <e7>”\n"
     ]
    },
    {
     "name": "stderr",
     "output_type": "stream",
     "text": [
      "Warning message in title(...):\n",
      "“conversion failure on '二項分布のグラフに正規分布の曲線を重ねる' in 'mbcsToSbcs': dot substituted for <b7>”\n"
     ]
    },
    {
     "name": "stderr",
     "output_type": "stream",
     "text": [
      "Warning message in title(...):\n",
      "“conversion failure on '二項分布のグラフに正規分布の曲線を重ねる' in 'mbcsToSbcs': dot substituted for <9a>”\n"
     ]
    },
    {
     "name": "stderr",
     "output_type": "stream",
     "text": [
      "Warning message in title(...):\n",
      "“conversion failure on '二項分布のグラフに正規分布の曲線を重ねる' in 'mbcsToSbcs': dot substituted for <e3>”\n"
     ]
    },
    {
     "name": "stderr",
     "output_type": "stream",
     "text": [
      "Warning message in title(...):\n",
      "“conversion failure on '二項分布のグラフに正規分布の曲線を重ねる' in 'mbcsToSbcs': dot substituted for <82>”\n"
     ]
    },
    {
     "name": "stderr",
     "output_type": "stream",
     "text": [
      "Warning message in title(...):\n",
      "“conversion failure on '二項分布のグラフに正規分布の曲線を重ねる' in 'mbcsToSbcs': dot substituted for <92>”\n"
     ]
    },
    {
     "name": "stderr",
     "output_type": "stream",
     "text": [
      "Warning message in title(...):\n",
      "“conversion failure on '二項分布のグラフに正規分布の曲線を重ねる' in 'mbcsToSbcs': dot substituted for <e9>”\n"
     ]
    },
    {
     "name": "stderr",
     "output_type": "stream",
     "text": [
      "Warning message in title(...):\n",
      "“conversion failure on '二項分布のグラフに正規分布の曲線を重ねる' in 'mbcsToSbcs': dot substituted for <87>”\n"
     ]
    },
    {
     "name": "stderr",
     "output_type": "stream",
     "text": [
      "Warning message in title(...):\n",
      "“conversion failure on '二項分布のグラフに正規分布の曲線を重ねる' in 'mbcsToSbcs': dot substituted for <8d>”\n"
     ]
    },
    {
     "name": "stderr",
     "output_type": "stream",
     "text": [
      "Warning message in title(...):\n",
      "“conversion failure on '二項分布のグラフに正規分布の曲線を重ねる' in 'mbcsToSbcs': dot substituted for <e3>”\n"
     ]
    },
    {
     "name": "stderr",
     "output_type": "stream",
     "text": [
      "Warning message in title(...):\n",
      "“conversion failure on '二項分布のグラフに正規分布の曲線を重ねる' in 'mbcsToSbcs': dot substituted for <81>”\n"
     ]
    },
    {
     "name": "stderr",
     "output_type": "stream",
     "text": [
      "Warning message in title(...):\n",
      "“conversion failure on '二項分布のグラフに正規分布の曲線を重ねる' in 'mbcsToSbcs': dot substituted for <ad>”\n"
     ]
    },
    {
     "name": "stderr",
     "output_type": "stream",
     "text": [
      "Warning message in title(...):\n",
      "“conversion failure on '二項分布のグラフに正規分布の曲線を重ねる' in 'mbcsToSbcs': dot substituted for <e3>”\n"
     ]
    },
    {
     "name": "stderr",
     "output_type": "stream",
     "text": [
      "Warning message in title(...):\n",
      "“conversion failure on '二項分布のグラフに正規分布の曲線を重ねる' in 'mbcsToSbcs': dot substituted for <82>”\n"
     ]
    },
    {
     "name": "stderr",
     "output_type": "stream",
     "text": [
      "Warning message in title(...):\n",
      "“conversion failure on '二項分布のグラフに正規分布の曲線を重ねる' in 'mbcsToSbcs': dot substituted for <8b>”\n"
     ]
    },
    {
     "name": "stderr",
     "output_type": "stream",
     "text": [
      "Warning message in title(...):\n",
      "“conversion failure on '成功の回数' in 'mbcsToSbcs': dot substituted for <e6>”\n"
     ]
    },
    {
     "name": "stderr",
     "output_type": "stream",
     "text": [
      "Warning message in title(...):\n",
      "“conversion failure on '成功の回数' in 'mbcsToSbcs': dot substituted for <88>”\n"
     ]
    },
    {
     "name": "stderr",
     "output_type": "stream",
     "text": [
      "Warning message in title(...):\n",
      "“conversion failure on '成功の回数' in 'mbcsToSbcs': dot substituted for <90>”\n"
     ]
    },
    {
     "name": "stderr",
     "output_type": "stream",
     "text": [
      "Warning message in title(...):\n",
      "“conversion failure on '成功の回数' in 'mbcsToSbcs': dot substituted for <e5>”\n"
     ]
    },
    {
     "name": "stderr",
     "output_type": "stream",
     "text": [
      "Warning message in title(...):\n",
      "“conversion failure on '成功の回数' in 'mbcsToSbcs': dot substituted for <8a>”\n"
     ]
    },
    {
     "name": "stderr",
     "output_type": "stream",
     "text": [
      "Warning message in title(...):\n",
      "“conversion failure on '成功の回数' in 'mbcsToSbcs': dot substituted for <9f>”\n"
     ]
    },
    {
     "name": "stderr",
     "output_type": "stream",
     "text": [
      "Warning message in title(...):\n",
      "“conversion failure on '成功の回数' in 'mbcsToSbcs': dot substituted for <e3>”\n"
     ]
    },
    {
     "name": "stderr",
     "output_type": "stream",
     "text": [
      "Warning message in title(...):\n",
      "“conversion failure on '成功の回数' in 'mbcsToSbcs': dot substituted for <81>”\n"
     ]
    },
    {
     "name": "stderr",
     "output_type": "stream",
     "text": [
      "Warning message in title(...):\n",
      "“conversion failure on '成功の回数' in 'mbcsToSbcs': dot substituted for <ae>”\n"
     ]
    },
    {
     "name": "stderr",
     "output_type": "stream",
     "text": [
      "Warning message in title(...):\n",
      "“conversion failure on '成功の回数' in 'mbcsToSbcs': dot substituted for <e5>”\n"
     ]
    },
    {
     "name": "stderr",
     "output_type": "stream",
     "text": [
      "Warning message in title(...):\n",
      "“conversion failure on '成功の回数' in 'mbcsToSbcs': dot substituted for <9b>”\n"
     ]
    },
    {
     "name": "stderr",
     "output_type": "stream",
     "text": [
      "Warning message in title(...):\n",
      "“conversion failure on '成功の回数' in 'mbcsToSbcs': dot substituted for <9e>”\n"
     ]
    },
    {
     "name": "stderr",
     "output_type": "stream",
     "text": [
      "Warning message in title(...):\n",
      "“conversion failure on '成功の回数' in 'mbcsToSbcs': dot substituted for <e6>”\n"
     ]
    },
    {
     "name": "stderr",
     "output_type": "stream",
     "text": [
      "Warning message in title(...):\n",
      "“conversion failure on '成功の回数' in 'mbcsToSbcs': dot substituted for <95>”\n"
     ]
    },
    {
     "name": "stderr",
     "output_type": "stream",
     "text": [
      "Warning message in title(...):\n",
      "“conversion failure on '成功の回数' in 'mbcsToSbcs': dot substituted for <b0>”\n"
     ]
    },
    {
     "name": "stderr",
     "output_type": "stream",
     "text": [
      "Warning message in title(...):\n",
      "“conversion failure on '確率' in 'mbcsToSbcs': dot substituted for <e7>”\n"
     ]
    },
    {
     "name": "stderr",
     "output_type": "stream",
     "text": [
      "Warning message in title(...):\n",
      "“conversion failure on '確率' in 'mbcsToSbcs': dot substituted for <a2>”\n"
     ]
    },
    {
     "name": "stderr",
     "output_type": "stream",
     "text": [
      "Warning message in title(...):\n",
      "“conversion failure on '確率' in 'mbcsToSbcs': dot substituted for <ba>”\n"
     ]
    },
    {
     "name": "stderr",
     "output_type": "stream",
     "text": [
      "Warning message in title(...):\n",
      "“conversion failure on '確率' in 'mbcsToSbcs': dot substituted for <e7>”\n"
     ]
    },
    {
     "name": "stderr",
     "output_type": "stream",
     "text": [
      "Warning message in title(...):\n",
      "“conversion failure on '確率' in 'mbcsToSbcs': dot substituted for <8e>”\n"
     ]
    },
    {
     "name": "stderr",
     "output_type": "stream",
     "text": [
      "Warning message in title(...):\n",
      "“conversion failure on '確率' in 'mbcsToSbcs': dot substituted for <87>”\n"
     ]
    },
    {
     "data": {
      "image/png": "[encoded data removed]",
      "text/plain": [
       "Plot with title “二項分布のグラフに正規分布の曲線を重ねる”"
      ]
     },
     "metadata": {
      "image/png": {
       "height": 420,
       "width": 420
      }
     },
     "output_type": "display_data"
    }
   ],
   "source": [
    "n <- 200\n",
    "# 二項分布の確率質量関数を計算する範囲\n",
    "x <- 0:n\n",
    "prob <- dbinom(x, size = n, prob = 0.5)\n",
    "\n",
    "# グラフ描画\n",
    "plot(x, prob, type = \"h\",\n",
    "     ylab = \"確率\", \n",
    "     xlab = \"成功の回数\",\n",
    "     main = \"二項分布のグラフに正規分布の曲線を重ねる\",\n",
    "     lwd = 3, \n",
    "     col = \"#0cb3d1\")\n",
    "# 正規分布の曲線を重ねる\n",
    "curve(dnorm(x, mean = 100, sd = sqrt(200 * 0.5 * 0.5)), \n",
    "      add = TRUE, \n",
    "      lwd = 2, \n",
    "      col = \"#f25d02\")"
   ]
  },
  {
   "cell_type": "markdown",
   "id": "efe36be1",
   "metadata": {},
   "source": [
    "`sqrt(200 * 0.5 * 0.5)` の理由は、二項分布の分散が $np(1-p)$ であることから、標準偏差は $\\sqrt{np(1-p)}$ となるためです。\n"
   ]
  },
  {
   "cell_type": "code",
   "execution_count": 16,
   "id": "ce44adee",
   "metadata": {},
   "outputs": [
    {
     "name": "stderr",
     "output_type": "stream",
     "text": [
      "Warning message in title(main = main, sub = sub, xlab = xlab, ylab = ylab, ...):\n",
      "“conversion failure on '一様分布のグラフに正規分布の曲線を重ねる' in 'mbcsToSbcs': dot substituted for <e4>”\n"
     ]
    },
    {
     "name": "stderr",
     "output_type": "stream",
     "text": [
      "Warning message in title(main = main, sub = sub, xlab = xlab, ylab = ylab, ...):\n",
      "“conversion failure on '一様分布のグラフに正規分布の曲線を重ねる' in 'mbcsToSbcs': dot substituted for <b8>”\n"
     ]
    },
    {
     "name": "stderr",
     "output_type": "stream",
     "text": [
      "Warning message in title(main = main, sub = sub, xlab = xlab, ylab = ylab, ...):\n",
      "“conversion failure on '一様分布のグラフに正規分布の曲線を重ねる' in 'mbcsToSbcs': dot substituted for <80>”\n"
     ]
    },
    {
     "name": "stderr",
     "output_type": "stream",
     "text": [
      "Warning message in title(main = main, sub = sub, xlab = xlab, ylab = ylab, ...):\n",
      "“conversion failure on '一様分布のグラフに正規分布の曲線を重ねる' in 'mbcsToSbcs': dot substituted for <e6>”\n"
     ]
    },
    {
     "name": "stderr",
     "output_type": "stream",
     "text": [
      "Warning message in title(main = main, sub = sub, xlab = xlab, ylab = ylab, ...):\n",
      "“conversion failure on '一様分布のグラフに正規分布の曲線を重ねる' in 'mbcsToSbcs': dot substituted for <a7>”\n"
     ]
    },
    {
     "name": "stderr",
     "output_type": "stream",
     "text": [
      "Warning message in title(main = main, sub = sub, xlab = xlab, ylab = ylab, ...):\n",
      "“conversion failure on '一様分布のグラフに正規分布の曲線を重ねる' in 'mbcsToSbcs': dot substituted for <98>”\n"
     ]
    },
    {
     "name": "stderr",
     "output_type": "stream",
     "text": [
      "Warning message in title(main = main, sub = sub, xlab = xlab, ylab = ylab, ...):\n",
      "“conversion failure on '一様分布のグラフに正規分布の曲線を重ねる' in 'mbcsToSbcs': dot substituted for <e5>”\n"
     ]
    },
    {
     "name": "stderr",
     "output_type": "stream",
     "text": [
      "Warning message in title(main = main, sub = sub, xlab = xlab, ylab = ylab, ...):\n",
      "“conversion failure on '一様分布のグラフに正規分布の曲線を重ねる' in 'mbcsToSbcs': dot substituted for <88>”\n"
     ]
    },
    {
     "name": "stderr",
     "output_type": "stream",
     "text": [
      "Warning message in title(main = main, sub = sub, xlab = xlab, ylab = ylab, ...):\n",
      "“conversion failure on '一様分布のグラフに正規分布の曲線を重ねる' in 'mbcsToSbcs': dot substituted for <86>”\n"
     ]
    },
    {
     "name": "stderr",
     "output_type": "stream",
     "text": [
      "Warning message in title(main = main, sub = sub, xlab = xlab, ylab = ylab, ...):\n",
      "“conversion failure on '一様分布のグラフに正規分布の曲線を重ねる' in 'mbcsToSbcs': dot substituted for <e5>”\n"
     ]
    },
    {
     "name": "stderr",
     "output_type": "stream",
     "text": [
      "Warning message in title(main = main, sub = sub, xlab = xlab, ylab = ylab, ...):\n",
      "“conversion failure on '一様分布のグラフに正規分布の曲線を重ねる' in 'mbcsToSbcs': dot substituted for <b8>”\n"
     ]
    },
    {
     "name": "stderr",
     "output_type": "stream",
     "text": [
      "Warning message in title(main = main, sub = sub, xlab = xlab, ylab = ylab, ...):\n",
      "“conversion failure on '一様分布のグラフに正規分布の曲線を重ねる' in 'mbcsToSbcs': dot substituted for <83>”\n"
     ]
    },
    {
     "name": "stderr",
     "output_type": "stream",
     "text": [
      "Warning message in title(main = main, sub = sub, xlab = xlab, ylab = ylab, ...):\n",
      "“conversion failure on '一様分布のグラフに正規分布の曲線を重ねる' in 'mbcsToSbcs': dot substituted for <e3>”\n"
     ]
    },
    {
     "name": "stderr",
     "output_type": "stream",
     "text": [
      "Warning message in title(main = main, sub = sub, xlab = xlab, ylab = ylab, ...):\n",
      "“conversion failure on '一様分布のグラフに正規分布の曲線を重ねる' in 'mbcsToSbcs': dot substituted for <81>”\n"
     ]
    },
    {
     "name": "stderr",
     "output_type": "stream",
     "text": [
      "Warning message in title(main = main, sub = sub, xlab = xlab, ylab = ylab, ...):\n",
      "“conversion failure on '一様分布のグラフに正規分布の曲線を重ねる' in 'mbcsToSbcs': dot substituted for <ae>”\n"
     ]
    },
    {
     "name": "stderr",
     "output_type": "stream",
     "text": [
      "Warning message in title(main = main, sub = sub, xlab = xlab, ylab = ylab, ...):\n",
      "“conversion failure on '一様分布のグラフに正規分布の曲線を重ねる' in 'mbcsToSbcs': dot substituted for <e3>”\n"
     ]
    },
    {
     "name": "stderr",
     "output_type": "stream",
     "text": [
      "Warning message in title(main = main, sub = sub, xlab = xlab, ylab = ylab, ...):\n",
      "“conversion failure on '一様分布のグラフに正規分布の曲線を重ねる' in 'mbcsToSbcs': dot substituted for <82>”\n"
     ]
    },
    {
     "name": "stderr",
     "output_type": "stream",
     "text": [
      "Warning message in title(main = main, sub = sub, xlab = xlab, ylab = ylab, ...):\n",
      "“conversion failure on '一様分布のグラフに正規分布の曲線を重ねる' in 'mbcsToSbcs': dot substituted for <b0>”\n"
     ]
    },
    {
     "name": "stderr",
     "output_type": "stream",
     "text": [
      "Warning message in title(main = main, sub = sub, xlab = xlab, ylab = ylab, ...):\n",
      "“conversion failure on '一様分布のグラフに正規分布の曲線を重ねる' in 'mbcsToSbcs': dot substituted for <e3>”\n"
     ]
    },
    {
     "name": "stderr",
     "output_type": "stream",
     "text": [
      "Warning message in title(main = main, sub = sub, xlab = xlab, ylab = ylab, ...):\n",
      "“conversion failure on '一様分布のグラフに正規分布の曲線を重ねる' in 'mbcsToSbcs': dot substituted for <83>”\n"
     ]
    },
    {
     "name": "stderr",
     "output_type": "stream",
     "text": [
      "Warning message in title(main = main, sub = sub, xlab = xlab, ylab = ylab, ...):\n",
      "“conversion failure on '一様分布のグラフに正規分布の曲線を重ねる' in 'mbcsToSbcs': dot substituted for <a9>”\n"
     ]
    },
    {
     "name": "stderr",
     "output_type": "stream",
     "text": [
      "Warning message in title(main = main, sub = sub, xlab = xlab, ylab = ylab, ...):\n",
      "“conversion failure on '一様分布のグラフに正規分布の曲線を重ねる' in 'mbcsToSbcs': dot substituted for <e3>”\n"
     ]
    },
    {
     "name": "stderr",
     "output_type": "stream",
     "text": [
      "Warning message in title(main = main, sub = sub, xlab = xlab, ylab = ylab, ...):\n",
      "“conversion failure on '一様分布のグラフに正規分布の曲線を重ねる' in 'mbcsToSbcs': dot substituted for <83>”\n"
     ]
    },
    {
     "name": "stderr",
     "output_type": "stream",
     "text": [
      "Warning message in title(main = main, sub = sub, xlab = xlab, ylab = ylab, ...):\n",
      "“conversion failure on '一様分布のグラフに正規分布の曲線を重ねる' in 'mbcsToSbcs': dot substituted for <95>”\n"
     ]
    },
    {
     "name": "stderr",
     "output_type": "stream",
     "text": [
      "Warning message in title(main = main, sub = sub, xlab = xlab, ylab = ylab, ...):\n",
      "“conversion failure on '一様分布のグラフに正規分布の曲線を重ねる' in 'mbcsToSbcs': dot substituted for <e3>”\n"
     ]
    },
    {
     "name": "stderr",
     "output_type": "stream",
     "text": [
      "Warning message in title(main = main, sub = sub, xlab = xlab, ylab = ylab, ...):\n",
      "“conversion failure on '一様分布のグラフに正規分布の曲線を重ねる' in 'mbcsToSbcs': dot substituted for <81>”\n"
     ]
    },
    {
     "name": "stderr",
     "output_type": "stream",
     "text": [
      "Warning message in title(main = main, sub = sub, xlab = xlab, ylab = ylab, ...):\n",
      "“conversion failure on '一様分布のグラフに正規分布の曲線を重ねる' in 'mbcsToSbcs': dot substituted for <ab>”\n"
     ]
    },
    {
     "name": "stderr",
     "output_type": "stream",
     "text": [
      "Warning message in title(main = main, sub = sub, xlab = xlab, ylab = ylab, ...):\n",
      "“conversion failure on '一様分布のグラフに正規分布の曲線を重ねる' in 'mbcsToSbcs': dot substituted for <e6>”\n"
     ]
    },
    {
     "name": "stderr",
     "output_type": "stream",
     "text": [
      "Warning message in title(main = main, sub = sub, xlab = xlab, ylab = ylab, ...):\n",
      "“conversion failure on '一様分布のグラフに正規分布の曲線を重ねる' in 'mbcsToSbcs': dot substituted for <ad>”\n"
     ]
    },
    {
     "name": "stderr",
     "output_type": "stream",
     "text": [
      "Warning message in title(main = main, sub = sub, xlab = xlab, ylab = ylab, ...):\n",
      "“conversion failure on '一様分布のグラフに正規分布の曲線を重ねる' in 'mbcsToSbcs': dot substituted for <a3>”\n"
     ]
    },
    {
     "name": "stderr",
     "output_type": "stream",
     "text": [
      "Warning message in title(main = main, sub = sub, xlab = xlab, ylab = ylab, ...):\n",
      "“conversion failure on '一様分布のグラフに正規分布の曲線を重ねる' in 'mbcsToSbcs': dot substituted for <e8>”\n"
     ]
    },
    {
     "name": "stderr",
     "output_type": "stream",
     "text": [
      "Warning message in title(main = main, sub = sub, xlab = xlab, ylab = ylab, ...):\n",
      "“conversion failure on '一様分布のグラフに正規分布の曲線を重ねる' in 'mbcsToSbcs': dot substituted for <a6>”\n"
     ]
    },
    {
     "name": "stderr",
     "output_type": "stream",
     "text": [
      "Warning message in title(main = main, sub = sub, xlab = xlab, ylab = ylab, ...):\n",
      "“conversion failure on '一様分布のグラフに正規分布の曲線を重ねる' in 'mbcsToSbcs': dot substituted for <8f>”\n"
     ]
    },
    {
     "name": "stderr",
     "output_type": "stream",
     "text": [
      "Warning message in title(main = main, sub = sub, xlab = xlab, ylab = ylab, ...):\n",
      "“conversion failure on '一様分布のグラフに正規分布の曲線を重ねる' in 'mbcsToSbcs': dot substituted for <e5>”\n"
     ]
    },
    {
     "name": "stderr",
     "output_type": "stream",
     "text": [
      "Warning message in title(main = main, sub = sub, xlab = xlab, ylab = ylab, ...):\n",
      "“conversion failure on '一様分布のグラフに正規分布の曲線を重ねる' in 'mbcsToSbcs': dot substituted for <88>”\n"
     ]
    },
    {
     "name": "stderr",
     "output_type": "stream",
     "text": [
      "Warning message in title(main = main, sub = sub, xlab = xlab, ylab = ylab, ...):\n",
      "“conversion failure on '一様分布のグラフに正規分布の曲線を重ねる' in 'mbcsToSbcs': dot substituted for <86>”\n"
     ]
    },
    {
     "name": "stderr",
     "output_type": "stream",
     "text": [
      "Warning message in title(main = main, sub = sub, xlab = xlab, ylab = ylab, ...):\n",
      "“conversion failure on '一様分布のグラフに正規分布の曲線を重ねる' in 'mbcsToSbcs': dot substituted for <e5>”\n"
     ]
    },
    {
     "name": "stderr",
     "output_type": "stream",
     "text": [
      "Warning message in title(main = main, sub = sub, xlab = xlab, ylab = ylab, ...):\n",
      "“conversion failure on '一様分布のグラフに正規分布の曲線を重ねる' in 'mbcsToSbcs': dot substituted for <b8>”\n"
     ]
    },
    {
     "name": "stderr",
     "output_type": "stream",
     "text": [
      "Warning message in title(main = main, sub = sub, xlab = xlab, ylab = ylab, ...):\n",
      "“conversion failure on '一様分布のグラフに正規分布の曲線を重ねる' in 'mbcsToSbcs': dot substituted for <83>”\n"
     ]
    },
    {
     "name": "stderr",
     "output_type": "stream",
     "text": [
      "Warning message in title(main = main, sub = sub, xlab = xlab, ylab = ylab, ...):\n",
      "“conversion failure on '一様分布のグラフに正規分布の曲線を重ねる' in 'mbcsToSbcs': dot substituted for <e3>”\n"
     ]
    },
    {
     "name": "stderr",
     "output_type": "stream",
     "text": [
      "Warning message in title(main = main, sub = sub, xlab = xlab, ylab = ylab, ...):\n",
      "“conversion failure on '一様分布のグラフに正規分布の曲線を重ねる' in 'mbcsToSbcs': dot substituted for <81>”\n"
     ]
    },
    {
     "name": "stderr",
     "output_type": "stream",
     "text": [
      "Warning message in title(main = main, sub = sub, xlab = xlab, ylab = ylab, ...):\n",
      "“conversion failure on '一様分布のグラフに正規分布の曲線を重ねる' in 'mbcsToSbcs': dot substituted for <ae>”\n"
     ]
    },
    {
     "name": "stderr",
     "output_type": "stream",
     "text": [
      "Warning message in title(main = main, sub = sub, xlab = xlab, ylab = ylab, ...):\n",
      "“conversion failure on '一様分布のグラフに正規分布の曲線を重ねる' in 'mbcsToSbcs': dot substituted for <e6>”\n"
     ]
    },
    {
     "name": "stderr",
     "output_type": "stream",
     "text": [
      "Warning message in title(main = main, sub = sub, xlab = xlab, ylab = ylab, ...):\n",
      "“conversion failure on '一様分布のグラフに正規分布の曲線を重ねる' in 'mbcsToSbcs': dot substituted for <9b>”\n"
     ]
    },
    {
     "name": "stderr",
     "output_type": "stream",
     "text": [
      "Warning message in title(main = main, sub = sub, xlab = xlab, ylab = ylab, ...):\n",
      "“conversion failure on '一様分布のグラフに正規分布の曲線を重ねる' in 'mbcsToSbcs': dot substituted for <b2>”\n"
     ]
    },
    {
     "name": "stderr",
     "output_type": "stream",
     "text": [
      "Warning message in title(main = main, sub = sub, xlab = xlab, ylab = ylab, ...):\n",
      "“conversion failure on '一様分布のグラフに正規分布の曲線を重ねる' in 'mbcsToSbcs': dot substituted for <e7>”\n"
     ]
    },
    {
     "name": "stderr",
     "output_type": "stream",
     "text": [
      "Warning message in title(main = main, sub = sub, xlab = xlab, ylab = ylab, ...):\n",
      "“conversion failure on '一様分布のグラフに正規分布の曲線を重ねる' in 'mbcsToSbcs': dot substituted for <b7>”\n"
     ]
    },
    {
     "name": "stderr",
     "output_type": "stream",
     "text": [
      "Warning message in title(main = main, sub = sub, xlab = xlab, ylab = ylab, ...):\n",
      "“conversion failure on '一様分布のグラフに正規分布の曲線を重ねる' in 'mbcsToSbcs': dot substituted for <9a>”\n"
     ]
    },
    {
     "name": "stderr",
     "output_type": "stream",
     "text": [
      "Warning message in title(main = main, sub = sub, xlab = xlab, ylab = ylab, ...):\n",
      "“conversion failure on '一様分布のグラフに正規分布の曲線を重ねる' in 'mbcsToSbcs': dot substituted for <e3>”\n"
     ]
    },
    {
     "name": "stderr",
     "output_type": "stream",
     "text": [
      "Warning message in title(main = main, sub = sub, xlab = xlab, ylab = ylab, ...):\n",
      "“conversion failure on '一様分布のグラフに正規分布の曲線を重ねる' in 'mbcsToSbcs': dot substituted for <82>”\n"
     ]
    },
    {
     "name": "stderr",
     "output_type": "stream",
     "text": [
      "Warning message in title(main = main, sub = sub, xlab = xlab, ylab = ylab, ...):\n",
      "“conversion failure on '一様分布のグラフに正規分布の曲線を重ねる' in 'mbcsToSbcs': dot substituted for <92>”\n"
     ]
    },
    {
     "name": "stderr",
     "output_type": "stream",
     "text": [
      "Warning message in title(main = main, sub = sub, xlab = xlab, ylab = ylab, ...):\n",
      "“conversion failure on '一様分布のグラフに正規分布の曲線を重ねる' in 'mbcsToSbcs': dot substituted for <e9>”\n"
     ]
    },
    {
     "name": "stderr",
     "output_type": "stream",
     "text": [
      "Warning message in title(main = main, sub = sub, xlab = xlab, ylab = ylab, ...):\n",
      "“conversion failure on '一様分布のグラフに正規分布の曲線を重ねる' in 'mbcsToSbcs': dot substituted for <87>”\n"
     ]
    },
    {
     "name": "stderr",
     "output_type": "stream",
     "text": [
      "Warning message in title(main = main, sub = sub, xlab = xlab, ylab = ylab, ...):\n",
      "“conversion failure on '一様分布のグラフに正規分布の曲線を重ねる' in 'mbcsToSbcs': dot substituted for <8d>”\n"
     ]
    },
    {
     "name": "stderr",
     "output_type": "stream",
     "text": [
      "Warning message in title(main = main, sub = sub, xlab = xlab, ylab = ylab, ...):\n",
      "“conversion failure on '一様分布のグラフに正規分布の曲線を重ねる' in 'mbcsToSbcs': dot substituted for <e3>”\n"
     ]
    },
    {
     "name": "stderr",
     "output_type": "stream",
     "text": [
      "Warning message in title(main = main, sub = sub, xlab = xlab, ylab = ylab, ...):\n",
      "“conversion failure on '一様分布のグラフに正規分布の曲線を重ねる' in 'mbcsToSbcs': dot substituted for <81>”\n"
     ]
    },
    {
     "name": "stderr",
     "output_type": "stream",
     "text": [
      "Warning message in title(main = main, sub = sub, xlab = xlab, ylab = ylab, ...):\n",
      "“conversion failure on '一様分布のグラフに正規分布の曲線を重ねる' in 'mbcsToSbcs': dot substituted for <ad>”\n"
     ]
    },
    {
     "name": "stderr",
     "output_type": "stream",
     "text": [
      "Warning message in title(main = main, sub = sub, xlab = xlab, ylab = ylab, ...):\n",
      "“conversion failure on '一様分布のグラフに正規分布の曲線を重ねる' in 'mbcsToSbcs': dot substituted for <e3>”\n"
     ]
    },
    {
     "name": "stderr",
     "output_type": "stream",
     "text": [
      "Warning message in title(main = main, sub = sub, xlab = xlab, ylab = ylab, ...):\n",
      "“conversion failure on '一様分布のグラフに正規分布の曲線を重ねる' in 'mbcsToSbcs': dot substituted for <82>”\n"
     ]
    },
    {
     "name": "stderr",
     "output_type": "stream",
     "text": [
      "Warning message in title(main = main, sub = sub, xlab = xlab, ylab = ylab, ...):\n",
      "“conversion failure on '一様分布のグラフに正規分布の曲線を重ねる' in 'mbcsToSbcs': dot substituted for <8b>”\n"
     ]
    },
    {
     "data": {
      "image/png": "[encoded data removed]",
      "text/plain": [
       "Plot with title “一様分布のグラフに正規分布の曲線を重ねる”"
      ]
     },
     "metadata": {
      "image/png": {
       "height": 420,
       "width": 420
      }
     },
     "output_type": "display_data"
    }
   ],
   "source": [
    "# 一様分布での例\n",
    "# 標本サイズ\n",
    "n <- 1000\n",
    "# 試行回数\n",
    "m <- 10000\n",
    "# 標本平均を格納するベクトル\n",
    "x <- rep(NA, m)\n",
    "for (i in 1:m) {\n",
    "  x[i] <- mean(runif(n, min = 0, max = 1))\n",
    "}\n",
    "hist(x, \n",
    "     breaks = 40, \n",
    "     freq = FALSE, \n",
    "     main = \"一様分布のグラフに正規分布の曲線を重ねる\",\n",
    "     ylim = c(0, 50),\n",
    "     col = \"#0cb3d1\")\n",
    "# 正規分布の曲線を重ねる\n",
    "curve(dnorm(x, mean = 0.5, sd = sqrt(1 / 12 / n)), \n",
    "      add = TRUE, \n",
    "      lwd = 2, \n",
    "      col = \"#f25d02\")"
   ]
  },
  {
   "cell_type": "markdown",
   "id": "349adb89",
   "metadata": {},
   "source": [
    "### 標準化\n",
    "\n",
    "ある変数が取り得る値を、平均0、標準偏差1の値に変換することを標準化といいます。標準化を行うことで、異なる変数の値を単位に依存せずに比較することができます。\n",
    "\n",
    "標準化は以下の式で定義されます。\n",
    "\n",
    "$$\n",
    "z = \\frac{x - \\mu}{\\sigma}\n",
    "$$\n"
   ]
  },
  {
   "cell_type": "code",
   "execution_count": 17,
   "id": "9fc35882",
   "metadata": {},
   "outputs": [
    {
     "data": {
      "text/html": [
       "-0.897673879196766"
      ],
      "text/latex": [
       "-0.897673879196766"
      ],
      "text/markdown": [
       "-0.897673879196766"
      ],
      "text/plain": [
       "[1] -0.8976739"
      ]
     },
     "metadata": {},
     "output_type": "display_data"
    }
   ],
   "source": [
    "# アヤメの萼片の長さについて、1件目のデータを標準化\n",
    "(iris$Sepal.Length[1] - mean(iris$Sepal.Length)) / sd(iris$Sepal.Length)"
   ]
  },
  {
   "cell_type": "markdown",
   "id": "f0059c4f",
   "metadata": {},
   "source": [
    "`scale()`関数を使って標準化を行うこともできます。\n"
   ]
  },
  {
   "cell_type": "code",
   "execution_count": 18,
   "id": "21315a45",
   "metadata": {},
   "outputs": [
    {
     "data": {
      "text/html": [
       "<table class=\"dataframe\">\n",
       "<caption>A matrix: 150 × 1 of type dbl</caption>\n",
       "<tbody>\n",
       "\t<tr><td>-0.89767388</td></tr>\n",
       "\t<tr><td>-1.13920048</td></tr>\n",
       "\t<tr><td>-1.38072709</td></tr>\n",
       "\t<tr><td>-1.50149039</td></tr>\n",
       "\t<tr><td>-1.01843718</td></tr>\n",
       "\t<tr><td>-0.53538397</td></tr>\n",
       "\t<tr><td>-1.50149039</td></tr>\n",
       "\t<tr><td>-1.01843718</td></tr>\n",
       "\t<tr><td>-1.74301699</td></tr>\n",
       "\t<tr><td>-1.13920048</td></tr>\n",
       "\t<tr><td>-0.53538397</td></tr>\n",
       "\t<tr><td>-1.25996379</td></tr>\n",
       "\t<tr><td>-1.25996379</td></tr>\n",
       "\t<tr><td>-1.86378030</td></tr>\n",
       "\t<tr><td>-0.05233076</td></tr>\n",
       "\t<tr><td>-0.17309407</td></tr>\n",
       "\t<tr><td>-0.53538397</td></tr>\n",
       "\t<tr><td>-0.89767388</td></tr>\n",
       "\t<tr><td>-0.17309407</td></tr>\n",
       "\t<tr><td>-0.89767388</td></tr>\n",
       "\t<tr><td>-0.53538397</td></tr>\n",
       "\t<tr><td>-0.89767388</td></tr>\n",
       "\t<tr><td>-1.50149039</td></tr>\n",
       "\t<tr><td>-0.89767388</td></tr>\n",
       "\t<tr><td>-1.25996379</td></tr>\n",
       "\t<tr><td>-1.01843718</td></tr>\n",
       "\t<tr><td>-1.01843718</td></tr>\n",
       "\t<tr><td>-0.77691058</td></tr>\n",
       "\t<tr><td>-0.77691058</td></tr>\n",
       "\t<tr><td>-1.38072709</td></tr>\n",
       "\t<tr><td>⋮</td></tr>\n",
       "\t<tr><td> 1.27606556</td></tr>\n",
       "\t<tr><td>-0.29385737</td></tr>\n",
       "\t<tr><td> 2.24217198</td></tr>\n",
       "\t<tr><td> 0.55148575</td></tr>\n",
       "\t<tr><td> 1.03453895</td></tr>\n",
       "\t<tr><td> 1.63835547</td></tr>\n",
       "\t<tr><td> 0.43072244</td></tr>\n",
       "\t<tr><td> 0.30995914</td></tr>\n",
       "\t<tr><td> 0.67224905</td></tr>\n",
       "\t<tr><td> 1.63835547</td></tr>\n",
       "\t<tr><td> 1.87988207</td></tr>\n",
       "\t<tr><td> 2.48369858</td></tr>\n",
       "\t<tr><td> 0.67224905</td></tr>\n",
       "\t<tr><td> 0.55148575</td></tr>\n",
       "\t<tr><td> 0.30995914</td></tr>\n",
       "\t<tr><td> 2.24217198</td></tr>\n",
       "\t<tr><td> 0.55148575</td></tr>\n",
       "\t<tr><td> 0.67224905</td></tr>\n",
       "\t<tr><td> 0.18919584</td></tr>\n",
       "\t<tr><td> 1.27606556</td></tr>\n",
       "\t<tr><td> 1.03453895</td></tr>\n",
       "\t<tr><td> 1.27606556</td></tr>\n",
       "\t<tr><td>-0.05233076</td></tr>\n",
       "\t<tr><td> 1.15530226</td></tr>\n",
       "\t<tr><td> 1.03453895</td></tr>\n",
       "\t<tr><td> 1.03453895</td></tr>\n",
       "\t<tr><td> 0.55148575</td></tr>\n",
       "\t<tr><td> 0.79301235</td></tr>\n",
       "\t<tr><td> 0.43072244</td></tr>\n",
       "\t<tr><td> 0.06843254</td></tr>\n",
       "</tbody>\n",
       "</table>\n"
      ],
      "text/latex": [
       "A matrix: 150 × 1 of type dbl\n",
       "\\begin{tabular}{l}\n",
       "\t -0.89767388\\\\\n",
       "\t -1.13920048\\\\\n",
       "\t -1.38072709\\\\\n",
       "\t -1.50149039\\\\\n",
       "\t -1.01843718\\\\\n",
       "\t -0.53538397\\\\\n",
       "\t -1.50149039\\\\\n",
       "\t -1.01843718\\\\\n",
       "\t -1.74301699\\\\\n",
       "\t -1.13920048\\\\\n",
       "\t -0.53538397\\\\\n",
       "\t -1.25996379\\\\\n",
       "\t -1.25996379\\\\\n",
       "\t -1.86378030\\\\\n",
       "\t -0.05233076\\\\\n",
       "\t -0.17309407\\\\\n",
       "\t -0.53538397\\\\\n",
       "\t -0.89767388\\\\\n",
       "\t -0.17309407\\\\\n",
       "\t -0.89767388\\\\\n",
       "\t -0.53538397\\\\\n",
       "\t -0.89767388\\\\\n",
       "\t -1.50149039\\\\\n",
       "\t -0.89767388\\\\\n",
       "\t -1.25996379\\\\\n",
       "\t -1.01843718\\\\\n",
       "\t -1.01843718\\\\\n",
       "\t -0.77691058\\\\\n",
       "\t -0.77691058\\\\\n",
       "\t -1.38072709\\\\\n",
       "\t ⋮\\\\\n",
       "\t  1.27606556\\\\\n",
       "\t -0.29385737\\\\\n",
       "\t  2.24217198\\\\\n",
       "\t  0.55148575\\\\\n",
       "\t  1.03453895\\\\\n",
       "\t  1.63835547\\\\\n",
       "\t  0.43072244\\\\\n",
       "\t  0.30995914\\\\\n",
       "\t  0.67224905\\\\\n",
       "\t  1.63835547\\\\\n",
       "\t  1.87988207\\\\\n",
       "\t  2.48369858\\\\\n",
       "\t  0.67224905\\\\\n",
       "\t  0.55148575\\\\\n",
       "\t  0.30995914\\\\\n",
       "\t  2.24217198\\\\\n",
       "\t  0.55148575\\\\\n",
       "\t  0.67224905\\\\\n",
       "\t  0.18919584\\\\\n",
       "\t  1.27606556\\\\\n",
       "\t  1.03453895\\\\\n",
       "\t  1.27606556\\\\\n",
       "\t -0.05233076\\\\\n",
       "\t  1.15530226\\\\\n",
       "\t  1.03453895\\\\\n",
       "\t  1.03453895\\\\\n",
       "\t  0.55148575\\\\\n",
       "\t  0.79301235\\\\\n",
       "\t  0.43072244\\\\\n",
       "\t  0.06843254\\\\\n",
       "\\end{tabular}\n"
      ],
      "text/markdown": [
       "\n",
       "A matrix: 150 × 1 of type dbl\n",
       "\n",
       "| -0.89767388 |\n",
       "| -1.13920048 |\n",
       "| -1.38072709 |\n",
       "| -1.50149039 |\n",
       "| -1.01843718 |\n",
       "| -0.53538397 |\n",
       "| -1.50149039 |\n",
       "| -1.01843718 |\n",
       "| -1.74301699 |\n",
       "| -1.13920048 |\n",
       "| -0.53538397 |\n",
       "| -1.25996379 |\n",
       "| -1.25996379 |\n",
       "| -1.86378030 |\n",
       "| -0.05233076 |\n",
       "| -0.17309407 |\n",
       "| -0.53538397 |\n",
       "| -0.89767388 |\n",
       "| -0.17309407 |\n",
       "| -0.89767388 |\n",
       "| -0.53538397 |\n",
       "| -0.89767388 |\n",
       "| -1.50149039 |\n",
       "| -0.89767388 |\n",
       "| -1.25996379 |\n",
       "| -1.01843718 |\n",
       "| -1.01843718 |\n",
       "| -0.77691058 |\n",
       "| -0.77691058 |\n",
       "| -1.38072709 |\n",
       "| ⋮ |\n",
       "|  1.27606556 |\n",
       "| -0.29385737 |\n",
       "|  2.24217198 |\n",
       "|  0.55148575 |\n",
       "|  1.03453895 |\n",
       "|  1.63835547 |\n",
       "|  0.43072244 |\n",
       "|  0.30995914 |\n",
       "|  0.67224905 |\n",
       "|  1.63835547 |\n",
       "|  1.87988207 |\n",
       "|  2.48369858 |\n",
       "|  0.67224905 |\n",
       "|  0.55148575 |\n",
       "|  0.30995914 |\n",
       "|  2.24217198 |\n",
       "|  0.55148575 |\n",
       "|  0.67224905 |\n",
       "|  0.18919584 |\n",
       "|  1.27606556 |\n",
       "|  1.03453895 |\n",
       "|  1.27606556 |\n",
       "| -0.05233076 |\n",
       "|  1.15530226 |\n",
       "|  1.03453895 |\n",
       "|  1.03453895 |\n",
       "|  0.55148575 |\n",
       "|  0.79301235 |\n",
       "|  0.43072244 |\n",
       "|  0.06843254 |\n",
       "\n"
      ],
      "text/plain": [
       "      [,1]       \n",
       " [1,] -0.89767388\n",
       " [2,] -1.13920048\n",
       " [3,] -1.38072709\n",
       " [4,] -1.50149039\n",
       " [5,] -1.01843718\n",
       " [6,] -0.53538397\n",
       " [7,] -1.50149039\n",
       " [8,] -1.01843718\n",
       " [9,] -1.74301699\n",
       "[10,] -1.13920048\n",
       "[11,] -0.53538397\n",
       "[12,] -1.25996379\n",
       "[13,] -1.25996379\n",
       "[14,] -1.86378030\n",
       "[15,] -0.05233076\n",
       "[16,] -0.17309407\n",
       "[17,] -0.53538397\n",
       "[18,] -0.89767388\n",
       "[19,] -0.17309407\n",
       "[20,] -0.89767388\n",
       "[21,] -0.53538397\n",
       "[22,] -0.89767388\n",
       "[23,] -1.50149039\n",
       "[24,] -0.89767388\n",
       "[25,] -1.25996379\n",
       "[26,] -1.01843718\n",
       "[27,] -1.01843718\n",
       "[28,] -0.77691058\n",
       "[29,] -0.77691058\n",
       "[30,] -1.38072709\n",
       "[31,] ⋮          \n",
       "[32,]  1.27606556\n",
       "[33,] -0.29385737\n",
       "[34,]  2.24217198\n",
       "[35,]  0.55148575\n",
       "[36,]  1.03453895\n",
       "[37,]  1.63835547\n",
       "[38,]  0.43072244\n",
       "[39,]  0.30995914\n",
       "[40,]  0.67224905\n",
       "[41,]  1.63835547\n",
       "[42,]  1.87988207\n",
       "[43,]  2.48369858\n",
       "[44,]  0.67224905\n",
       "[45,]  0.55148575\n",
       "[46,]  0.30995914\n",
       "[47,]  2.24217198\n",
       "[48,]  0.55148575\n",
       "[49,]  0.67224905\n",
       "[50,]  0.18919584\n",
       "[51,]  1.27606556\n",
       "[52,]  1.03453895\n",
       "[53,]  1.27606556\n",
       "[54,] -0.05233076\n",
       "[55,]  1.15530226\n",
       "[56,]  1.03453895\n",
       "[57,]  1.03453895\n",
       "[58,]  0.55148575\n",
       "[59,]  0.79301235\n",
       "[60,]  0.43072244\n",
       "[61,]  0.06843254"
      ]
     },
     "metadata": {},
     "output_type": "display_data"
    },
    {
     "data": {
      "text/html": [
       "-0.897673879196767"
      ],
      "text/latex": [
       "-0.897673879196767"
      ],
      "text/markdown": [
       "-0.897673879196767"
      ],
      "text/plain": [
       "[1] -0.8976739"
      ]
     },
     "metadata": {},
     "output_type": "display_data"
    }
   ],
   "source": [
    "x <- scale(iris$Sepal.Length)\n",
    "x\n",
    "\n",
    "# 先ほどの結果と同じ値を得られているか確認\n",
    "x[1]"
   ]
  }
 ],
 "metadata": {
  "jupytext": {
   "formats": "ipynb,qmd",
   "text_representation": {
    "extension": ".qmd",
    "format_name": "quarto",
    "format_version": "1.0",
    "jupytext_version": "1.14.5"
   }
  },
  "kernelspec": {
   "display_name": "R",
   "language": "R",
   "name": "ir"
  },
  "language_info": {
   "codemirror_mode": "r",
   "file_extension": ".r",
   "mimetype": "text/x-r-source",
   "name": "R",
   "pygments_lexer": "r",
   "version": "4.2.3"
  }
 },
 "nbformat": 4,
 "nbformat_minor": 5
}
