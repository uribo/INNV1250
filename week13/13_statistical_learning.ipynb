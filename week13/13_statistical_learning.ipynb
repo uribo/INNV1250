{
  "cells": [
    {
      "cell_type": "markdown",
      "metadata": {},
      "source": [
        "---\n",
        "title: 統計的学習\n",
        "format: html\n",
        "lang: ja\n",
        "execute: \n",
        "  eval: true\n",
        "ascii: false\n",
        "keep-ipynb: true\n",
        "jupyter:\n",
        "  jupytext:\n",
        "    formats: 'ipynb,qmd'\n",
        "    text_representation:\n",
        "      extension: .qmd\n",
        "      format_name: quarto\n",
        "      format_version: '1.0'\n",
        "      jupytext_version: 1.14.5\n",
        "  kernelspec:\n",
        "    display_name: R\n",
        "    language: R\n",
        "    name: ir\n",
        "---"
      ]
    },
    {
      "cell_type": "code",
      "metadata": {},
      "source": [
        "#| eval: false\n",
        "#| echo: true\n",
        "install.packages(\"caret\")"
      ],
      "execution_count": null,
      "outputs": []
    },
    {
      "cell_type": "markdown",
      "metadata": {},
      "source": [
        "## 教師あり学習: ペンギンデータの性別を分類するモデル"
      ]
    },
    {
      "cell_type": "code",
      "metadata": {},
      "source": [
        "#| label: ペンギンデータの読み込み\n",
        "penguins <- \n",
        "  readr::read_csv(\"https://raw.githubusercontent.com/allisonhorst/palmerpenguins/main/inst/extdata/penguins.csv\",\n",
        "                  col_types = \"ccddddcd\")"
      ],
      "execution_count": null,
      "outputs": []
    },
    {
      "cell_type": "code",
      "metadata": {},
      "source": [
        "library(dplyr, warn.conflicts = FALSE)\n",
        "penguins_df <- \n",
        "  penguins |> \n",
        "  # 性別が欠損値となる行を削除\n",
        "  filter(!is.na(sex)) |> \n",
        "  # モデル中で利用しない変数の除外\n",
        "  select(!c(year, island)) |> \n",
        "  mutate(sex = if_else(sex == \"male\", 1, 0))"
      ],
      "execution_count": null,
      "outputs": []
    },
    {
      "cell_type": "markdown",
      "metadata": {},
      "source": [
        "### データの可視化"
      ]
    },
    {
      "cell_type": "code",
      "metadata": {},
      "source": [
        "library(ggplot2)\n",
        "\n",
        "penguins_df |> \n",
        "  ggplot(aes(flipper_length_mm, bill_length_mm, \n",
        "             color = body_mass_g, \n",
        "             shape = sex,\n",
        "             size = body_mass_g)) +\n",
        "  geom_point(alpha = 0.5) +\n",
        "  scale_color_viridis_c() +\n",
        "  facet_wrap(~species)"
      ],
      "execution_count": null,
      "outputs": []
    },
    {
      "cell_type": "markdown",
      "metadata": {},
      "source": [
        "### データ分割\n",
        "\n",
        "\n",
        "データを訓練データとテストデータに分割する。"
      ]
    },
    {
      "cell_type": "code",
      "metadata": {},
      "source": [
        "set.seed(123)\n",
        "train_index <- \n",
        "  sample(1:nrow(penguins_df), nrow(penguins_df) * 0.7)\n",
        "train_data <- penguins_df[train_index, ] # 訓練データ（７割）\n",
        "test_data <- penguins_df[-train_index, ] # テストデータ（３割）"
      ],
      "execution_count": null,
      "outputs": []
    },
    {
      "cell_type": "markdown",
      "metadata": {},
      "source": [
        "元のデータ、訓練データ、テストデータの性別の頻度を確認する。"
      ]
    },
    {
      "cell_type": "code",
      "metadata": {},
      "source": [
        "count(penguins_df, sex)\n",
        "count(train_data, sex)\n",
        "count(test_data, sex)"
      ],
      "execution_count": null,
      "outputs": []
    },
    {
      "cell_type": "markdown",
      "metadata": {},
      "source": [
        "### ロジスティック回帰\n",
        "\n",
        "リンク関数がロジットで、誤差構造が二項分布の場合の一般化線形モデルを構築する。\n",
        "\n",
        "訓練データを用いてモデルを学習する。"
      ]
    },
    {
      "cell_type": "code",
      "metadata": {},
      "source": [
        "fit <- glm(formula = sex ~ ., data = train_data, family = binomial)\n",
        "summary(fit)"
      ],
      "execution_count": null,
      "outputs": []
    },
    {
      "cell_type": "markdown",
      "metadata": {},
      "source": [
        "学習したモデルを用いてテストデータから性別を予測する。"
      ]
    },
    {
      "cell_type": "code",
      "metadata": {},
      "source": [
        "prob <- \n",
        "  predict(fit, newdata = test_data, type = \"response\")\n",
        "predicted_class <- \n",
        "  if_else(prob > 0.5, 1, 0)\n",
        "\n",
        "table(predicted_class, test_data$sex)"
      ],
      "execution_count": null,
      "outputs": []
    },
    {
      "cell_type": "markdown",
      "metadata": {},
      "source": [
        "### 性能評価\n",
        "\n",
        "テストデータを用いて学習したモデルの性能を評価する。"
      ]
    },
    {
      "cell_type": "code",
      "metadata": {},
      "source": [
        "# 正解率はモデルが正しく予測したデータの割合を示す\n",
        "library(caret)\n",
        "x <- \n",
        "  caret::confusionMatrix(factor(predicted_class), factor(test_data$sex))\n",
        "x\n",
        "plot(x$table, type = \"heatmap\", main = \"Confusion Matrix\")"
      ],
      "execution_count": null,
      "outputs": []
    },
    {
      "cell_type": "markdown",
      "metadata": {},
      "source": [
        "異なるモデルを考える"
      ]
    },
    {
      "cell_type": "code",
      "metadata": {},
      "source": [
        "fit2 <- glm(formula = sex ~ body_mass_g + species, data = train_data, family = binomial)\n",
        "prob2 <- \n",
        "  predict(fit2, newdata = test_data, type = \"response\")\n",
        "predicted_class2 <- \n",
        "  if_else(prob2 > 0.5, 1, 0)\n",
        "caret::confusionMatrix(factor(predicted_class2), factor(test_data$sex))"
      ],
      "execution_count": null,
      "outputs": []
    },
    {
      "cell_type": "markdown",
      "metadata": {},
      "source": [
        "## 教師なし学習: k-平均法"
      ]
    },
    {
      "cell_type": "code",
      "metadata": {},
      "source": [
        "df_animal_tiny <-\n",
        "  read.csv(\"https://raw.githubusercontent.com/uribo/tokupon_ds/main/data-raw/tokushima_zoo_animals22.csv\") |> \n",
        "  select(body_length_cm, weight_kg) |> \n",
        "  # 欠損値を含む行を削除\n",
        "  tidyr::drop_na()"
      ],
      "execution_count": null,
      "outputs": []
    },
    {
      "cell_type": "code",
      "metadata": {},
      "source": [
        "# データの特徴からグループ分けを行いたい\n",
        "df_animal_tiny |> \n",
        "  ggplot() +\n",
        "  aes(body_length_cm, weight_kg) +\n",
        "  geom_point()"
      ],
      "execution_count": null,
      "outputs": []
    },
    {
      "cell_type": "markdown",
      "metadata": {},
      "source": [
        "k-平均法で扱うデータは標準化しておく。"
      ]
    },
    {
      "cell_type": "code",
      "metadata": {},
      "source": [
        "df_animal_scaled <- \n",
        "  df_animal_tiny |> \n",
        "  mutate(across(everything(), scale))\n",
        "\n",
        "head(df_animal_scaled)"
      ],
      "execution_count": null,
      "outputs": []
    },
    {
      "cell_type": "code",
      "metadata": {},
      "source": [
        "set.seed(123)\n",
        "fit_kmeans <- kmeans(df_animal_scaled, centers = 3)\n",
        "fit_kmeans$cluster"
      ],
      "execution_count": null,
      "outputs": []
    },
    {
      "cell_type": "markdown",
      "metadata": {},
      "source": [
        "クラスタリングの結果をプロットして確認する。"
      ]
    },
    {
      "cell_type": "code",
      "metadata": {},
      "source": [
        "df_animal_scaled$.pred_cluster <- as.factor(fit_kmeans$cluster)\n",
        "\n",
        "df_animal_scaled |>\n",
        "  ggplot() +\n",
        "  aes(x = body_length_cm, y = weight_kg, colour = .pred_cluster) +\n",
        "  geom_point()"
      ],
      "execution_count": null,
      "outputs": []
    }
  ],
  "metadata": {
    "kernelspec": {
      "display_name": "R",
      "language": "R",
      "name": "ir"
    },
    "jupytext": {
      "formats": "ipynb,qmd",
      "text_representation": {
        "extension": ".qmd",
        "format_name": "quarto",
        "format_version": "1.0",
        "jupytext_version": "1.14.5"
      }
    }
  },
  "nbformat": 4,
  "nbformat_minor": 4
}