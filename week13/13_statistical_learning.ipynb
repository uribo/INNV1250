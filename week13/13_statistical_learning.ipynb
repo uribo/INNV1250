{
  "cells": [
    {
      "cell_type": "markdown",
      "metadata": {},
      "source": [
        "---\n",
        "title: 統計的学習\n",
        "format: html\n",
        "lang: ja\n",
        "execute: \n",
        "  eval: true\n",
        "ascii: false\n",
        "keep-ipynb: true\n",
        "jupyter:\n",
        "  jupytext:\n",
        "    formats: 'ipynb,qmd'\n",
        "    text_representation:\n",
        "      extension: .qmd\n",
        "      format_name: quarto\n",
        "      format_version: '1.0'\n",
        "      jupytext_version: 1.14.5\n",
        "  kernelspec:\n",
        "    display_name: R\n",
        "    language: R\n",
        "    name: ir\n",
        "---"
      ]
    },
    {
      "cell_type": "code",
      "metadata": {},
      "source": [
        "#| eval: false\n",
        "#| echo: true\n",
        "install.packages(\"tidymodels\")"
      ],
      "execution_count": null,
      "outputs": []
    },
    {
      "cell_type": "markdown",
      "metadata": {},
      "source": [
        "## 教師あり学習: ペンギンデータの性別を分類するモデル"
      ]
    },
    {
      "cell_type": "code",
      "metadata": {},
      "source": [
        "#| label: ペンギンデータの読み込み\n",
        "penguins <- \n",
        "  readr::read_csv(\"https://raw.githubusercontent.com/allisonhorst/palmerpenguins/main/inst/extdata/penguins.csv\",\n",
        "                  col_types = \"ccddddcd\")"
      ],
      "execution_count": null,
      "outputs": []
    },
    {
      "cell_type": "code",
      "metadata": {},
      "source": [
        "library(tidymodels)\n",
        "library(dplyr, warn.conflicts = FALSE)\n",
        "penguins_df <- \n",
        "  penguins |> \n",
        "  # 性別が欠損値となる行を削除\n",
        "  filter(!is.na(sex)) |> \n",
        "  # モデル中で利用しない変数の除外\n",
        "  select(!c(year, island))"
      ],
      "execution_count": null,
      "outputs": []
    },
    {
      "cell_type": "markdown",
      "metadata": {},
      "source": [
        "### データの可視化"
      ]
    },
    {
      "cell_type": "code",
      "metadata": {},
      "source": [
        "library(ggplot2)\n",
        "\n",
        "penguins_df |> \n",
        "  ggplot(aes(flipper_length_mm, bill_length_mm, \n",
        "             color = body_mass_g, \n",
        "             shape = sex,\n",
        "             size = body_mass_g)) +\n",
        "  geom_point(alpha = 0.5) +\n",
        "  scale_color_viridis_c() +\n",
        "  facet_wrap(~species)"
      ],
      "execution_count": null,
      "outputs": []
    },
    {
      "cell_type": "markdown",
      "metadata": {},
      "source": [
        "### データ分割\n",
        "\n",
        "\n",
        "データを訓練データとテストデータに分割する。各データに偏りがないように性別による層化抽出を行う。"
      ]
    },
    {
      "cell_type": "code",
      "metadata": {},
      "source": [
        "set.seed(123)\n",
        "# 性別を層とする層化抽出\n",
        "# ref) 第7回「データと確率」\n",
        "penguin_split <- \n",
        "  # 訓練データとテストデータの件数の比率をprop引数で指定\n",
        "  initial_split(penguins_df, strata = sex, prop = 3/4)\n",
        "penguin_train <- training(penguin_split)\n",
        "penguin_test <- testing(penguin_split)"
      ],
      "execution_count": null,
      "outputs": []
    },
    {
      "cell_type": "markdown",
      "metadata": {},
      "source": [
        "元のデータ、訓練データ、テストデータの性別の頻度を確認する。"
      ]
    },
    {
      "cell_type": "code",
      "metadata": {},
      "source": [
        "count(penguins_df, sex)\n",
        "count(penguin_train, sex)\n",
        "count(penguin_test, sex)"
      ],
      "execution_count": null,
      "outputs": []
    },
    {
      "cell_type": "markdown",
      "metadata": {},
      "source": [
        "### 特徴量エンジニアリング\n",
        "\n",
        "次の特徴量エンジニアリングを行う。\n",
        "\n",
        "- データの標準化\n",
        "- カテゴリ変数のダミー変数化"
      ]
    },
    {
      "cell_type": "code",
      "metadata": {},
      "source": [
        "penguins_rec <-\n",
        "  recipe(formula = sex ~ ., \n",
        "         data = penguin_train) |> \n",
        "  step_normalize(all_numeric()) |> \n",
        "  step_dummy(all_nominal(), -sex, one_hot = TRUE)"
      ],
      "execution_count": null,
      "outputs": []
    },
    {
      "cell_type": "code",
      "metadata": {},
      "source": [
        "# 訓練データがどのように変換されるかを確認する\n",
        "head(bake(prep(penguins_rec), new_data = NULL))"
      ],
      "execution_count": null,
      "outputs": []
    },
    {
      "cell_type": "markdown",
      "metadata": {},
      "source": [
        "### ロジスティック回帰\n",
        "\n",
        "リンク関数がロジットで、誤差構造が二項分布の場合の一般化線形モデルを構築する。"
      ]
    },
    {
      "cell_type": "code",
      "metadata": {},
      "source": [
        "glm_spec <- \n",
        "  logistic_reg() |>\n",
        "  set_engine(\"glm\")"
      ],
      "execution_count": null,
      "outputs": []
    },
    {
      "cell_type": "code",
      "metadata": {},
      "source": [
        "penguin_wf <- \n",
        "  workflow() |> \n",
        "  add_model(glm_spec) |> \n",
        "  add_recipe(penguins_rec)"
      ],
      "execution_count": null,
      "outputs": []
    },
    {
      "cell_type": "markdown",
      "metadata": {},
      "source": [
        "訓練データを用いてモデルを学習する。"
      ]
    },
    {
      "cell_type": "code",
      "metadata": {},
      "source": [
        "penguins_fit <-\n",
        "  penguin_wf |> \n",
        "  fit(data = penguin_train)\n",
        "\n",
        "penguins_fit"
      ],
      "execution_count": null,
      "outputs": []
    },
    {
      "cell_type": "code",
      "metadata": {},
      "source": [
        "#| eval: false\n",
        "#| echo: true\n",
        "# 同じ結果となるのを確認\n",
        "glm(sex ~ .,\n",
        "    data = bake(prep(penguins_rec), new_data = NULL), \n",
        "    family = binomial(link = \"logit\"))"
      ],
      "execution_count": null,
      "outputs": []
    },
    {
      "cell_type": "markdown",
      "metadata": {},
      "source": [
        "学習したモデルを用いてテストデータから性別を予測する。"
      ]
    },
    {
      "cell_type": "code",
      "metadata": {},
      "source": [
        "head(predict(penguins_fit, new_data = penguin_test))"
      ],
      "execution_count": null,
      "outputs": []
    },
    {
      "cell_type": "code",
      "metadata": {},
      "source": [
        "# 分類を誤ったデータを確認\n",
        "predict(penguins_fit, new_data = penguin_test) |> \n",
        "  bind_cols(penguin_test) |> \n",
        "  filter(.pred_class != sex)"
      ],
      "execution_count": null,
      "outputs": []
    },
    {
      "cell_type": "markdown",
      "metadata": {},
      "source": [
        "### 性能評価\n",
        "\n",
        "テストデータを用いて学習したモデルの性能を評価する。"
      ]
    },
    {
      "cell_type": "code",
      "metadata": {},
      "source": [
        "# 評価関数accuracy()により正解率を求める\n",
        "# 正解率はモデルが正しく予測したデータの割合を示す\n",
        "augment(penguins_fit, new_data = penguin_test |> \n",
        "          mutate(sex = as.factor(sex))) |> \n",
        "  accuracy(truth = sex, estimate = .pred_class)"
      ],
      "execution_count": null,
      "outputs": []
    },
    {
      "cell_type": "markdown",
      "metadata": {},
      "source": [
        "## 教師なし学習: k-平均法"
      ]
    },
    {
      "cell_type": "code",
      "metadata": {},
      "source": [
        "df_animal_tiny <-\n",
        "  read.csv(\"https://raw.githubusercontent.com/uribo/tokupon_ds/main/data-raw/tokushima_zoo_animals22.csv\") |> \n",
        "  select(body_length_cm, weight_kg) |> \n",
        "  # 欠損値を含む行を削除\n",
        "  tidyr::drop_na()"
      ],
      "execution_count": null,
      "outputs": []
    },
    {
      "cell_type": "code",
      "metadata": {},
      "source": [
        "# データの特徴からグループ分けを行いたい\n",
        "df_animal_tiny |> \n",
        "  ggplot() +\n",
        "  aes(body_length_cm, weight_kg) +\n",
        "  geom_point()"
      ],
      "execution_count": null,
      "outputs": []
    },
    {
      "cell_type": "markdown",
      "metadata": {},
      "source": [
        "tidymodelsの枠組みでクラスタリングを扱うtidyclustパッケージで行う。\n"
      ]
    },
    {
      "cell_type": "code",
      "metadata": {},
      "source": [
        "#| eval: false\n",
        "#| echo: true\n",
        "install.packages(c(\"tidyclust\"))"
      ],
      "execution_count": null,
      "outputs": []
    },
    {
      "cell_type": "code",
      "metadata": {},
      "source": [
        "library(tidyclust)\n",
        "kmeans_spec <-\n",
        "  k_means(num_clusters = 4) |>\n",
        "  set_engine(\"stats\")\n",
        "kmeans_spec_fit <-\n",
        "  kmeans_spec |>\n",
        "  fit(~ ., data = df_animal_tiny)\n",
        "kmeans_spec_fit"
      ],
      "execution_count": null,
      "outputs": []
    },
    {
      "cell_type": "markdown",
      "metadata": {},
      "source": [
        "クラスタリングの結果をプロットして確認する。"
      ]
    },
    {
      "cell_type": "code",
      "metadata": {},
      "source": [
        "augment(kmeans_spec_fit,\n",
        "        df_animal_tiny) |>\n",
        "  ggplot() +\n",
        "  aes(x = body_length_cm, y = weight_kg, colour = .pred_cluster) +\n",
        "  geom_point()"
      ],
      "execution_count": null,
      "outputs": []
    }
  ],
  "metadata": {
    "kernelspec": {
      "display_name": "R",
      "language": "R",
      "name": "ir"
    },
    "jupytext": {
      "formats": "ipynb,qmd",
      "text_representation": {
        "extension": ".qmd",
        "format_name": "quarto",
        "format_version": "1.0",
        "jupytext_version": "1.14.5"
      }
    }
  },
  "nbformat": 4,
  "nbformat_minor": 4
}