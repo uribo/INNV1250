{
  "cells": [
    {
      "cell_type": "raw",
      "metadata": {},
      "source": [
        "---\n",
        "title: 【課題】データの特徴を表現する方法を理解する\n",
        "format: html\n",
        "keep-ipynb: true\n",
        "---"
      ],
      "id": "46483469"
    },
    {
      "cell_type": "markdown",
      "metadata": {},
      "source": [
        "::: {.callout-important}\n",
        "\n",
        "以下の3つの問題について、回答結果をセルに記述してください。なお必要に応じてRコードも示してください。\n",
        "\n",
        ":::\n",
        "\n",
        "\n",
        "## 問題: 動物データに対して要約統計量を求める関数を適用し、体長の中央値、体重の（不偏）標準偏差を求めよ\n"
      ],
      "id": "eb0fd8cd"
    },
    {
      "cell_type": "code",
      "metadata": {},
      "source": [
        "#| label: 動物データの読み込み\n",
        "df_animal <-\n",
        "  readr::read_csv(\"https://raw.githubusercontent.com/uribo/tokupon_ds/main/data-raw/tokushima_zoo_animals22.csv\", col_types = \"ccdd\")"
      ],
      "id": "a27c6944",
      "execution_count": null,
      "outputs": []
    },
    {
      "cell_type": "code",
      "metadata": {},
      "source": [
        "head(df_animal)"
      ],
      "id": "7a2be7a8",
      "execution_count": null,
      "outputs": []
    },
    {
      "cell_type": "markdown",
      "metadata": {},
      "source": [
        "- 動物データは `df_animal` としてデータフレーム形式で保存されている。\n",
        "- 体長は`body_length_cm`、体重は`weight_kg`として変数に記録されている。\n",
        "\n",
        "Rで要約統計量を求める関数は`summary()`である。数値からなる変数については最小値や最大値、中央値、平均値などの情報が得られる。\n",
        "また`summary()`で得られない標準偏差などの要約統計量についても個別に求める関数がRには用意されている。\n"
      ],
      "id": "c2523381"
    },
    {
      "cell_type": "code",
      "metadata": {},
      "source": [
        "# コードを記述して実行"
      ],
      "id": "85dab56b",
      "execution_count": null,
      "outputs": []
    },
    {
      "cell_type": "markdown",
      "metadata": {},
      "source": [
        "## 問題: 平均値と中央値の違い\n",
        "\n",
        "太郎くんはお母さんと、次の国語のテストでクラスの上位半分に入ったら、新しくスマートフォンを買い換える約束をしました。テストの結果、太郎くんの成績はクラスの平均点よりも低い点数でした。この場合、太郎くんはスマートフォンを買ってもらえるでしょうか?以下から適切な選択肢を1つ選んでください。\n",
        "\n",
        "回答のみを残し、他の選択肢については削除またはコメントアウト（行頭に`#`を追加）してください。\n",
        "\n",
        "```\n",
        "1. 必ず買ってもらえる。\n",
        "2. 買ってもらえる可能性はある。\n",
        "3. 買ってもらえない。\n",
        "```\n",
        "\n",
        "## 問題: \n",
        "\n",
        "さまざまなダイアモンドの重さ（carat）を記録したデータの要約統計量として、最小値0.20、最大値5.01、平均値0.79、中央値0.70という値が得られています。次の図はダイアモンドの重さの分布をヒストグラムと呼ばれる図で示したもので、横軸にダイアモンドの重さをいくらかの区間に分割した階級、縦軸にその階級に含まれるデータの件数を表します。このデータの最頻値（最も件数の多い値）について、要約統計量とヒストグラムから読み取れるものは次のうちどれでしょうか。\n",
        "\n",
        "![](https://raw.githubusercontent.com/uribo/INNV1250/f22c288864e7f3cbb292aa58cc0cb752796fa683/img/q07.png)\n",
        "\n",
        "回答のみを残し、他の選択肢については削除またはコメントアウト（行頭に`#`を追加）してください。\n",
        "\n",
        "```\n",
        "1. ヒストグラムで最も高い階級となる0.3ぐらい。\n",
        "2. 平均値と中央値の付近の0.7くらい。\n",
        "3. 最小値と最大値の真ん中の2.4ぐらい。\n",
        "```"
      ],
      "id": "c93a434f"
    }
  ],
  "metadata": {
    "kernelspec": {
      "display_name": "R",
      "language": "R",
      "name": "ir"
    },
    "jupytext": {
      "formats": "ipynb,qmd",
      "text_representation": {
        "extension": ".qmd",
        "format_name": "quarto",
        "format_version": "1.0",
        "jupytext_version": "1.14.5"
      }
    }
  },
  "nbformat": 4,
  "nbformat_minor": 5
}