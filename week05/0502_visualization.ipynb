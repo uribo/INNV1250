{
 "cells": [
  {
   "cell_type": "raw",
   "id": "aff63c6a",
   "metadata": {},
   "source": [
    "---\n",
    "title: 分布を視覚化する\n",
    "keep-ipynb: true\n",
    "---"
   ]
  },
  {
   "cell_type": "code",
   "execution_count": null,
   "id": "6ded1365",
   "metadata": {
    "vscode": {
     "languageId": "r"
    }
   },
   "outputs": [],
   "source": [
    "#| eval: false\n",
    "#| echo: true\n",
    "# パッケージのインストール\n",
    "install.packages(c(\"patchwork\", \"palmerpenguins\"))"
   ]
  },
  {
   "cell_type": "code",
   "execution_count": null,
   "id": "0e3ab625",
   "metadata": {
    "vscode": {
     "languageId": "r"
    }
   },
   "outputs": [],
   "source": [
    "#| label: パッケージの読み込み\n",
    "library(tidyverse)\n",
    "library(patchwork) # グラフの配置を調整するために利用\n",
    "library(palmerpenguins) # ペンギンデータを利用"
   ]
  },
  {
   "cell_type": "markdown",
   "id": "66f49ba4",
   "metadata": {},
   "source": [
    "[0501_summary_statistics.ipynb](0501_summary_statistics.ipynb)で、要約統計量を計算することで、データの特徴について理解を深めることができました。一方、要約統計量ではデータの全体像を十分に把握しきれない場合があります。例えば、平均値と標準偏差を計算したとしても、データがどのような分布をしているのかはわかりません。データの分布について知るためにはグラフの作成が効果的です。ここではデータの分布を視覚化し、データの全体像を把握するための手法である**ヒストグラム**と**箱ヒゲ図**について学びます。\n",
    "\n",
    "## ヒストグラム\n",
    "\n",
    "ヒストグラムは、データの分布を視覚的に表現するためのグラフの一種です。データが取り得る値をいくつかの区間に分割した「階級」を設定し、横軸に階級、縦軸に階級ごとの度数に応じた長さの長方形の「柱」を並べることでデータの分布を視覚的に扱います。一つのグラフの中から多数の情報が得られることがあり、データの特徴を把握するためには欠かせないグラフとなっています。\n",
    "\n",
    "ヒストグラムを作成するには、まずはデータを階級に分割する必要があります。階級の幅は、データの値に応じて決めるのが一般的です。階級の幅が広すぎるとデータの分布を正確に表現できず、階級の幅が狭すぎるとデータの特徴を把握することができなくなってしまいます。\n"
   ]
  },
  {
   "cell_type": "code",
   "execution_count": null,
   "id": "542bbd0d",
   "metadata": {
    "vscode": {
     "languageId": "r"
    }
   },
   "outputs": [],
   "source": [
    "p1 <-\n",
    "  penguins |> \n",
    "  ggplot(aes(body_mass_g)) +\n",
    "  geom_histogram(bins = 2, fill = \"#0cb3d1\") +\n",
    "  ylab(\"Frequency\") +\n",
    "  xlab(\"Body mass (g)\") +\n",
    "  labs(title = \"ペンギンの体重のヒストグラム。階級数2\")\n",
    "p2 <-\n",
    "  penguins |> \n",
    "  ggplot(aes(body_mass_g)) +\n",
    "  geom_histogram(bins = 30, fill = \"#f25d02\") +\n",
    "  ylab(\"Frequency\") +\n",
    "  xlab(\"Body mass (g)\") +\n",
    "  labs(title = \"ペンギンの体重のヒストグラム。階級数30\")"
   ]
  },
  {
   "cell_type": "code",
   "execution_count": null,
   "id": "26bcc530",
   "metadata": {
    "vscode": {
     "languageId": "r"
    }
   },
   "outputs": [],
   "source": [
    "#| fig-cap: 階級数によってヒストグラムの見た目は変わる\n",
    "p1 + p2 + \n",
    "  plot_layout(ncol = 2)"
   ]
  },
  {
   "cell_type": "markdown",
   "id": "217675e6",
   "metadata": {},
   "source": [
    "### 度数分布表\n"
   ]
  },
  {
   "cell_type": "code",
   "execution_count": null,
   "id": "40ede435",
   "metadata": {
    "vscode": {
     "languageId": "r"
    }
   },
   "outputs": [],
   "source": [
    "# ペンギンの体重について、階級幅を1000として度数分布表を作成する\n",
    "weight_freq <- \n",
    "  table(cut(penguins$body_mass_g, \n",
    "            breaks = seq(2000, \n",
    "                         7000, \n",
    "                         by = 1000),\n",
    "            dig.lab = 4))\n",
    "tibble::tibble(\n",
    "  class = names(weight_freq),\n",
    "  frequency = weight_freq)"
   ]
  },
  {
   "cell_type": "markdown",
   "id": "0914d428",
   "metadata": {},
   "source": [
    "### ヒストグラムの作成\n"
   ]
  },
  {
   "cell_type": "code",
   "execution_count": null,
   "id": "d0faa771",
   "metadata": {
    "vscode": {
     "languageId": "r"
    }
   },
   "outputs": [],
   "source": [
    "p <- \n",
    "  penguins |> \n",
    "  ggplot(aes(body_mass_g)) +\n",
    "  # ヒストグラムでは柱の階級をビン bin と呼ぶ\n",
    "  geom_histogram(bins = 5) +\n",
    "  ylab(\"Frequency\") +\n",
    "  xlab(\"Body mass (g)\") +\n",
    "  labs(title = \"ペンギンの体重のヒストグラム\")\n",
    "\n",
    "p"
   ]
  },
  {
   "cell_type": "markdown",
   "id": "aa78b005",
   "metadata": {},
   "source": [
    "ヒストグラムによって一眼で3000から4000の区間の個体が多いことが読み取れます。 全体のデータの散らばりの程度についても大まかに把握することができます。\n",
    "\n",
    "次に、ヒストグラムと要約統計量との関係を見てみましょう。これらの関係を見ることで、データに対する理解が深まります。\n"
   ]
  },
  {
   "cell_type": "code",
   "execution_count": null,
   "id": "591b4298",
   "metadata": {
    "vscode": {
     "languageId": "r"
    }
   },
   "outputs": [],
   "source": [
    "p +\n",
    "  geom_vline(xintercept = mean(penguins$body_mass_g, na.rm = TRUE),\n",
    "             color = \"#0cb3d1\") +\n",
    "  geom_vline(xintercept = median(penguins$body_mass_g, na.rm = TRUE),\n",
    "             color = \"#f25d02\") +\n",
    "  geom_vline(xintercept = as.numeric(names(which.max(table(penguins$body_mass_g)))),\n",
    "             color = \"#f9f5ff\") +\n",
    "  geom_label(aes(4400, 20), \n",
    "             label = \"mean\", \n",
    "             color = \"#0cb3d1\",\n",
    "             show.legend = FALSE) +\n",
    "  geom_label(aes(4050, 50), \n",
    "             label = \"median\", \n",
    "             color = \"#f25d02\",\n",
    "             show.legend = FALSE) +\n",
    "  geom_label(aes(3600, 80), \n",
    "             label = \"mode\", \n",
    "             color = \"#f9f5ff\",\n",
    "             show.legend = FALSE)"
   ]
  },
  {
   "cell_type": "markdown",
   "id": "a4de519f",
   "metadata": {},
   "source": [
    "この図からわかることは代表値の並びが小さい方から最頻値、中央値、平均値の順に並んでいることです。ヒストグラムの形が左に長く伸びている（この様子を「裾を引いている」と言います）場合、代表値はこの順番に並ぶことが多くなります。\n",
    "\n",
    "## 箱ヒゲ図\n",
    "\n",
    "ヒストグラムの他に、グラフを用いたデータの散らばりを表現する方法として箱ヒゲ図があります。四角い箱の上下に髭ひげが伸びているような図であることから箱ヒゲ図と呼ばれます。 「箱」と「ヒゲ」を使った簡単な図ですが、データの分布だけでなく、四分位点も合わせて表示できる図となっています。\n",
    "\n",
    "箱ヒゲ図の作成手順は次の通りです。 箱ヒゲ図を作成するときは、データの区間と四分位点を求めることが必要になります。\n",
    "\n",
    "1. まず最小値・最大値から、グラフの縦軸にデータの値が収まるような値を設定します。\n",
    "2. 第1四分位点と第3四分位点の区間（四分位範囲）を「箱」としてグラフ上に描画します。\n",
    "3. 中央値は第1四分位点と第3四分位点の間の値となりますので、箱の中に中央値を太い線で描きます。\n",
    "4. 箱から箱の長さ（四分位範囲）の1.5倍を超す値を外れ値として点で描きます。\n",
    "5. 箱の上端・下端から、外れ値でないものの最大値と最小値を線で結び「ヒゲ」を作ります。\n",
    "\n",
    "![箱ヒゲ図の見方と作り方](https://uribo.github.io/tokupon_ds/images/how_to_make_boxplot.png)\n",
    "\n",
    "ペンギンデータの体重について箱ヒゲ図を作成してみます。箱とヒゲについての意味を理解しておく必要がありますが、ヒストグラムのようにデータの分布を確認することができる図となっています。\n"
   ]
  },
  {
   "cell_type": "code",
   "execution_count": null,
   "id": "5cd753aa",
   "metadata": {
    "vscode": {
     "languageId": "r"
    }
   },
   "outputs": [],
   "source": [
    "penguins |> \n",
    "  ggplot(aes(y = body_mass_g)) +\n",
    "  geom_boxplot() +\n",
    "  labs(title = \"南極に生息するペンギンの体重の箱ヒゲ図\")"
   ]
  },
  {
   "cell_type": "markdown",
   "id": "00f697da",
   "metadata": {},
   "source": [
    "箱ヒゲ図は複数データのばらつきを比較する際にも役立ちます。\n",
    "\n",
    "<!--\n",
    "ヒストグラムでは複数のデータを比較することが困難ですが、箱ヒゲ図では箱ヒゲを90度回転させて横に描画することで複数データの比較が容易になります。\n",
    "-->\n"
   ]
  },
  {
   "cell_type": "code",
   "execution_count": null,
   "id": "f7428cbf",
   "metadata": {
    "vscode": {
     "languageId": "r"
    }
   },
   "outputs": [],
   "source": [
    "# 分類群ごとの箱ヒゲ図を描画\n",
    "# あらかじめ中央値を計算し、グラフ上では中央値の並びで分類群が表示されるように\n",
    "# 調整しています。\n",
    "penguins |> \n",
    "  ggplot(aes(x = species, y = body_mass_g, color = species)) +\n",
    "  geom_boxplot() +\n",
    "  coord_flip() +\n",
    "  guides(color = \"none\") +\n",
    "  labs(title = \"南極に生息するペンギン種ごとの体重の箱ヒゲ図\")"
   ]
  },
  {
   "cell_type": "markdown",
   "id": "b78767bd",
   "metadata": {},
   "source": [
    "この図はペンギンデータの種類ごとに体重の箱ヒゲ図を作成したものです。箱ヒゲ図ではデータの散らばりが小さい場合には小さくなり、逆に散らばりが大きい時には大きくなります。このことから、ペンギンデータに含まれる3種のペンギンのうち、ジェンツーペンギン（`Gentoo`）の体重は個体差が大きく、ヒゲペンギン（`Chinstrap`）は種のばらつきが小さいことが読み取れます。"
   ]
  }
 ],
 "metadata": {
  "jupytext": {
   "formats": "ipynb,qmd",
   "text_representation": {
    "extension": ".qmd",
    "format_name": "quarto",
    "format_version": "1.0",
    "jupytext_version": "1.14.5"
   }
  },
  "kernelspec": {
   "display_name": "R",
   "language": "R",
   "name": "ir"
  },
  "language_info": {
   "codemirror_mode": "r",
   "file_extension": ".r",
   "mimetype": "text/x-r-source",
   "name": "R",
   "pygments_lexer": "r",
   "version": "4.4.0"
  }
 },
 "nbformat": 4,
 "nbformat_minor": 5
}
