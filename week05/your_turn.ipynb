{
 "cells": [
  {
   "cell_type": "raw",
   "id": "55ed9665",
   "metadata": {},
   "source": [
    "---\n",
    "title: 【課題】Rでのグラフ作成の基礎\n",
    "format: html\n",
    "keep-ipynb: true\n",
    "eval: false\n",
    "echo: true\n",
    "---"
   ]
  },
  {
   "cell_type": "markdown",
   "id": "fe81d3ff",
   "metadata": {},
   "source": [
    "::: {.callout-important}\n",
    "\n",
    "以下の2つの問題について、Rコードを記述してください。\n",
    "\n",
    ":::\n",
    "\n",
    "\n",
    "## 問題: 動物データ（df_aniaml）を用いて、体長と体重の散布図を描画せよ\n"
   ]
  },
  {
   "cell_type": "code",
   "execution_count": 1,
   "id": "ebae3782",
   "metadata": {},
   "outputs": [],
   "source": [
    "#| label: 動物データの読み込み\n",
    "df_animal <-\n",
    "  readr::read_csv(\"https://raw.githubusercontent.com/uribo/tokupon_ds/main/data-raw/tokushima_zoo_animals22.csv\", col_types = \"ccdd\")"
   ]
  },
  {
   "cell_type": "code",
   "execution_count": 2,
   "id": "9cda9cb2",
   "metadata": {},
   "outputs": [],
   "source": [
    "head(df_animal)"
   ]
  },
  {
   "cell_type": "markdown",
   "id": "16e6533d",
   "metadata": {},
   "source": [
    "- 動物データは `df_animal` としてデータフレーム形式で保存されている。\n",
    "- 体長は`body_length_cm`、体重は`body_weight_kg`として変数に記録されている。\n",
    "- 散布図はx軸に`body_length_cm`、y軸に`body_weight_kg`を与えること。\n"
   ]
  },
  {
   "cell_type": "code",
   "execution_count": 3,
   "id": "dc15caad",
   "metadata": {},
   "outputs": [],
   "source": [
    "# コードを記述してセルを実行"
   ]
  },
  {
   "cell_type": "markdown",
   "id": "82511e62",
   "metadata": {},
   "source": [
    "## 問題: 2009年から2020年の四国4県の人口の時系列での推移を適切な方法で可視化せよ。塗り分け、凡例の表示等により、グラフ上のデータがどの県を示すかわかるようにすること。\n"
   ]
  },
  {
   "cell_type": "code",
   "execution_count": 4,
   "id": "515ac3f4",
   "metadata": {},
   "outputs": [],
   "source": [
    "#| eval: false\n",
    "#| echo: true\n",
    "install.packages(\"zipangu\")\n",
    "install.packages(\"ssdse\", \n",
    "                 repos = c(\"https://uribo.r-universe.dev\", \"https://cloud.r-project.org\"))"
   ]
  },
  {
   "cell_type": "code",
   "execution_count": 5,
   "id": "SSDSE",
   "metadata": {},
   "outputs": [],
   "source": [
    "#| label: SSDSEデータの読み込み\n",
    "df_ssdse_b_shikoku <- \n",
    "  ssdse::read_ssdse_b(\"https://www.nstac.go.jp/sys/files/SSDSE-B-2023.csv\", \n",
    "                      lang = \"ja\",\n",
    "                      pack = FALSE) |>\n",
    "  dplyr::filter(`都道府県` %in% c(\"徳島県\", \"香川県\", \"愛媛県\", \"高知県\")) |> \n",
    "  dplyr::select(year = `SSDSE.B.2023`, \n",
    "                prefecture = `都道府県`,\n",
    "                population = `人口・世帯_総人口`) |> \n",
    "  dplyr::mutate(prefecture = zipangu::convert_prefecture(prefecture, to = \"roman\"))\n",
    "\n",
    "head(df_ssdse_b_tokushima, n = 3)"
   ]
  },
  {
   "cell_type": "code",
   "execution_count": 6,
   "id": "e709b7d9",
   "metadata": {},
   "outputs": [],
   "source": [
    "# コードを記述してセルを実行"
   ]
  }
 ],
 "metadata": {
  "jupytext": {
   "formats": "ipynb,qmd",
   "text_representation": {
    "extension": ".qmd",
    "format_name": "quarto",
    "format_version": "1.0",
    "jupytext_version": "1.14.5"
   }
  },
  "kernelspec": {
   "display_name": "R",
   "language": "R",
   "name": "ir"
  }
 },
 "nbformat": 4,
 "nbformat_minor": 5
}
