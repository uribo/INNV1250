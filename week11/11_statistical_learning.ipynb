{
 "cells": [
  {
   "cell_type": "raw",
   "id": "9b1761fd",
   "metadata": {},
   "source": [
    "---\n",
    "title: 統計的学習\n",
    "format: html\n",
    "lang: ja\n",
    "execute:\n",
    "  eval: true\n",
    "ascii: false\n",
    "keep-ipynb: true\n",
    "---"
   ]
  },
  {
   "cell_type": "code",
   "execution_count": null,
   "id": "78e8f5ff",
   "metadata": {
    "vscode": {
     "languageId": "r"
    }
   },
   "outputs": [],
   "source": [
    "#| eval: false\n",
    "#| echo: true\n",
    "install.packages(c(\"palmerpenguins\", \"tidymodels\"))"
   ]
  },
  {
   "cell_type": "markdown",
   "id": "ad3b62af",
   "metadata": {},
   "source": [
    "## 教師あり学習: ペンギンデータの性別を分類するモデル\n"
   ]
  },
  {
   "cell_type": "code",
   "execution_count": null,
   "id": "cb5e81e3",
   "metadata": {
    "vscode": {
     "languageId": "r"
    }
   },
   "outputs": [],
   "source": [
    "#| label: ペンギンデータの読み込み\n",
    "library(palmerpenguins)\n",
    "data(\"penguins\")"
   ]
  },
  {
   "cell_type": "code",
   "execution_count": null,
   "id": "fcb7d53e",
   "metadata": {
    "vscode": {
     "languageId": "r"
    }
   },
   "outputs": [],
   "source": [
    "library(tidymodels)\n",
    "library(dplyr, warn.conflicts = FALSE)\n",
    "penguins_df <- \n",
    "  penguins |> \n",
    "  # 性別が欠損値となる行を削除\n",
    "  filter(!is.na(sex)) |> \n",
    "  # モデル中で利用しない変数の除外\n",
    "  select(!c(year, island))"
   ]
  },
  {
   "cell_type": "markdown",
   "id": "ad4ffb6a",
   "metadata": {},
   "source": [
    "### データの可視化\n"
   ]
  },
  {
   "cell_type": "code",
   "execution_count": null,
   "id": "a40cd49a",
   "metadata": {
    "vscode": {
     "languageId": "r"
    }
   },
   "outputs": [],
   "source": [
    "library(ggplot2)\n",
    "\n",
    "penguins_df |> \n",
    "  ggplot(aes(flipper_length_mm, bill_length_mm, \n",
    "             color = body_mass_g, \n",
    "             shape = sex,\n",
    "             size = body_mass_g)) +\n",
    "  geom_point(alpha = 0.5) +\n",
    "  scale_color_viridis_c() +\n",
    "  facet_wrap(~species)"
   ]
  },
  {
   "cell_type": "markdown",
   "id": "0767cdc4",
   "metadata": {},
   "source": [
    "### データ分割\n",
    "\n",
    "\n",
    "データを訓練データとテストデータに分割する。各データに偏りがないように性別による層化抽出を行う。\n"
   ]
  },
  {
   "cell_type": "code",
   "execution_count": null,
   "id": "7d28059d",
   "metadata": {
    "vscode": {
     "languageId": "r"
    }
   },
   "outputs": [],
   "source": [
    "set.seed(123)\n",
    "# 性別を層とする層化抽出\n",
    "# ref) 第6回「データと確立」\n",
    "penguin_split <- \n",
    "  # 訓練データとテストデータの件数の比率をprop引数で指定\n",
    "  initial_split(penguins_df, strata = sex, prop = 3/4)\n",
    "penguin_train <- training(penguin_split)\n",
    "penguin_test <- testing(penguin_split)"
   ]
  },
  {
   "cell_type": "markdown",
   "id": "820ec5fb",
   "metadata": {},
   "source": [
    "元のデータ、訓練データ、テストデータの性別の頻度を確認する。\n"
   ]
  },
  {
   "cell_type": "code",
   "execution_count": null,
   "id": "931baa9f",
   "metadata": {
    "vscode": {
     "languageId": "r"
    }
   },
   "outputs": [],
   "source": [
    "count(penguins_df, sex)\n",
    "count(penguin_train, sex)\n",
    "count(penguin_test, sex)"
   ]
  },
  {
   "cell_type": "markdown",
   "id": "f1626c32",
   "metadata": {},
   "source": [
    "### 特徴量エンジニアリング\n",
    "\n",
    "次の特徴量エンジニアリングを行う。\n",
    "\n",
    "- データの標準化\n",
    "- カテゴリ変数のダミー変数化\n"
   ]
  },
  {
   "cell_type": "code",
   "execution_count": null,
   "id": "eb0474dc",
   "metadata": {
    "vscode": {
     "languageId": "r"
    }
   },
   "outputs": [],
   "source": [
    "penguins_rec <-\n",
    "  recipe(formula = sex ~ ., \n",
    "         data = penguin_train) |> \n",
    "  step_normalize(all_numeric()) |> \n",
    "  step_dummy(all_nominal(), -sex, one_hot = TRUE)"
   ]
  },
  {
   "cell_type": "code",
   "execution_count": null,
   "id": "037a5a3e",
   "metadata": {
    "vscode": {
     "languageId": "r"
    }
   },
   "outputs": [],
   "source": [
    "# 訓練データがどのように変換されるかを確認する\n",
    "head(bake(prep(penguins_rec), new_data = NULL))"
   ]
  },
  {
   "cell_type": "markdown",
   "id": "c9516c5d",
   "metadata": {},
   "source": [
    "### ロジスティック回帰\n",
    "\n",
    "リンク関数がロジットで、誤差構造が二項分布の場合の一般化線形モデルを構築する。\n"
   ]
  },
  {
   "cell_type": "code",
   "execution_count": null,
   "id": "e87b3e3f",
   "metadata": {
    "vscode": {
     "languageId": "r"
    }
   },
   "outputs": [],
   "source": [
    "glm_spec <- \n",
    "  logistic_reg() |>\n",
    "  set_engine(\"glm\")"
   ]
  },
  {
   "cell_type": "code",
   "execution_count": null,
   "id": "4820bbb2",
   "metadata": {
    "vscode": {
     "languageId": "r"
    }
   },
   "outputs": [],
   "source": [
    "penguin_wf <- \n",
    "  workflow() |> \n",
    "  add_model(glm_spec) |> \n",
    "  add_recipe(penguins_rec)"
   ]
  },
  {
   "cell_type": "markdown",
   "id": "754cedca",
   "metadata": {},
   "source": [
    "訓練データを用いてモデルを学習する。\n"
   ]
  },
  {
   "cell_type": "code",
   "execution_count": null,
   "id": "c0b84d33",
   "metadata": {
    "vscode": {
     "languageId": "r"
    }
   },
   "outputs": [],
   "source": [
    "penguins_fit <-\n",
    "  penguin_wf |> \n",
    "  fit(data = penguin_train)\n",
    "\n",
    "penguins_fit"
   ]
  },
  {
   "cell_type": "code",
   "execution_count": null,
   "id": "49ba9751",
   "metadata": {
    "vscode": {
     "languageId": "r"
    }
   },
   "outputs": [],
   "source": [
    "#| eval: false\n",
    "#| echo: true\n",
    "# 同じ結果となるのを確認\n",
    "glm(sex ~ .,\n",
    "    data = bake(prep(penguins_rec), new_data = NULL), \n",
    "    family = binomial(link = \"logit\"))"
   ]
  },
  {
   "cell_type": "markdown",
   "id": "8fe92595",
   "metadata": {},
   "source": [
    "学習したモデルを用いてテストデータから性別を予測する。\n"
   ]
  },
  {
   "cell_type": "code",
   "execution_count": null,
   "id": "cca7abe5",
   "metadata": {
    "vscode": {
     "languageId": "r"
    }
   },
   "outputs": [],
   "source": [
    "head(predict(penguins_fit, new_data = penguin_test))"
   ]
  },
  {
   "cell_type": "code",
   "execution_count": null,
   "id": "6cfadeaf",
   "metadata": {
    "vscode": {
     "languageId": "r"
    }
   },
   "outputs": [],
   "source": [
    "# 分類を誤ったデータを確認\n",
    "predict(penguins_fit, new_data = penguin_test) |> \n",
    "  bind_cols(penguin_test) |> \n",
    "  filter(.pred_class != sex)"
   ]
  },
  {
   "cell_type": "markdown",
   "id": "61c9816c",
   "metadata": {},
   "source": [
    "### 性能評価\n",
    "\n",
    "テストデータを用いて学習したモデルの性能を評価する。\n"
   ]
  },
  {
   "cell_type": "code",
   "execution_count": null,
   "id": "a327c123",
   "metadata": {
    "vscode": {
     "languageId": "r"
    }
   },
   "outputs": [],
   "source": [
    "# 評価関数accuracy()により正解率を求める\n",
    "# 正解率はモデルが正しく予測したデータの割合を示す\n",
    "augment(penguins_fit, new_data = penguin_test) |> \n",
    "  accuracy(truth = sex, estimate = .pred_class)"
   ]
  },
  {
   "cell_type": "markdown",
   "id": "0350a128",
   "metadata": {},
   "source": [
    "## 教師なし学習: k-平均法\n"
   ]
  },
  {
   "cell_type": "code",
   "execution_count": null,
   "id": "dd274dbe",
   "metadata": {
    "vscode": {
     "languageId": "r"
    }
   },
   "outputs": [],
   "source": [
    "df_animal_tiny <-\n",
    "  read.csv(\"https://raw.githubusercontent.com/uribo/tokupon_ds/main/data-raw/tokushima_zoo_animals22.csv\") |> \n",
    "  select(body_length_cm, weight_kg) |> \n",
    "  # 欠損値を含む行を削除\n",
    "  tidyr::drop_na()"
   ]
  },
  {
   "cell_type": "code",
   "execution_count": null,
   "id": "db34b8f1",
   "metadata": {
    "vscode": {
     "languageId": "r"
    }
   },
   "outputs": [],
   "source": [
    "# データの特徴からグループ分けを行いたい\n",
    "df_animal_tiny |> \n",
    "  ggplot() +\n",
    "  aes(body_length_cm, weight_kg) +\n",
    "  geom_point()"
   ]
  },
  {
   "cell_type": "markdown",
   "id": "0128d682",
   "metadata": {},
   "source": [
    "tidymodelsの枠組みでクラスタリングを扱うtidyclustパッケージで行う。\n"
   ]
  },
  {
   "cell_type": "code",
   "execution_count": null,
   "id": "754129c1",
   "metadata": {
    "vscode": {
     "languageId": "r"
    }
   },
   "outputs": [],
   "source": [
    "#| eval: false\n",
    "#| echo: true\n",
    "install.packages(c(\"tidyclust\"))"
   ]
  },
  {
   "cell_type": "code",
   "execution_count": null,
   "id": "3961229f",
   "metadata": {
    "vscode": {
     "languageId": "r"
    }
   },
   "outputs": [],
   "source": [
    "library(tidyclust)\n",
    "kmeans_spec <-\n",
    "  k_means(num_clusters = 4) |>\n",
    "  set_engine(\"stats\")\n",
    "kmeans_spec_fit <-\n",
    "  kmeans_spec |>\n",
    "  fit(~ ., data = df_animal_tiny)\n",
    "kmeans_spec_fit"
   ]
  },
  {
   "cell_type": "markdown",
   "id": "409ac8cc",
   "metadata": {},
   "source": [
    "クラスタリングの結果をプロットして確認する。\n"
   ]
  },
  {
   "cell_type": "code",
   "execution_count": null,
   "id": "15b1a93a",
   "metadata": {
    "vscode": {
     "languageId": "r"
    }
   },
   "outputs": [],
   "source": [
    "augment(kmeans_spec_fit,\n",
    "        df_animal_tiny) |>\n",
    "  ggplot() +\n",
    "  aes(x = body_length_cm, y = weight_kg, colour = .pred_cluster) +\n",
    "  geom_point()"
   ]
  }
 ],
 "metadata": {
  "jupytext": {
   "formats": "ipynb,qmd",
   "text_representation": {
    "extension": ".qmd",
    "format_name": "quarto",
    "format_version": "1.0",
    "jupytext_version": "1.14.5"
   }
  },
  "kernelspec": {
   "display_name": "R",
   "language": "R",
   "name": "ir"
  },
  "language_info": {
   "codemirror_mode": "r",
   "file_extension": ".r",
   "mimetype": "text/x-r-source",
   "name": "R",
   "pygments_lexer": "r",
   "version": "4.2.3"
  }
 },
 "nbformat": 4,
 "nbformat_minor": 5
}
