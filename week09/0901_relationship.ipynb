{
 "cells": [
  {
   "cell_type": "raw",
   "id": "fd80c0ff",
   "metadata": {},
   "source": [
    "---\n",
    "title: データの関係を見る\n",
    "format: html\n",
    "lang: ja\n",
    "ascii: false\n",
    "keep-ipynb: true\n",
    "---"
   ]
  },
  {
   "attachments": {},
   "cell_type": "markdown",
   "id": "4dd9932f",
   "metadata": {},
   "source": [
    "データ間の関係の理解、比較を行うことは、データサイエンスの中でも重要な意味をもちます。例えば、データの関係を理解することで、予測モデルを構築することが可能となります。また、データの比較を行うことで、データ間の特徴、特定の変数が他の変数にどのような影響を与えるか、を理解することができます。\n",
    "\n",
    "データの関係の把握・比較の方法は主に2つあります。1つは、データの可視化を行うことです。可視化を行うことで、データの傾向や関係を直感的に理解することができます。例えば連続値からなる2変数のグラフには散布図が利用して、データの分布傾向について理解を深めることが可能です。離散値の場合は、棒グラフや円グラフなどが用いられます。これらの可視化方法については[ggplot2を使ったデータ可視化の基礎](../week05/graph.qmd)で扱った通りです。\n",
    "\n",
    "もう1つのデータの関係の把握・比較の方法は、統計的な手法を用いることです。これには統計的仮説検定や相関分析などがあります。ここではまず、関係を調べる方法を紹介します。続いて、[データの比較を行う方法](0802_comparison.qmd)を扱います。\n"
   ]
  },
  {
   "cell_type": "code",
   "execution_count": null,
   "id": "505c2688",
   "metadata": {
    "vscode": {
     "languageId": "r"
    }
   },
   "outputs": [],
   "source": [
    "# 利用するパッケージの読み込み\n",
    "library(ggplot2)\n",
    "library(dplyr, warn.conflicts = FALSE)"
   ]
  },
  {
   "attachments": {},
   "cell_type": "markdown",
   "id": "a7a56acd",
   "metadata": {},
   "source": [
    "## 相関分析: 統計的手法を用いた比較\n",
    "\n",
    "データの比較・関係を把握するためには、統計的手法を用いることもできます。ここでは、相関分析を紹介します。\n",
    "\n",
    "相関分析は、2つの変数間の関係を数値化する手法です。例えば、南極に生育するペンギンのくちばしの長さと体重の関係を調べた際、次の散布図から、くちばしが長い個体では体重も大きい傾向にあることがわかります。一方、どの程度の関連性があるのかといったことは散布図だけではわかりません。そこで変数間の関係性の程度を示す統計量を求めることで、その関連性を評価できるようになります。\n"
   ]
  },
  {
   "cell_type": "code",
   "execution_count": null,
   "id": "50196c4d",
   "metadata": {
    "vscode": {
     "languageId": "r"
    }
   },
   "outputs": [],
   "source": [
    "# ペンギンデータの読み込み\n",
    "penguins <- \n",
    "  readr::read_csv(\"https://raw.githubusercontent.com/allisonhorst/palmerpenguins/main/inst/extdata/penguins.csv\",\n",
    "                  col_types = \"ccddddcd\")\n",
    "\n",
    "ggplot(data = penguins) +\n",
    "  aes(bill_length_mm, body_mass_g) + \n",
    "  geom_point()"
   ]
  },
  {
   "attachments": {},
   "cell_type": "markdown",
   "id": "9389f20a",
   "metadata": {},
   "source": [
    "### 共分散 (covariance)\n",
    "\n",
    "共分散は、2つの変数間の関係を数値化する手法の一つです。共分散は、2つの変数の偏差積の平均値を表現します。\n",
    "\n",
    "以下の式で2つの変数の間の共分散を求めることができます。\n",
    "\n",
    "$$\n",
    "\\begin{aligned}\n",
    "\\mathrm{cov}(X, Y) &= \\frac{1}{n}\\sum_{i=1}^{n}(x_i - \\bar{x})(y_i - \\bar{y}) \\\\\n",
    "&= \\frac{1}{n}\\sum_{i=1}^{n}x_iy_i - \\bar{x}\\bar{y}\n",
    "\\end{aligned}\n",
    "$$\n",
    "\n",
    "共分散の求め方を一つ一つ読み解いてみましょう。まず、この式で使われる記号を確認します。\n",
    "\n",
    "- $\\mathrm{cov}(X, Y)$ : 変数 $X$ と変数 $Y$ の共分散\n",
    "- $n$ : データの件数 \n",
    "- $x_i$ および $y_i$ : 変数 $X$ 、変数 $Y$ における $i$ 番目のデータ\n",
    "- $\\bar{x}$ と $\\bar{y}$ : 変数 $X$ 、変数 $Y$ それぞれの平均値\n",
    "\n",
    "偏差とは、平均値からのズレを表します。\n",
    "\n",
    "ここでは、共分散を用いて、くちばしの長さと体重の関係を数値化してみましょう。\n"
   ]
  },
  {
   "cell_type": "code",
   "execution_count": null,
   "id": "8e35c4bd",
   "metadata": {
    "vscode": {
     "languageId": "r"
    }
   },
   "outputs": [],
   "source": [
    "df <- \n",
    "  penguins |> \n",
    "  select(bill_length_mm, body_mass_g) |> \n",
    "  filter(!is.na(bill_length_mm), !is.na(body_mass_g))\n",
    "\n",
    "X <- df$bill_length_mm\n",
    "Y <- df$body_mass_g\n",
    "\n",
    "mean_x <- mean(df$bill_length_mm, na.rm = TRUE)\n",
    "mean_y <- mean(df$body_mass_g, na.rm = TRUE)\n",
    "\n",
    "sum((X - mean_x) * (Y - mean_y)) / nrow(df)\n",
    "\n",
    "sum(sum(X - mean_x, na.rm = TRUE) * sum(Y - mean_y, na.rm = TRUE))\n",
    "\n",
    "sum((X * Y) - mean_x * mean_y, na.rm = TRUE) / (nrow(penguins) -1)"
   ]
  },
  {
   "cell_type": "code",
   "execution_count": null,
   "id": "35f953f4",
   "metadata": {
    "vscode": {
     "languageId": "r"
    }
   },
   "outputs": [],
   "source": [
    "# 平均、偏差を求める\n",
    "df <- \n",
    "  df |> \n",
    "  mutate(across(everything(),.fns = ~ mean(.x, na.rm = TRUE), .names = \"{.col}_mean\")) |> \n",
    "  rowwise() |> \n",
    "  mutate(bill_length_deviation = bill_length_mm - bill_length_mm_mean,\n",
    "         body_mass_deviation = body_mass_g - body_mass_g_mean)\n",
    "\n",
    "df"
   ]
  },
  {
   "cell_type": "code",
   "execution_count": null,
   "id": "cf1cf884",
   "metadata": {
    "vscode": {
     "languageId": "r"
    }
   },
   "outputs": [],
   "source": [
    "df |> \n",
    "  transmute(deviation_cross = bill_length_deviation * body_mass_deviation) |> \n",
    "  ungroup() |> \n",
    "  pull(deviation_cross) |> \n",
    "  sum(na.rm = TRUE) / nrow(df)"
   ]
  },
  {
   "attachments": {},
   "cell_type": "markdown",
   "id": "225be975",
   "metadata": {},
   "source": [
    "ただいまの共分散の算出では、最終的にデータの件数 $n$ によって割りました。 しかしRの標準的な偏差を求める関数`cov()`は $n -1$ で割る処理を行います。 この方法で求めれらる共分散は不偏共分散と呼ばれるものです。\n"
   ]
  },
  {
   "cell_type": "code",
   "execution_count": null,
   "id": "358dd1c5",
   "metadata": {
    "vscode": {
     "languageId": "r"
    }
   },
   "outputs": [],
   "source": [
    "#| label: くちばしの長さと体重の共分散\n",
    "#| eval: true\n",
    "cov(df$bill_length_mm, df$body_mass_g, use = \"complete.obs\")"
   ]
  },
  {
   "attachments": {},
   "cell_type": "markdown",
   "id": "5fae022c",
   "metadata": {},
   "source": [
    "$n$ で割る共分散を知りたい場合は次のようにします。\n"
   ]
  },
  {
   "cell_type": "code",
   "execution_count": null,
   "id": "e70cf16d",
   "metadata": {
    "vscode": {
     "languageId": "r"
    }
   },
   "outputs": [],
   "source": [
    "cov(df$bill_length_mm, df$body_mass_g) * (nrow(df)-1) / nrow(df)"
   ]
  },
  {
   "attachments": {},
   "cell_type": "markdown",
   "id": "633b9346",
   "metadata": {},
   "source": [
    "共分散は、2つの変数の関係を表す指標です。共分散が正の値をとる場合は、2つの変数は正の相関があることを表します。共分散が負の値をとる場合は、2つの変数は負の相関があることを表します。共分散が0の場合は、2つの変数は相関がないことを表します。また、値の絶対値が大きいほど、2つの変数の関係が強いことを表します。ただし、共分散は、2つの変数の単位に依存するため、標準化による単位の統一や単位に依存しない相関係数を用いることが多いです。\n",
    "\n",
    "ペンギンデータの場合、くちばしの長さはmm、体重はkgで記録されています。そのため、同じmm単位で記録されたくちばしの長さとくちばしの太さの共分散と比較すると、共分散の値が大きくなってしまいます。そこで、くちばしの長さと体重を標準化して共分散を求めてみましょう。\n"
   ]
  },
  {
   "cell_type": "code",
   "execution_count": null,
   "id": "3f4a205e",
   "metadata": {
    "vscode": {
     "languageId": "r"
    }
   },
   "outputs": [],
   "source": [
    "# 共通の単位で記録された2変数の共分散\n",
    "cov(penguins$bill_length_mm, penguins$bill_depth_mm, use = \"complete.obs\")"
   ]
  },
  {
   "cell_type": "code",
   "execution_count": null,
   "id": "b51472f7",
   "metadata": {
    "vscode": {
     "languageId": "r"
    }
   },
   "outputs": [],
   "source": [
    "#| label: くちばしの長さと体重の標準化をおこなった共分散\n",
    "cov(scale(penguins$bill_length_mm), scale(penguins$body_mass_g), use = \"complete.obs\")"
   ]
  },
  {
   "cell_type": "code",
   "execution_count": null,
   "id": "98c29fb6",
   "metadata": {
    "vscode": {
     "languageId": "r"
    }
   },
   "outputs": [],
   "source": [
    "cov(scale(penguins$bill_length_mm), scale(penguins$bill_depth_mm), use = \"complete.obs\")"
   ]
  },
  {
   "attachments": {},
   "cell_type": "markdown",
   "id": "046f7a60",
   "metadata": {},
   "source": [
    "標準化された変数による共分散の値を比較することで、くちばしの長さと体重の関係がくちばしの長さとくちばしの太さの関係よりも強いことがわかります。\n",
    "\n",
    "共分散の単位依存の問題は、標準化によって解決できますが、共分散の絶対値が大きくなるという問題は解決できません。そこで、2変数の関係の大きさを一定の範囲に収めるために、相関係数を用います。\n",
    "\n",
    "### 相関係数 (Correlation coefficient)\n",
    "\n",
    "共分散の単位依存の性質は、共分散 $cov(x, y)$ を各変数の標準偏差 $\\sigma$ の積で割ることで解消できます。これを相関係数と呼びます。相関係数は次の式で定義されます。\n",
    "\n",
    "$$\n",
    "r_{xy} = \\frac{cov(x, y)}{\\sigma_x \\sigma_y}\n",
    "$$\n",
    "\n",
    "ペンギンデータのくちばしの長さと体重について、共分散はさきほど計算したので、標準偏差を求めて相関係数の計算をしてみましょう。\n"
   ]
  },
  {
   "cell_type": "code",
   "execution_count": null,
   "id": "026b43c2",
   "metadata": {
    "vscode": {
     "languageId": "r"
    }
   },
   "outputs": [],
   "source": [
    "#| label: くちばしの長さと体重の相関係数\n",
    "# 標準偏差の計算\n",
    "bill_length_sd <- sd(df$bill_length_mm, na.rm = TRUE)\n",
    "body_mass_sd <- sd(df$body_mass_g, na.rm = TRUE)\n",
    "\n",
    "# 相関係数の計算\n",
    "cov(df$bill_length_mm, df$body_mass_g, use = \"complete.obs\") / (bill_length_sd * body_mass_sd)"
   ]
  },
  {
   "attachments": {},
   "cell_type": "markdown",
   "id": "f3b16162",
   "metadata": {},
   "source": [
    "相関係数はデータの測定単位や標準化の有無に依存しない、2つの変数の間の直線的な関係の強さを評価する指標となります。-1以上から1以下の値をとり、散布図にしたときに直線関係に近いもの、言い換えると変数の関係が強いほど、絶対値が1に近づきます。\n",
    "\n",
    "相関係数にはいくつかの種類があり、中でもピアソンの積率相関係数が最も頻繁に利用されます。\n"
   ]
  },
  {
   "cell_type": "code",
   "execution_count": null,
   "id": "c2ea9d76",
   "metadata": {
    "vscode": {
     "languageId": "r"
    }
   },
   "outputs": [],
   "source": [
    "#| label: 体長と体重の相関係数\n",
    "# 体長と体重の相関係数\n",
    "cor(df$bill_length_mm, df$body_mass_g, use = \"complete.obs\")"
   ]
  },
  {
   "attachments": {},
   "cell_type": "markdown",
   "id": "1c3095ed",
   "metadata": {},
   "source": [
    "この値は正の値であるので、正の相関であることがわかります。一方で変数の関係の強さとしてはどの程度でしょうか。相関係数の判断基準として以下の目安が一般的に使われています。 0.59は「やや強い相関がある」と言えることがわかりました。\n"
   ]
  },
  {
   "cell_type": "code",
   "execution_count": null,
   "id": "37fddf11",
   "metadata": {
    "vscode": {
     "languageId": "r"
    }
   },
   "outputs": [],
   "source": [
    "#| label: 相関係数の目安\n",
    "#| eval: true\n",
    "#| echo: false\n",
    "tibble::tribble(\n",
    "  ~相関係数, ~相関の強さ,\n",
    "  \"\\u00b10.7以上\", \"とても強い\",\n",
    "  \"\\u00b10.4~0.7\", \"やや強い\",\n",
    "  \"\\u00b10.2~0.4\", \"弱い\",\n",
    "  \"\\u00b10.2以下\", \"ほとんどなし\")"
   ]
  },
  {
   "cell_type": "code",
   "execution_count": null,
   "id": "c5c50efc",
   "metadata": {
    "vscode": {
     "languageId": "r"
    }
   },
   "outputs": [],
   "source": [
    "#| label: くちばしの長さと体重の相関分析\n",
    "cor.test(df$bill_length_mm, df$body_mass_g)"
   ]
  },
  {
   "attachments": {},
   "cell_type": "markdown",
   "id": "dc6c188f",
   "metadata": {},
   "source": [
    "相関係数は関係の強さを示す指標であって変数間の因果関係を示すものではありません。どんな変数間であろうと相関係数は必ず出る点も気にしておきましょう。2つの変数に対する関係として、片方の変数からもう片方の変数を説明することには回帰分析を実行する必要があります。\n",
    "\n",
    "<!-- \n",
    "外れ値に注意、2変数間の関係が直線的でないとき（アンスコムの例）\n",
    "\n",
    "因果関係との違い\n",
    "\n",
    "見せかけの相関\n",
    "\n",
    "「一人当たりのチョコレート消費量とノーベル賞受賞者数の相関」など\n",
    "-->\n",
    "\n",
    "#### 相関係数行列\n",
    "\n",
    "相関係数行列は、複数の変数間の相関係数をまとめて表現した行列です。Rでは、`cor()`関数を使用して、相関係数行列を求めることができます。\n"
   ]
  },
  {
   "cell_type": "code",
   "execution_count": null,
   "id": "26eb9a15",
   "metadata": {
    "vscode": {
     "languageId": "r"
    }
   },
   "outputs": [],
   "source": [
    "cor(penguins[, c(\"bill_length_mm\", \"bill_depth_mm\", \"flipper_length_mm\", \"body_mass_g\")], use = \"complete.obs\")"
   ]
  },
  {
   "attachments": {},
   "cell_type": "markdown",
   "id": "3c8b854a",
   "metadata": {},
   "source": [
    "相関行列を可視化することで、複数の変数間の相関関係を直感的に理解することができます。Rでは、corrplotパッケージの`corrplot()`関数を使用して、相関係数行列を可視化することができます。\n"
   ]
  },
  {
   "cell_type": "code",
   "execution_count": null,
   "id": "corrplot",
   "metadata": {
    "vscode": {
     "languageId": "r"
    }
   },
   "outputs": [],
   "source": [
    "#| eval: false\n",
    "#| echo: true\n",
    "#| label: corrplotパッケージのインストール\n",
    "install.packages(\"corrplot\")"
   ]
  },
  {
   "cell_type": "code",
   "execution_count": null,
   "id": "6c75ad20",
   "metadata": {
    "vscode": {
     "languageId": "r"
    }
   },
   "outputs": [],
   "source": [
    "library(corrplot)\n",
    "corrplot(cor(penguins[, c(\"bill_length_mm\", \"bill_depth_mm\", \"flipper_length_mm\", \"body_mass_g\")], use = \"complete.obs\"))"
   ]
  },
  {
   "attachments": {},
   "cell_type": "markdown",
   "id": "167dba66",
   "metadata": {},
   "source": [
    "出力される円の大きさとその色を比較することで、相関係数の値を直感的に理解することができます。ここでは円の大きさは、相関係数の絶対値の大きさを表します。円の色は、相関係数の符号を表します。青色は正の相関を、赤色は負の相関を表します。円の色の濃さは、相関係数の絶対値の大きさを表します。円の色の濃さが濃いほど相関係数の絶対値が大きいことを表します。\n",
    "\n",
    "#### 相関係数の信頼区間\n",
    "\n",
    "相関係数の信頼区間を求めることで、相関係数の値が信頼できるかどうかを判断することができます。相関係数の信頼区間は、以下の式で求めることができます。\n",
    "\n",
    "$$\n",
    "\\begin{aligned}\n",
    "\\mathrm{CI} &= \\mathrm{r} \\pm \\mathrm{t}_{\\mathrm{df}} \\times \\frac{1}{\\sqrt{n - 2}} \\\\\n",
    "\\mathrm{df} &= n - 2\n",
    "\\end{aligned}\n",
    "$$\n",
    "\n",
    "ここで、$\\mathrm{CI}$は相関係数の信頼区間、$\\mathrm{r}$は相関係数、$\\mathrm{t}_{\\mathrm{df}}$は自由度$\\mathrm{df}$の$t$分布の上側確率$P$における値、$n$はデータの件数を表します。自由度$\\mathrm{df}$は、データの件数$n$から2を引いた値です。自由度$\\mathrm{df}$の$t$分布の上側確率$P$における値は、以下の式で求めることができます。\n",
    "\n",
    "$$\n",
    "\\mathrm{t}_{\\mathrm{df}} = \\mathrm{qt}(P, \\mathrm{df})\n",
    "$$\n",
    "\n",
    "ここで、$\\mathrm{qt}(P, \\mathrm{df})$は、自由度$\\mathrm{df}$の$t$分布の上側確率$P$における値を求める関数です。R言語では、`qt()`関数を使用して、自由度$\\mathrm{df}$の$t$分布の上側確率$P$における値を求めることができます。\n"
   ]
  },
  {
   "cell_type": "code",
   "execution_count": null,
   "id": "3c74e120",
   "metadata": {
    "vscode": {
     "languageId": "r"
    }
   },
   "outputs": [],
   "source": [
    "qt(0.975, 10)"
   ]
  }
 ],
 "metadata": {
  "jupytext": {
   "formats": "ipynb,qmd",
   "text_representation": {
    "extension": ".qmd",
    "format_name": "quarto",
    "format_version": "1.0",
    "jupytext_version": "1.14.5"
   }
  },
  "kernelspec": {
   "display_name": "R",
   "language": "R",
   "name": "ir"
  },
  "language_info": {
   "codemirror_mode": "r",
   "file_extension": ".r",
   "mimetype": "text/x-r-source",
   "name": "R",
   "pygments_lexer": "r",
   "version": "4.2.3"
  }
 },
 "nbformat": 4,
 "nbformat_minor": 5
}
