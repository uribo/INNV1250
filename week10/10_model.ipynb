{
 "cells": [
  {
   "cell_type": "raw",
   "id": "6f33d414",
   "metadata": {},
   "source": [
    "---\n",
    "title: 統計モデリング\n",
    "format: html\n",
    "lang: ja\n",
    "execute:\n",
    "  eval: false\n",
    "ascii: false\n",
    "keep-ipynb: true\n",
    "---"
   ]
  },
  {
   "cell_type": "markdown",
   "id": "8a2f6e52",
   "metadata": {},
   "source": [
    "## 線形モデル\n",
    "\n",
    "### 単回帰モデル\n"
   ]
  },
  {
   "cell_type": "code",
   "execution_count": 1,
   "id": "52da6f8f",
   "metadata": {},
   "outputs": [],
   "source": [
    "# 気温のデータを作成\n",
    "temperature <- seq(18, 40, 4)\n",
    "# アイスクリームの売り上げのデータを作成\n",
    "icecream_sales <- c(28, 45, 72, 82, 96, 100)"
   ]
  },
  {
   "cell_type": "code",
   "execution_count": 2,
   "id": "321ce2d9",
   "metadata": {},
   "outputs": [],
   "source": [
    "# 散布図の作成\n",
    "plot(temperature, icecream_sales)"
   ]
  },
  {
   "cell_type": "code",
   "execution_count": 3,
   "id": "9490bba1",
   "metadata": {},
   "outputs": [],
   "source": [
    "#| eval: false\n",
    "#| echo: true\n",
    "# 単回帰モデルの構築\n",
    "# lm()関数の引数に 目的変数 ~ 説明変数 の形式で指定する\n",
    "model <- lm(formula = ___ + ___)"
   ]
  },
  {
   "cell_type": "code",
   "execution_count": 4,
   "id": "9719416c",
   "metadata": {},
   "outputs": [],
   "source": [
    "#| eval: false\n",
    "#| echo: true\n",
    "# intercept... 切片\n",
    "# coefficient... 傾き（係数）\n",
    "coefficients(model)"
   ]
  },
  {
   "cell_type": "code",
   "execution_count": 5,
   "id": "a76e11da",
   "metadata": {},
   "outputs": [],
   "source": [
    "# 回帰直線の追加\n",
    "plot(temperature, icecream_sales)\n",
    "abline(model)"
   ]
  },
  {
   "cell_type": "code",
   "execution_count": 6,
   "id": "6867db02",
   "metadata": {},
   "outputs": [],
   "source": [
    "# 新たなデータに対する予測\n",
    "predict(model, data.frame(temperature = 30))"
   ]
  },
  {
   "cell_type": "code",
   "execution_count": 7,
   "id": "8291e348",
   "metadata": {},
   "outputs": [],
   "source": [
    "# p値を含む結果の出力\n",
    "summary(model)"
   ]
  },
  {
   "cell_type": "markdown",
   "id": "87660138",
   "metadata": {},
   "source": [
    "### 重回帰モデル\n"
   ]
  },
  {
   "cell_type": "code",
   "execution_count": 8,
   "id": "f0522167",
   "metadata": {},
   "outputs": [],
   "source": [
    "# 重回帰モデルの構築\n",
    "humidity <- c(0.65, 0.8, 0.75, 0.85, 0.9, 0.8)\n",
    "wind_speed <- c(2, 3, 4, 6, 3, 1)\n",
    "model <- lm(icecream_sales ~ temperature + humidity + wind_speed)\n",
    "\n",
    "coefficients(model)\n",
    "\n",
    "summary(model)"
   ]
  },
  {
   "cell_type": "markdown",
   "id": "b08f7476",
   "metadata": {},
   "source": [
    "## 一般化線形モデル\n"
   ]
  },
  {
   "cell_type": "code",
   "execution_count": 9,
   "id": "05de5c11",
   "metadata": {},
   "outputs": [],
   "source": [
    "# 『データ解析のための統計モデリング入門』（久保2012）からデータを利用\n",
    "# 植物の種子数と体サイズについての架空のデータ\n",
    "d <- read.csv(\"https://kuboweb.github.io/-kubo/stat/iwanamibook/fig/poisson/data3a.csv\")\n",
    "\n",
    "head(d)\n",
    "# y... 植物の種子数\n",
    "# x... 体サイズ\n",
    "# f... 施肥処理（c... 処理なし、t... 処理あり）"
   ]
  },
  {
   "cell_type": "code",
   "execution_count": 10,
   "id": "f66ed9a2",
   "metadata": {},
   "outputs": [],
   "source": [
    "model <- glm(formula = ___, data = ___)\n",
    "summary(model)"
   ]
  },
  {
   "cell_type": "code",
   "execution_count": 11,
   "id": "cdbc719b",
   "metadata": {},
   "outputs": [],
   "source": [
    "predict(model, newdata = data.frame(x = 12, f = \"C\"), type = \"response\")\n",
    "predict(model, newdata = data.frame(x = 12, f = \"T\"), type = \"response\")"
   ]
  }
 ],
 "metadata": {
  "jupytext": {
   "formats": "ipynb,qmd",
   "text_representation": {
    "extension": ".qmd",
    "format_name": "quarto",
    "format_version": "1.0",
    "jupytext_version": "1.14.5"
   }
  },
  "kernelspec": {
   "display_name": "R",
   "language": "R",
   "name": "ir"
  },
  "language_info": {
   "codemirror_mode": "r",
   "file_extension": ".r",
   "mimetype": "text/x-r-source",
   "name": "R",
   "pygments_lexer": "r",
   "version": "4.2.3"
  }
 },
 "nbformat": 4,
 "nbformat_minor": 5
}
